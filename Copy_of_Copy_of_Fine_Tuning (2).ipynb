{
  "nbformat": 4,
  "nbformat_minor": 0,
  "metadata": {
    "colab": {
      "name": "Copy of Copy of Fine-Tuning",
      "provenance": [],
      "collapsed_sections": []
    },
    "kernelspec": {
      "name": "python3",
      "display_name": "Python 3"
    },
    "accelerator": "GPU"
  },
  "cells": [
    {
      "cell_type": "code",
      "metadata": {
        "id": "-W9sezYHVS5L",
        "colab": {
          "base_uri": "https://localhost:8080/"
        },
        "outputId": "eef5964e-d7a6-499f-96ff-b8fee25e73de"
      },
      "source": [
        "from google.colab import drive\n",
        "drive.mount('/content/drive')"
      ],
      "execution_count": null,
      "outputs": [
        {
          "output_type": "stream",
          "text": [
            "Mounted at /content/drive\n"
          ],
          "name": "stdout"
        }
      ]
    },
    {
      "cell_type": "code",
      "metadata": {
        "id": "LMVJWIlJsEbG",
        "colab": {
          "base_uri": "https://localhost:8080/"
        },
        "outputId": "cc53d514-360c-43d8-c1e8-80ceaa70f396"
      },
      "source": [
        "pip install torch==1.6.0+cu101 torchvision==0.8.1+cu101 torchaudio===0.7.0 -f https://download.pytorch.org/whl/torch_stable.html"
      ],
      "execution_count": null,
      "outputs": [
        {
          "output_type": "stream",
          "text": [
            "Looking in links: https://download.pytorch.org/whl/torch_stable.html\n",
            "Collecting torch==1.6.0+cu101\n",
            "\u001b[?25l  Downloading https://download.pytorch.org/whl/cu101/torch-1.6.0%2Bcu101-cp37-cp37m-linux_x86_64.whl (708.0MB)\n",
            "\u001b[K     |████████████████████████████████| 708.0MB 25kB/s \n",
            "\u001b[?25hCollecting torchvision==0.8.1+cu101\n",
            "\u001b[?25l  Downloading https://download.pytorch.org/whl/cu101/torchvision-0.8.1%2Bcu101-cp37-cp37m-linux_x86_64.whl (12.7MB)\n",
            "\u001b[K     |████████████████████████████████| 12.7MB 53.9MB/s \n",
            "\u001b[?25hCollecting torchaudio===0.7.0\n",
            "\u001b[?25l  Downloading https://files.pythonhosted.org/packages/5d/75/5ce994c76cf7b53ff8c577d7a8221fa0c9dfe9e34c0536c6eaf3e466788a/torchaudio-0.7.0-cp37-cp37m-manylinux1_x86_64.whl (7.6MB)\n",
            "\u001b[K     |████████████████████████████████| 7.6MB 8.4MB/s \n",
            "\u001b[?25hRequirement already satisfied: future in /usr/local/lib/python3.7/dist-packages (from torch==1.6.0+cu101) (0.16.0)\n",
            "Requirement already satisfied: numpy in /usr/local/lib/python3.7/dist-packages (from torch==1.6.0+cu101) (1.19.5)\n",
            "Requirement already satisfied: pillow>=4.1.1 in /usr/local/lib/python3.7/dist-packages (from torchvision==0.8.1+cu101) (7.1.2)\n",
            "\u001b[31mERROR: torchvision 0.8.1+cu101 has requirement torch==1.7.0, but you'll have torch 1.6.0+cu101 which is incompatible.\u001b[0m\n",
            "\u001b[31mERROR: torchtext 0.9.1 has requirement torch==1.8.1, but you'll have torch 1.6.0+cu101 which is incompatible.\u001b[0m\n",
            "\u001b[31mERROR: torchaudio 0.7.0 has requirement torch==1.7.0, but you'll have torch 1.6.0+cu101 which is incompatible.\u001b[0m\n",
            "Installing collected packages: torch, torchvision, torchaudio\n",
            "  Found existing installation: torch 1.8.1+cu101\n",
            "    Uninstalling torch-1.8.1+cu101:\n",
            "      Successfully uninstalled torch-1.8.1+cu101\n",
            "  Found existing installation: torchvision 0.9.1+cu101\n",
            "    Uninstalling torchvision-0.9.1+cu101:\n",
            "      Successfully uninstalled torchvision-0.9.1+cu101\n",
            "Successfully installed torch-1.6.0+cu101 torchaudio-0.7.0 torchvision-0.8.1+cu101\n"
          ],
          "name": "stdout"
        }
      ]
    },
    {
      "cell_type": "code",
      "metadata": {
        "id": "bXKYWr5qsEli",
        "colab": {
          "base_uri": "https://localhost:8080/"
        },
        "outputId": "b735adf1-c312-435f-8a51-d92e26e748b6"
      },
      "source": [
        "import torch\n",
        "import numpy as np\n",
        "import pandas as pd\n",
        "from collections import OrderedDict\n",
        "#from pytorch_transformers import BertTokenizer, BertConfig\n",
        "#from pytorch_transformers import BertTokenizer, BertModel, BertForMaskedLM\n",
        "import torch\n",
        "import logging\n",
        "import matplotlib.pyplot as plt\n",
        "import torch.nn as nn\n",
        "import torch.nn.functional as F\n",
        "import nltk\n",
        "import torch.optim as optim\n",
        "print(torch.__version__)"
      ],
      "execution_count": null,
      "outputs": [
        {
          "output_type": "stream",
          "text": [
            "1.6.0+cu101\n"
          ],
          "name": "stdout"
        }
      ]
    },
    {
      "cell_type": "code",
      "metadata": {
        "id": "tOOVlrXEsEo3",
        "colab": {
          "base_uri": "https://localhost:8080/"
        },
        "outputId": "9b7a0aa5-66ef-4ee8-c426-d5ba035e5a3f"
      },
      "source": [
        "nltk.download('punkt')\n",
        "\n"
      ],
      "execution_count": null,
      "outputs": [
        {
          "output_type": "stream",
          "text": [
            "[nltk_data] Downloading package punkt to /root/nltk_data...\n",
            "[nltk_data]   Unzipping tokenizers/punkt.zip.\n"
          ],
          "name": "stdout"
        },
        {
          "output_type": "execute_result",
          "data": {
            "text/plain": [
              "True"
            ]
          },
          "metadata": {
            "tags": []
          },
          "execution_count": 4
        }
      ]
    },
    {
      "cell_type": "code",
      "metadata": {
        "id": "PLGYsmRo7xum",
        "colab": {
          "base_uri": "https://localhost:8080/"
        },
        "outputId": "bdb96ce4-29ae-42e5-eecc-69101ef75e33"
      },
      "source": [
        "pip install sacremoses\n"
      ],
      "execution_count": null,
      "outputs": [
        {
          "output_type": "stream",
          "text": [
            "Collecting sacremoses\n",
            "\u001b[?25l  Downloading https://files.pythonhosted.org/packages/75/ee/67241dc87f266093c533a2d4d3d69438e57d7a90abb216fa076e7d475d4a/sacremoses-0.0.45-py3-none-any.whl (895kB)\n",
            "\r\u001b[K     |▍                               | 10kB 18.9MB/s eta 0:00:01\r\u001b[K     |▊                               | 20kB 19.4MB/s eta 0:00:01\r\u001b[K     |█                               | 30kB 11.0MB/s eta 0:00:01\r\u001b[K     |█▌                              | 40kB 8.8MB/s eta 0:00:01\r\u001b[K     |█▉                              | 51kB 7.8MB/s eta 0:00:01\r\u001b[K     |██▏                             | 61kB 8.0MB/s eta 0:00:01\r\u001b[K     |██▋                             | 71kB 8.7MB/s eta 0:00:01\r\u001b[K     |███                             | 81kB 8.2MB/s eta 0:00:01\r\u001b[K     |███▎                            | 92kB 8.6MB/s eta 0:00:01\r\u001b[K     |███▋                            | 102kB 8.7MB/s eta 0:00:01\r\u001b[K     |████                            | 112kB 8.7MB/s eta 0:00:01\r\u001b[K     |████▍                           | 122kB 8.7MB/s eta 0:00:01\r\u001b[K     |████▊                           | 133kB 8.7MB/s eta 0:00:01\r\u001b[K     |█████▏                          | 143kB 8.7MB/s eta 0:00:01\r\u001b[K     |█████▌                          | 153kB 8.7MB/s eta 0:00:01\r\u001b[K     |█████▉                          | 163kB 8.7MB/s eta 0:00:01\r\u001b[K     |██████▎                         | 174kB 8.7MB/s eta 0:00:01\r\u001b[K     |██████▋                         | 184kB 8.7MB/s eta 0:00:01\r\u001b[K     |███████                         | 194kB 8.7MB/s eta 0:00:01\r\u001b[K     |███████▎                        | 204kB 8.7MB/s eta 0:00:01\r\u001b[K     |███████▊                        | 215kB 8.7MB/s eta 0:00:01\r\u001b[K     |████████                        | 225kB 8.7MB/s eta 0:00:01\r\u001b[K     |████████▍                       | 235kB 8.7MB/s eta 0:00:01\r\u001b[K     |████████▉                       | 245kB 8.7MB/s eta 0:00:01\r\u001b[K     |█████████▏                      | 256kB 8.7MB/s eta 0:00:01\r\u001b[K     |█████████▌                      | 266kB 8.7MB/s eta 0:00:01\r\u001b[K     |█████████▉                      | 276kB 8.7MB/s eta 0:00:01\r\u001b[K     |██████████▎                     | 286kB 8.7MB/s eta 0:00:01\r\u001b[K     |██████████▋                     | 296kB 8.7MB/s eta 0:00:01\r\u001b[K     |███████████                     | 307kB 8.7MB/s eta 0:00:01\r\u001b[K     |███████████▍                    | 317kB 8.7MB/s eta 0:00:01\r\u001b[K     |███████████▊                    | 327kB 8.7MB/s eta 0:00:01\r\u001b[K     |████████████                    | 337kB 8.7MB/s eta 0:00:01\r\u001b[K     |████████████▌                   | 348kB 8.7MB/s eta 0:00:01\r\u001b[K     |████████████▉                   | 358kB 8.7MB/s eta 0:00:01\r\u001b[K     |█████████████▏                  | 368kB 8.7MB/s eta 0:00:01\r\u001b[K     |█████████████▌                  | 378kB 8.7MB/s eta 0:00:01\r\u001b[K     |██████████████                  | 389kB 8.7MB/s eta 0:00:01\r\u001b[K     |██████████████▎                 | 399kB 8.7MB/s eta 0:00:01\r\u001b[K     |██████████████▋                 | 409kB 8.7MB/s eta 0:00:01\r\u001b[K     |███████████████                 | 419kB 8.7MB/s eta 0:00:01\r\u001b[K     |███████████████▍                | 430kB 8.7MB/s eta 0:00:01\r\u001b[K     |███████████████▊                | 440kB 8.7MB/s eta 0:00:01\r\u001b[K     |████████████████                | 450kB 8.7MB/s eta 0:00:01\r\u001b[K     |████████████████▌               | 460kB 8.7MB/s eta 0:00:01\r\u001b[K     |████████████████▉               | 471kB 8.7MB/s eta 0:00:01\r\u001b[K     |█████████████████▏              | 481kB 8.7MB/s eta 0:00:01\r\u001b[K     |█████████████████▋              | 491kB 8.7MB/s eta 0:00:01\r\u001b[K     |██████████████████              | 501kB 8.7MB/s eta 0:00:01\r\u001b[K     |██████████████████▎             | 512kB 8.7MB/s eta 0:00:01\r\u001b[K     |██████████████████▊             | 522kB 8.7MB/s eta 0:00:01\r\u001b[K     |███████████████████             | 532kB 8.7MB/s eta 0:00:01\r\u001b[K     |███████████████████▍            | 542kB 8.7MB/s eta 0:00:01\r\u001b[K     |███████████████████▊            | 552kB 8.7MB/s eta 0:00:01\r\u001b[K     |████████████████████▏           | 563kB 8.7MB/s eta 0:00:01\r\u001b[K     |████████████████████▌           | 573kB 8.7MB/s eta 0:00:01\r\u001b[K     |████████████████████▉           | 583kB 8.7MB/s eta 0:00:01\r\u001b[K     |█████████████████████▎          | 593kB 8.7MB/s eta 0:00:01\r\u001b[K     |█████████████████████▋          | 604kB 8.7MB/s eta 0:00:01\r\u001b[K     |██████████████████████          | 614kB 8.7MB/s eta 0:00:01\r\u001b[K     |██████████████████████▎         | 624kB 8.7MB/s eta 0:00:01\r\u001b[K     |██████████████████████▊         | 634kB 8.7MB/s eta 0:00:01\r\u001b[K     |███████████████████████         | 645kB 8.7MB/s eta 0:00:01\r\u001b[K     |███████████████████████▍        | 655kB 8.7MB/s eta 0:00:01\r\u001b[K     |███████████████████████▉        | 665kB 8.7MB/s eta 0:00:01\r\u001b[K     |████████████████████████▏       | 675kB 8.7MB/s eta 0:00:01\r\u001b[K     |████████████████████████▌       | 686kB 8.7MB/s eta 0:00:01\r\u001b[K     |█████████████████████████       | 696kB 8.7MB/s eta 0:00:01\r\u001b[K     |█████████████████████████▎      | 706kB 8.7MB/s eta 0:00:01\r\u001b[K     |█████████████████████████▋      | 716kB 8.7MB/s eta 0:00:01\r\u001b[K     |██████████████████████████      | 727kB 8.7MB/s eta 0:00:01\r\u001b[K     |██████████████████████████▍     | 737kB 8.7MB/s eta 0:00:01\r\u001b[K     |██████████████████████████▊     | 747kB 8.7MB/s eta 0:00:01\r\u001b[K     |███████████████████████████     | 757kB 8.7MB/s eta 0:00:01\r\u001b[K     |███████████████████████████▌    | 768kB 8.7MB/s eta 0:00:01\r\u001b[K     |███████████████████████████▉    | 778kB 8.7MB/s eta 0:00:01\r\u001b[K     |████████████████████████████▏   | 788kB 8.7MB/s eta 0:00:01\r\u001b[K     |████████████████████████████▌   | 798kB 8.7MB/s eta 0:00:01\r\u001b[K     |█████████████████████████████   | 808kB 8.7MB/s eta 0:00:01\r\u001b[K     |█████████████████████████████▎  | 819kB 8.7MB/s eta 0:00:01\r\u001b[K     |█████████████████████████████▋  | 829kB 8.7MB/s eta 0:00:01\r\u001b[K     |██████████████████████████████  | 839kB 8.7MB/s eta 0:00:01\r\u001b[K     |██████████████████████████████▍ | 849kB 8.7MB/s eta 0:00:01\r\u001b[K     |██████████████████████████████▊ | 860kB 8.7MB/s eta 0:00:01\r\u001b[K     |███████████████████████████████▏| 870kB 8.7MB/s eta 0:00:01\r\u001b[K     |███████████████████████████████▌| 880kB 8.7MB/s eta 0:00:01\r\u001b[K     |███████████████████████████████▉| 890kB 8.7MB/s eta 0:00:01\r\u001b[K     |████████████████████████████████| 901kB 8.7MB/s \n",
            "\u001b[?25hRequirement already satisfied: six in /usr/local/lib/python3.7/dist-packages (from sacremoses) (1.15.0)\n",
            "Requirement already satisfied: regex in /usr/local/lib/python3.7/dist-packages (from sacremoses) (2019.12.20)\n",
            "Requirement already satisfied: click in /usr/local/lib/python3.7/dist-packages (from sacremoses) (7.1.2)\n",
            "Requirement already satisfied: tqdm in /usr/local/lib/python3.7/dist-packages (from sacremoses) (4.41.1)\n",
            "Requirement already satisfied: joblib in /usr/local/lib/python3.7/dist-packages (from sacremoses) (1.0.1)\n",
            "Installing collected packages: sacremoses\n",
            "Successfully installed sacremoses-0.0.45\n"
          ],
          "name": "stdout"
        }
      ]
    },
    {
      "cell_type": "code",
      "metadata": {
        "id": "9blrGZgj7zuT",
        "colab": {
          "base_uri": "https://localhost:8080/"
        },
        "outputId": "54154980-9968-4685-a958-ad3ff21eefae"
      },
      "source": [
        "pip install boto3"
      ],
      "execution_count": null,
      "outputs": [
        {
          "output_type": "stream",
          "text": [
            "Collecting boto3\n",
            "\u001b[?25l  Downloading https://files.pythonhosted.org/packages/39/96/5c009100d651f4646639f9777a82777430897590f5fd28bbc077cace09bf/boto3-1.17.97-py2.py3-none-any.whl (131kB)\n",
            "\u001b[K     |████████████████████████████████| 133kB 8.6MB/s \n",
            "\u001b[?25hCollecting s3transfer<0.5.0,>=0.4.0\n",
            "\u001b[?25l  Downloading https://files.pythonhosted.org/packages/63/d0/693477c688348654ddc21dcdce0817653a294aa43f41771084c25e7ff9c7/s3transfer-0.4.2-py2.py3-none-any.whl (79kB)\n",
            "\u001b[K     |████████████████████████████████| 81kB 11.4MB/s \n",
            "\u001b[?25hCollecting jmespath<1.0.0,>=0.7.1\n",
            "  Downloading https://files.pythonhosted.org/packages/07/cb/5f001272b6faeb23c1c9e0acc04d48eaaf5c862c17709d20e3469c6e0139/jmespath-0.10.0-py2.py3-none-any.whl\n",
            "Collecting botocore<1.21.0,>=1.20.97\n",
            "\u001b[?25l  Downloading https://files.pythonhosted.org/packages/94/a2/bd7cd40c61a71c3daede70158b5c0aca918057f63cfbef015c56cccdb6b2/botocore-1.20.97-py2.py3-none-any.whl (7.6MB)\n",
            "\u001b[K     |████████████████████████████████| 7.6MB 50.9MB/s \n",
            "\u001b[?25hCollecting urllib3<1.27,>=1.25.4\n",
            "\u001b[?25l  Downloading https://files.pythonhosted.org/packages/0c/cd/1e2ec680ec7b09846dc6e605f5a7709dfb9d7128e51a026e7154e18a234e/urllib3-1.26.5-py2.py3-none-any.whl (138kB)\n",
            "\u001b[K     |████████████████████████████████| 143kB 56.1MB/s \n",
            "\u001b[?25hRequirement already satisfied: python-dateutil<3.0.0,>=2.1 in /usr/local/lib/python3.7/dist-packages (from botocore<1.21.0,>=1.20.97->boto3) (2.8.1)\n",
            "Requirement already satisfied: six>=1.5 in /usr/local/lib/python3.7/dist-packages (from python-dateutil<3.0.0,>=2.1->botocore<1.21.0,>=1.20.97->boto3) (1.15.0)\n",
            "\u001b[31mERROR: requests 2.23.0 has requirement urllib3!=1.25.0,!=1.25.1,<1.26,>=1.21.1, but you'll have urllib3 1.26.5 which is incompatible.\u001b[0m\n",
            "\u001b[31mERROR: datascience 0.10.6 has requirement folium==0.2.1, but you'll have folium 0.8.3 which is incompatible.\u001b[0m\n",
            "Installing collected packages: jmespath, urllib3, botocore, s3transfer, boto3\n",
            "  Found existing installation: urllib3 1.24.3\n",
            "    Uninstalling urllib3-1.24.3:\n",
            "      Successfully uninstalled urllib3-1.24.3\n",
            "Successfully installed boto3-1.17.97 botocore-1.20.97 jmespath-0.10.0 s3transfer-0.4.2 urllib3-1.26.5\n"
          ],
          "name": "stdout"
        }
      ]
    },
    {
      "cell_type": "code",
      "metadata": {
        "id": "MnPvGYINpV0N"
      },
      "source": [
        "\n",
        "#!pip install cloud-tpu-client==0.10 https://storage.googleapis.com/tpu-pytorch/wheels/torch_xla-1.7-cp36-cp36m-linux_x86_64.whl"
      ],
      "execution_count": null,
      "outputs": []
    },
    {
      "cell_type": "code",
      "metadata": {
        "id": "RdTKqwAvdWCz"
      },
      "source": [
        "\n",
        "dev = \"cuda\"\n",
        "import sys\n",
        "import os\n",
        "sys.path.append(os.path.abspath('/content/drive/My Drive/Colab Notebooks'))\n"
      ],
      "execution_count": null,
      "outputs": []
    },
    {
      "cell_type": "code",
      "metadata": {
        "id": "jfYuTEqOf01X",
        "colab": {
          "base_uri": "https://localhost:8080/"
        },
        "outputId": "213a1fd9-3fb7-4251-9168-a4807e494e15"
      },
      "source": [
        "from __future__ import absolute_import, division, print_function\n",
        "\n",
        "\n",
        "import pdb\n",
        "import argparse\n",
        "import glob\n",
        "import logging\n",
        "\n",
        "import os\n",
        "import pickle\n",
        "import random\n",
        "\n",
        "import numpy as np\n",
        "import torch\n",
        "import torch.nn.init as init\n",
        "from torch.utils.data import DataLoader, Dataset, SequentialSampler, RandomSampler, TensorDataset\n",
        "from torch.utils.data.distributed import DistributedSampler\n",
        "#from tensorboardX import SummaryWriter\n",
        "from tqdm import tqdm, trange\n",
        "from collections import defaultdict\n",
        "\n",
        "# from azure.cosmosdb.table.tableservice import TableService\n",
        "# from azure.cosmosdb.table.models import Entity\n",
        "from datetime import datetime\n",
        "\n",
        "\n",
        "\n",
        "from pytorch_transformers import (WEIGHTS_NAME, AdamW, WarmupLinearSchedule,\n",
        "                                  BertConfig, BertForLatentConnector, BertTokenizer,\n",
        "                                  GPT2Config, GPT2ForLatentConnector, GPT2Tokenizer,\n",
        "                                  OpenAIGPTConfig, OpenAIGPTLMHeadModel, OpenAIGPTTokenizer,\n",
        "                                  RobertaConfig, RobertaForMaskedLM, RobertaTokenizer)\n",
        "\n",
        "from utils import (weight_init, calc_iwnll, calc_rec, calc_mi, calc_au, BucketingDataLoader, TextDataset_Split, TextDataset_2Tokenizers, frange_cycle_linear, frange_cycle_zero_linear)\n",
        "import utils\n",
        "\n",
        "from modules import VAE\n",
        "\n",
        "\n",
        "# logging.getLogger(\"azure\").setLevel(logging.WARNING)\n",
        "# logging.getLogger(\"TableService\").setLevel(logging.WARNING)\n",
        "\n",
        "logger = logging.getLogger(__name__)\n",
        "\n",
        "\n",
        "MODEL_CLASSES = {\n",
        "    'gpt2': (GPT2Config, GPT2ForLatentConnector, GPT2Tokenizer),\n",
        "    'openai-gpt': (OpenAIGPTConfig, OpenAIGPTLMHeadModel, OpenAIGPTTokenizer),\n",
        "    'bert': (BertConfig, BertForLatentConnector, BertTokenizer),\n",
        "    'roberta': (RobertaConfig, RobertaForMaskedLM, RobertaTokenizer)\n",
        "}\n",
        "\n",
        "import modules\n"
      ],
      "execution_count": null,
      "outputs": [
        {
          "output_type": "stream",
          "text": [
            "/usr/local/lib/python3.7/dist-packages/requests/__init__.py:91: RequestsDependencyWarning: urllib3 (1.26.5) or chardet (3.0.4) doesn't match a supported version!\n",
            "  RequestsDependencyWarning)\n"
          ],
          "name": "stderr"
        }
      ]
    },
    {
      "cell_type": "code",
      "metadata": {
        "id": "qobXdAfSj3YX"
      },
      "source": [
        "encoder_model_type = 'bert'\n",
        "encoder_model_name = 'bert-base-cased'\n",
        "decoder_model_type= 'gpt2'\n",
        "decoder_model_name = 'gpt2'"
      ],
      "execution_count": null,
      "outputs": []
    },
    {
      "cell_type": "code",
      "metadata": {
        "id": "Rb8gwi04j3b8",
        "colab": {
          "base_uri": "https://localhost:8080/"
        },
        "outputId": "3dd1e54a-3d76-434f-aec5-ef9574c1d650"
      },
      "source": [
        "encoder_config_class, encoder_model_class, encoder_tokenizer_class = MODEL_CLASSES[encoder_model_type]\n",
        "encoder_config = encoder_config_class.from_pretrained(encoder_model_name)\n",
        "model_encoder = encoder_model_class.from_pretrained(encoder_model_name, from_tf=bool('.ckpt' in encoder_model_name), config=encoder_config, latent_size=32)\n",
        "tokenizer_encoder = encoder_tokenizer_class.from_pretrained(encoder_model_name)"
      ],
      "execution_count": null,
      "outputs": [
        {
          "output_type": "stream",
          "text": [
            "100%|██████████| 433/433 [00:00<00:00, 151319.25B/s]\n",
            "100%|██████████| 435779157/435779157 [00:11<00:00, 38109812.88B/s]\n",
            "100%|██████████| 213450/213450 [00:00<00:00, 848632.50B/s]\n"
          ],
          "name": "stderr"
        }
      ]
    },
    {
      "cell_type": "code",
      "metadata": {
        "id": "7XS-Kh3HpDX8",
        "colab": {
          "base_uri": "https://localhost:8080/"
        },
        "outputId": "0d3a1749-9a51-45e9-e270-c6a62eb8fb97"
      },
      "source": [
        "decoder_config_class, decoder_model_class, decoder_tokenizer_class = MODEL_CLASSES[decoder_model_type]\n",
        "decoder_config = decoder_config_class.from_pretrained(decoder_model_name)\n",
        "tokenizer_decoder = decoder_tokenizer_class.from_pretrained(decoder_model_name)\n",
        "model_decoder = decoder_model_class.from_pretrained(decoder_model_name, from_tf=bool('.ckpt' in decoder_model_name), config=decoder_config, latent_size=32, latent_as_gpt_emb=True, latent_as_gpt_memory=True)"
      ],
      "execution_count": null,
      "outputs": [
        {
          "output_type": "stream",
          "text": [
            "100%|██████████| 665/665 [00:00<00:00, 305533.15B/s]\n",
            "100%|██████████| 1042301/1042301 [00:00<00:00, 2752855.51B/s]\n",
            "100%|██████████| 456318/456318 [00:00<00:00, 1479814.94B/s]\n",
            "100%|██████████| 548118077/548118077 [00:13<00:00, 39807543.36B/s]\n"
          ],
          "name": "stderr"
        }
      ]
    },
    {
      "cell_type": "code",
      "metadata": {
        "id": "d0qF2QgMZAQz"
      },
      "source": [
        "#pip install torch_xla\n",
        "tokenizer_decoder2 = tokenizer_decoder"
      ],
      "execution_count": null,
      "outputs": []
    },
    {
      "cell_type": "markdown",
      "metadata": {
        "id": "HL4jNOgHGu6t"
      },
      "source": [
        "Load the Optimus Model with the ARGS as provided"
      ]
    },
    {
      "cell_type": "code",
      "metadata": {
        "id": "cVw18089p36t",
        "colab": {
          "base_uri": "https://localhost:8080/"
        },
        "outputId": "fffe4d39-6de9-459a-ec27-a7930d699cdb"
      },
      "source": [
        "\n",
        "\n",
        "class ARGS():\n",
        "    def __init__(self): # \n",
        "        self.encoder_model_type = 'bert'\n",
        "        self.encoder_model_name = 'bert-base-cased'\n",
        "        self.decoder_model_type= 'gpt2'\n",
        "        self.decoder_model_name = 'gpt2'\n",
        "        self.beta = 0.5\n",
        "        self.latent_size = 32\n",
        "        self.fb_mode = 0\n",
        "        self.length_weighted_loss = True \n",
        "        self.device = dev\n",
        "        self.block_size = 52\n",
        "        self.temperature = 1\n",
        "        self.top_k = 5\n",
        "        self.top_p = 0\n",
        "\n",
        "#model_encoder.to(dev)\n",
        "#model_decoder.to(dev)\n",
        "\n",
        "special_tokens_dict = {'pad_token': '<PAD>', 'bos_token': '<BOS>', 'eos_token': '<EOS>'}\n",
        "num_added_toks = tokenizer_decoder.add_special_tokens(special_tokens_dict)\n",
        "print('We have added', num_added_toks, 'tokens to GPT2', 'total length = ', len(tokenizer_decoder))\n",
        "model_decoder.resize_token_embeddings(len(tokenizer_decoder))  # Notice: resize_token_embeddings expect to receive the full size of the new vocabulary, i.e. the length of the tokenizer.\n",
        "assert tokenizer_decoder.pad_token == '<PAD>'\n",
        "\n",
        "num_added_toks = tokenizer_decoder2.add_special_tokens(special_tokens_dict)\n",
        "print('We have added', num_added_toks, 'tokens to GPT2', 'total length = ', len(tokenizer_decoder2))\n",
        "model_decoder.resize_token_embeddings(len(tokenizer_decoder2))  # Notice: resize_token_embeddings expect to receive the full size of the new vocabulary, i.e. the length of the tokenizer.\n",
        "assert tokenizer_decoder.pad_token == '<PAD>'\n",
        "\n",
        "    # model_decoder.to(args.device)\n",
        "args = ARGS()\n",
        "model_vae = modules.VAE(model_encoder, model_decoder, tokenizer_encoder, tokenizer_decoder, args)\n",
        "#a = torch.load(\"/content/drive/My Drive/Optimus/NLP/checkpoint-508523/checkpoint_cara3.pth\", map_location='cpu')"
      ],
      "execution_count": null,
      "outputs": [
        {
          "output_type": "stream",
          "text": [
            "We have added 0 tokens to GPT2 total length =  50260\n",
            "We have added 0 tokens to GPT2 total length =  50260\n"
          ],
          "name": "stdout"
        }
      ]
    },
    {
      "cell_type": "code",
      "metadata": {
        "id": "C8sIy1HJ7gt3"
      },
      "source": [
        "bos_token_id = tokenizer_decoder.encode('<BOS>')[0]\n",
        "eos_token_id = tokenizer_decoder.encode('<EOS>')[0]\n",
        "pad_token_id = tokenizer_decoder.encode('<PAD>')[0]"
      ],
      "execution_count": null,
      "outputs": []
    },
    {
      "cell_type": "code",
      "metadata": {
        "id": "xanP3cVrNOrE"
      },
      "source": [
        "def mask_tokens(inputs, tokenizer, args):\n",
        "    \"\"\" Prepare masked tokens inputs/labels for masked language modeling: 80% MASK, 10% random, 10% original. \"\"\"\n",
        "    labels = inputs.clone()\n",
        "    # We sample a few tokens in each sequence for masked-LM training (with probability args.mlm_probability defaults to 0.15 in Bert/RoBERTa)\n",
        "    \n",
        "    masked_indices = torch.bernoulli(torch.full(labels.shape, 0.15)).to(torch.uint8)\n",
        "    labels[masked_indices==1] = -1  # We only compute loss on masked tokens\n",
        "\n",
        "    # 80% of the time, we replace masked input tokens with tokenizer.mask_token ([MASK])\n",
        "    indices_replaced = torch.bernoulli(torch.full(labels.shape, 0.8)).to(torch.uint8) & masked_indices\n",
        "    inputs[indices_replaced] = tokenizer.convert_tokens_to_ids(tokenizer.mask_token)\n",
        "\n",
        "    # 10% of the time, we replace masked input tokens with random word\n",
        "    indices_random = torch.bernoulli(torch.full(labels.shape, 0.5)).to(torch.uint8) & masked_indices & ~indices_replaced\n",
        "    indices_random = indices_random\n",
        "    random_words = torch.randint(len(tokenizer), labels.shape, dtype=torch.long)\n",
        "    inputs[indices_random] = random_words[indices_random]\n",
        "\n",
        "    # The rest of the time (10% of the time) we keep the masked input tokens unchanged\n",
        "    return inputs, labels"
      ],
      "execution_count": null,
      "outputs": []
    },
    {
      "cell_type": "code",
      "metadata": {
        "id": "2mrivH7ZgUba"
      },
      "source": [
        "def tokenize_sentence(inputs, pad_token, max_length):\n",
        "  id_tokens = []\n",
        "  i = 0\n",
        "  for g in inputs:\n",
        "    temp = nltk.word_tokenize(g)\n",
        "    temp.insert(0,'[CLS]')\n",
        "    temp.append('[Sep]')\n",
        "    id_tokens.append(tokenizer_encoder.convert_tokens_to_ids(temp))\n",
        "    for k in range(len(id_tokens[i]),max_length):\n",
        "      id_tokens[i].append(pad_token)\n",
        "    i = i+1\n",
        "\n",
        "  return id_tokens\n",
        "\n",
        "\n",
        "  "
      ],
      "execution_count": null,
      "outputs": []
    },
    {
      "cell_type": "markdown",
      "metadata": {
        "id": "Yi1_Tt5hryUC"
      },
      "source": [
        "Code for Preprocessing Text is provided in the next cell but we provide you with the preprocessed data (go directly to load the preprocessed data)"
      ]
    },
    {
      "cell_type": "code",
      "metadata": {
        "id": "RqDhU0gEyQlI"
      },
      "source": [
        "f = open(r\"/content/drive/My Drive/Optimus/NLP/data/data/train.txt\", encoding=\"utf8\")\n",
        "x_encoder = []\n",
        "x_decoder = []\n",
        "\n",
        "for g in f:\n",
        "    temp = nltk.word_tokenize(g)\n",
        "      temp = temp[2:]\n",
        "      temp_dec = temp.copy()\n",
        "      temp.insert(0,'[CLS]')\n",
        "      temp.append('[Sep]')\n",
        "      x_encoder.append(temp)\n",
        "      x_decoder.append(temp_dec)\n",
        "      count = count+1\n",
        "      if count > 500000:\n",
        "        break\n",
        "id_tokens = []\n",
        "for a in x_encoder:\n",
        "    id_tokens.append(tokenizer_encoder.convert_tokens_to_ids(a))\n",
        "\n",
        "id_tokens_decoder = []\n",
        "for a in x_decoder:\n",
        "    temp = tokenizer_decoder2(a)['input_ids']\n",
        "    temp2 = []\n",
        "    for i in temp:\n",
        "      for b in i:\n",
        "        temp2.append(b)\n",
        "    temp2 = [tokenizer_decoder2.bos_token_id] + temp2 + [tokenizer_decoder2.eos_token_id]\n",
        "    id_tokens_decoder.append(temp2)"
      ],
      "execution_count": null,
      "outputs": []
    },
    {
      "cell_type": "code",
      "metadata": {
        "id": "dWInMOJuNOxg"
      },
      "source": [
        "def pad_sents(sents1, sents2, pad_token1, pad_token2):\n",
        "    \"\"\" Pad list of sentences according to the longest sentence in the batch.\n",
        "        The paddings should be at the end of each sentence.\n",
        "    @param sents (list[list[str]]): list of sentences, where each sentence\n",
        "                                    is represented as a list of words\n",
        "    @param pad_token (str): padding token\n",
        "    @returns sents_padded (list[list[str]]): list of sentences where sentences shorter\n",
        "        than the max length sentence are padded out with the pad_token, such that\n",
        "        each sentences in the batch now has equal length.\n",
        "    \"\"\"\n",
        "    sents_padded1 = sents1.copy()\n",
        "    sents_padded2 = sents2.copy()\n",
        "    max_length = 0\n",
        "    for i in range(len(sents1)):\n",
        "        if len(sents1[i]) > max_length:\n",
        "            max_length = len(sents1[i]) \n",
        "  \n",
        "    for i in range(len(sents2)):\n",
        "        if len(sents2[i]) > max_length:\n",
        "            max_length = len(sents2[i]) \n",
        "\n",
        "    for i in range(len(sents1)):\n",
        "        for k in range(len(sents_padded1[i]),max_length):\n",
        "            sents_padded1[i].append(pad_token1)\n",
        "\n",
        "    for i in range(len(sents2)):\n",
        "        for k in range(len(sents_padded2[i]),max_length):\n",
        "            sents_padded2[i].append(pad_token2)\n",
        "\n",
        "    ### END YOUR CODE\n",
        "\n",
        "    return sents_padded1, sents_padded2 \n",
        "\n"
      ],
      "execution_count": null,
      "outputs": []
    },
    {
      "cell_type": "code",
      "metadata": {
        "id": "8x5zTIdibKtw"
      },
      "source": [
        "padded_input_tokens, padded_output_tokens = pad_sents(id_tokens,id_tokens_decoder, 0, tokenizer_decoder.pad_token_id)\n",
        "tokenized_text0 = torch.tensor(padded_input_tokens)\n",
        "tokenized_text1 = torch.tensor(padded_output_tokens)"
      ],
      "execution_count": null,
      "outputs": []
    },
    {
      "cell_type": "markdown",
      "metadata": {
        "id": "yLJVYF-Usad2"
      },
      "source": [
        "Load the preprocessed text files directly"
      ]
    },
    {
      "cell_type": "code",
      "metadata": {
        "id": "ti1ETsX0WUt8"
      },
      "source": [
        "inputs = torch.load(\"/content/drive/My Drive/Optimus/NLP/inputs.pth\")\n",
        "labels = torch.load(\"/content/drive/My Drive/Optimus/NLP/labels.pth\")  # Note that labels here are the outputs for the decoder"
      ],
      "execution_count": null,
      "outputs": []
    },
    {
      "cell_type": "markdown",
      "metadata": {
        "id": "XsiN2cC0rhYz"
      },
      "source": [
        "Training and load the pretrained weights of Optimus Model"
      ]
    },
    {
      "cell_type": "code",
      "metadata": {
        "id": "TZrHFBwele5u"
      },
      "source": [
        "no_decay = ['bias', 'LayerNorm.weight']\n",
        "\n",
        "optimizer_grouped_parameters = [\n",
        "        {'params': [p for n, p in model_vae.named_parameters() if any(nd in n for nd in no_decay)], 'weight_decay': 0.0}\n",
        "        ]\n",
        "optimizer = AdamW(optimizer_grouped_parameters, lr=5e-5,eps=1e-8)\n",
        "dev = 'cuda'\n",
        "inputs = inputs.to(dev)\n",
        "labels = labels.to(dev)\n",
        "#model_vae.to('cuda')\n",
        "a = torch.load(\"/content/drive/My Drive/Optimus/NLP/beta_0/checkpoint-508523/checkpoint-full-508523/training.bin\", map_location='cpu')\n",
        "model_vae.load_state_dict(a['model_state_dict'], strict = False)\n",
        "#model_vae.load_state_dict(a)\n",
        "model_vae.to(dev)\n",
        "del a"
      ],
      "execution_count": null,
      "outputs": []
    },
    {
      "cell_type": "code",
      "metadata": {
        "id": "rc5V3Bw0o4mH"
      },
      "source": [
        "\n",
        "permutation = torch.randperm(inputs.size()[0])\n",
        "loss_kl_array = []\n",
        "loss_array = []\n",
        "import time\n",
        "torch.autograd.set_detect_anomaly(True)\n",
        "n_epochs = 1# or whatever\n",
        "batch_size = 32 # or whatever\n",
        "for epoch in range(n_epochs):\n",
        "    start1 = time.time()\n",
        "    count = 0\n",
        "    for i in range(0,inputs.size()[0], batch_size):\n",
        "        start = time.time()\n",
        "        optimizer.zero_grad()\n",
        "        indices = permutation[i:i+batch_size]\n",
        "        batch_inputs, batch_labels = inputs[indices], labels[indices]\n",
        "\n",
        "        model_vae.args.beta = 0          # Change this to 0.5 for beta = 0.5\n",
        "\n",
        "        model_vae.args.fb_mode = 2\n",
        "\n",
        "        loss_rec, loss_kl, loss = model_vae(batch_inputs, batch_labels)\n",
        "        loss_kl_array.append(loss_kl.sum().detach())\n",
        "        loss_array.append(loss.sum().detach())\n",
        "        \n",
        "        loss.sum().backward()\n",
        "        optimizer.step()\n",
        "\n",
        "        if count%100 == 0:\n",
        "          print((time.time()-start1)/60)\n",
        "          print(loss_kl.sum(), loss.sum())\n",
        "        count = count + 1\n",
        "\n",
        "    print(time.time()-start) "
      ],
      "execution_count": null,
      "outputs": []
    },
    {
      "cell_type": "markdown",
      "metadata": {
        "id": "T0i4MkA7IScO"
      },
      "source": [
        "Beta = 0"
      ]
    },
    {
      "cell_type": "code",
      "metadata": {
        "colab": {
          "base_uri": "https://localhost:8080/",
          "height": 283
        },
        "id": "ipwherzNQxN5",
        "outputId": "e8f5b148-13a7-45de-d4ac-e61ecabf4c75"
      },
      "source": [
        "plt.plot(loss_kl_array)"
      ],
      "execution_count": null,
      "outputs": [
        {
          "output_type": "execute_result",
          "data": {
            "text/plain": [
              "[<matplotlib.lines.Line2D at 0x7f52e03ca9b0>]"
            ]
          },
          "metadata": {
            "tags": []
          },
          "execution_count": 24
        },
        {
          "output_type": "display_data",
          "data": {
            "image/png": "[encoded data removed]",
            "text/plain": [
              "<Figure size 432x288 with 1 Axes>"
            ]
          },
          "metadata": {
            "tags": [],
            "needs_background": "light"
          }
        }
      ]
    },
    {
      "cell_type": "code",
      "metadata": {
        "colab": {
          "base_uri": "https://localhost:8080/",
          "height": 282
        },
        "id": "eDQX3GPPQ3lc",
        "outputId": "7a367960-2e72-4ebf-dec6-68b9e5739d64"
      },
      "source": [
        "plt.plot(loss_array)"
      ],
      "execution_count": null,
      "outputs": [
        {
          "output_type": "execute_result",
          "data": {
            "text/plain": [
              "[<matplotlib.lines.Line2D at 0x7f502a08f0b8>]"
            ]
          },
          "metadata": {
            "tags": []
          },
          "execution_count": 25
        },
        {
          "output_type": "display_data",
          "data": {
            "image/png": "[encoded data removed]",
            "text/plain": [
              "<Figure size 432x288 with 1 Axes>"
            ]
          },
          "metadata": {
            "tags": [],
            "needs_background": "light"
          }
        }
      ]
    },
    {
      "cell_type": "markdown",
      "metadata": {
        "id": "mUei0cREIX12"
      },
      "source": [
        "Beta = 0.5"
      ]
    },
    {
      "cell_type": "code",
      "metadata": {
        "colab": {
          "base_uri": "https://localhost:8080/",
          "height": 282
        },
        "id": "qYw1U8Oz2D1E",
        "outputId": "86faa5de-37af-40c5-ca41-4a32c630e11b"
      },
      "source": [
        "plt.plot(loss_kl_array)"
      ],
      "execution_count": null,
      "outputs": [
        {
          "output_type": "execute_result",
          "data": {
            "text/plain": [
              "[<matplotlib.lines.Line2D at 0x7f7f20a10320>]"
            ]
          },
          "metadata": {
            "tags": []
          },
          "execution_count": 26
        },
        {
          "output_type": "display_data",
          "data": {
            "image/png": "[encoded data removed]",
            "text/plain": [
              "<Figure size 432x288 with 1 Axes>"
            ]
          },
          "metadata": {
            "tags": [],
            "needs_background": "light"
          }
        }
      ]
    },
    {
      "cell_type": "code",
      "metadata": {
        "colab": {
          "base_uri": "https://localhost:8080/",
          "height": 282
        },
        "id": "7_cq7e0q2HiU",
        "outputId": "03fe85b8-66a9-434b-d9f6-fede5af267cf"
      },
      "source": [
        "plt.plot(loss_array)"
      ],
      "execution_count": null,
      "outputs": [
        {
          "output_type": "execute_result",
          "data": {
            "text/plain": [
              "[<matplotlib.lines.Line2D at 0x7f7f203f12b0>]"
            ]
          },
          "metadata": {
            "tags": []
          },
          "execution_count": 27
        },
        {
          "output_type": "display_data",
          "data": {
            "image/png": "[encoded data removed]",
            "text/plain": [
              "<Figure size 432x288 with 1 Axes>"
            ]
          },
          "metadata": {
            "tags": [],
            "needs_background": "light"
          }
        }
      ]
    },
    {
      "cell_type": "code",
      "metadata": {
        "id": "JmMgWcS9LYUv",
        "colab": {
          "base_uri": "https://localhost:8080/"
        },
        "outputId": "4f35a164-7700-484a-f101-7f8765647665"
      },
      "source": [
        "dev = 'cuda'\n",
        "model_vae.to(dev)\n",
        "inputs = inputs.to(dev)\n",
        "labels = labels.to(dev)\n",
        "r = model_vae.generation(inputs[10:12])\n"
      ],
      "execution_count": null,
      "outputs": [
        {
          "output_type": "stream",
          "text": [
            "start\n",
            "1\n",
            "tensor([[50258,   464,  3823],\n",
            "        [50258,   464, 28120],\n",
            "        [50258,   464, 28120],\n",
            "        [50258,   464, 28120],\n",
            "        [50258,   464, 28120]], device='cuda:0')\n",
            "tensor([[50258,   464,  3823],\n",
            "        [50258,   464, 28120],\n",
            "        [50258,   464, 28120],\n",
            "        [50258,   464, 28120],\n",
            "        [50258,   464, 28120]], device='cuda:0')\n",
            "tensor([[50258,   464,  3823],\n",
            "        [50258,   464, 28120],\n",
            "        [50258,   464, 28120],\n",
            "        [50258,   464, 28120],\n",
            "        [50258,   464, 28120]], device='cuda:0')\n",
            "tensor([[50258,   464,  3823],\n",
            "        [50258,   464, 28120],\n",
            "        [50258,   464, 28120],\n",
            "        [50258,   464, 28120],\n",
            "        [50258,   464, 28120]], device='cuda:0')\n",
            "tensor([[50258,   464,  3823],\n",
            "        [50258,   464, 28120],\n",
            "        [50258,   464, 28120],\n",
            "        [50258,   464, 28120],\n",
            "        [50258,   464, 28120]], device='cuda:0')\n",
            "tensor([[50258,  1858,   271],\n",
            "        [50258,  1858,   271],\n",
            "        [50258,  1858,  9776],\n",
            "        [50258,  1858,   318],\n",
            "        [50258,  1858,   318]], device='cuda:0')\n",
            "tensor([[50258,  1858,   271],\n",
            "        [50258,  1858,   271],\n",
            "        [50258,  1858,  9776],\n",
            "        [50258,  1858,   318],\n",
            "        [50258,  1858,   318]], device='cuda:0')\n",
            "tensor([[50258,  1858,   271],\n",
            "        [50258,  1858,   271],\n",
            "        [50258,  1858,  9776],\n",
            "        [50258,  1858,   318],\n",
            "        [50258,  1858,   318]], device='cuda:0')\n",
            "tensor([[50258,  1858,   271],\n",
            "        [50258,  1858,   271],\n",
            "        [50258,  1858,  9776],\n",
            "        [50258,  1858,   318],\n",
            "        [50258,  1858,   318]], device='cuda:0')\n",
            "tensor([[50258,  1858,   271],\n",
            "        [50258,  1858,   271],\n",
            "        [50258,  1858,  9776],\n",
            "        [50258,  1858,   318],\n",
            "        [50258,  1858,   318]], device='cuda:0')\n",
            "2\n",
            "tensor([[50258,  1858,   271,    64],\n",
            "        [50258,  1858,   271,  3919],\n",
            "        [50258,  1858,   271,  3919],\n",
            "        [50258,  1858,   271,  3919],\n",
            "        [50258,  1858,   271, 11274]], device='cuda:0')\n",
            "tensor([[50258,  1858,   271,    64],\n",
            "        [50258,  1858,   271,  3919],\n",
            "        [50258,  1858,   271,  3919],\n",
            "        [50258,  1858,   271,  3919],\n",
            "        [50258,  1858,   271,  3919]], device='cuda:0')\n",
            "tensor([[50258,  1858,   271,    64],\n",
            "        [50258,  1858,   271,  3919],\n",
            "        [50258,  1858,   271,  3919],\n",
            "        [50258,  1858,   271,  3919],\n",
            "        [50258,  1858,   271,  3919]], device='cuda:0')\n",
            "tensor([[50258,  1858,   271,    64],\n",
            "        [50258,  1858,   271,  3919],\n",
            "        [50258,  1858,   271,  3919],\n",
            "        [50258,  1858,   271,  3919],\n",
            "        [50258,  1858,   271,  3919]], device='cuda:0')\n",
            "tensor([[50258,  1858,   271,    64],\n",
            "        [50258,  1858,   271,  3919],\n",
            "        [50258,  1858,   271,  3919],\n",
            "        [50258,  1858,   271,  3919],\n",
            "        [50258,  1858,   271,  3919]], device='cuda:0')\n",
            "tensor([[50258,  1858,   271,    64],\n",
            "        [50258,  1858,   271, 22366],\n",
            "        [50258,  1858,   271,  3919],\n",
            "        [50258,  1858,   271,  1662],\n",
            "        [50258,  1858,   271, 14508]], device='cuda:0')\n",
            "tensor([[50258,  1858,   271,    64],\n",
            "        [50258,  1858,   271, 22366],\n",
            "        [50258,  1858,   271,  3919],\n",
            "        [50258,  1858,   271,  1662],\n",
            "        [50258,  1858,   271,  1662]], device='cuda:0')\n",
            "tensor([[50258,  1858,   271,    64],\n",
            "        [50258,  1858,   271, 22366],\n",
            "        [50258,  1858,   271,  3919],\n",
            "        [50258,  1858,   271,  1662],\n",
            "        [50258,  1858,   271,  1662]], device='cuda:0')\n",
            "tensor([[50258,  1858,   271,    64],\n",
            "        [50258,  1858,   271, 22366],\n",
            "        [50258,  1858,   271,  3919],\n",
            "        [50258,  1858,   271,  1662],\n",
            "        [50258,  1858,   271,  1662]], device='cuda:0')\n",
            "tensor([[50258,  1858,   271,    64],\n",
            "        [50258,  1858,   271, 22366],\n",
            "        [50258,  1858,   271,  3919],\n",
            "        [50258,  1858,   271,  1662],\n",
            "        [50258,  1858,   271,  1662]], device='cuda:0')\n",
            "3\n",
            "tensor([[50258,  1858,   271,    64, 11274],\n",
            "        [50258,  1858,   271,    64, 18223],\n",
            "        [50258,  1858,   271,    64, 18223],\n",
            "        [50258,  1858,   271,    64, 18223],\n",
            "        [50258,  1858,   271,    64, 18223]], device='cuda:0')\n",
            "tensor([[50258,  1858,   271,    64, 11274],\n",
            "        [50258,  1858,   271,    64, 18223],\n",
            "        [50258,  1858,   271,    64, 18223],\n",
            "        [50258,  1858,   271,    64, 18223],\n",
            "        [50258,  1858,   271,    64, 18223]], device='cuda:0')\n",
            "tensor([[50258,  1858,   271,    64, 11274],\n",
            "        [50258,  1858,   271,    64, 18223],\n",
            "        [50258,  1858,   271,    64, 18223],\n",
            "        [50258,  1858,   271,    64, 18223],\n",
            "        [50258,  1858,   271,    64, 18223]], device='cuda:0')\n",
            "tensor([[50258,  1858,   271,    64, 11274],\n",
            "        [50258,  1858,   271,    64, 18223],\n",
            "        [50258,  1858,   271,    64, 18223],\n",
            "        [50258,  1858,   271,    64, 18223],\n",
            "        [50258,  1858,   271,    64, 18223]], device='cuda:0')\n",
            "tensor([[50258,  1858,   271,    64, 11274],\n",
            "        [50258,  1858,   271,    64, 18223],\n",
            "        [50258,  1858,   271,    64, 18223],\n",
            "        [50258,  1858,   271,    64, 18223],\n",
            "        [50258,  1858,   271,    64, 18223]], device='cuda:0')\n",
            "tensor([[50258,  1858,   271,    64, 17470],\n",
            "        [50258,  1858,   271,    64, 38568],\n",
            "        [50258,  1858,   271,    64,   548],\n",
            "        [50258,  1858,   271,    64, 26487],\n",
            "        [50258,  1858,   271,    64,  8940]], device='cuda:0')\n",
            "tensor([[50258,  1858,   271,    64, 17470],\n",
            "        [50258,  1858,   271,    64, 38568],\n",
            "        [50258,  1858,   271,    64,   548],\n",
            "        [50258,  1858,   271,    64, 26487],\n",
            "        [50258,  1858,   271,    64, 26487]], device='cuda:0')\n",
            "tensor([[50258,  1858,   271,    64, 17470],\n",
            "        [50258,  1858,   271,    64, 38568],\n",
            "        [50258,  1858,   271,    64,   548],\n",
            "        [50258,  1858,   271,    64, 26487],\n",
            "        [50258,  1858,   271,    64, 26487]], device='cuda:0')\n",
            "tensor([[50258,  1858,   271,    64, 17470],\n",
            "        [50258,  1858,   271,    64, 38568],\n",
            "        [50258,  1858,   271,    64,   548],\n",
            "        [50258,  1858,   271,    64, 26487],\n",
            "        [50258,  1858,   271,    64, 26487]], device='cuda:0')\n",
            "tensor([[50258,  1858,   271,    64, 17470],\n",
            "        [50258,  1858,   271,    64, 38568],\n",
            "        [50258,  1858,   271,    64,   548],\n",
            "        [50258,  1858,   271,    64, 26487],\n",
            "        [50258,  1858,   271,    64, 26487]], device='cuda:0')\n",
            "4\n",
            "tensor([[50258,  1858,   271,    64, 17470,  7742],\n",
            "        [50258,  1858,   271,    64, 17470,  3823],\n",
            "        [50258,  1858,   271,    64, 17470,  4360],\n",
            "        [50258,  1858,   271,    64, 17470,  4360],\n",
            "        [50258,  1858,   271,    64, 17470,   680]], device='cuda:0')\n",
            "tensor([[50258,  1858,   271,    64, 17470,  7742],\n",
            "        [50258,  1858,   271,    64, 17470,  3823],\n",
            "        [50258,  1858,   271,    64, 17470,  4360],\n",
            "        [50258,  1858,   271,    64, 17470,  4360],\n",
            "        [50258,  1858,   271,    64, 17470,  4360]], device='cuda:0')\n",
            "tensor([[50258,  1858,   271,    64, 17470,  7742],\n",
            "        [50258,  1858,   271,    64, 17470,  3823],\n",
            "        [50258,  1858,   271,    64, 17470,  4360],\n",
            "        [50258,  1858,   271,    64, 17470,  4360],\n",
            "        [50258,  1858,   271,    64, 17470,  4360]], device='cuda:0')\n",
            "tensor([[50258,  1858,   271,    64, 17470,  7742],\n",
            "        [50258,  1858,   271,    64, 17470,  3823],\n",
            "        [50258,  1858,   271,    64, 17470,  4360],\n",
            "        [50258,  1858,   271,    64, 17470,  4360],\n",
            "        [50258,  1858,   271,    64, 17470,  4360]], device='cuda:0')\n",
            "tensor([[50258,  1858,   271,    64, 17470,  7742],\n",
            "        [50258,  1858,   271,    64, 17470,  3823],\n",
            "        [50258,  1858,   271,    64, 17470,  4360],\n",
            "        [50258,  1858,   271,    64, 17470,  4360],\n",
            "        [50258,  1858,   271,    64, 17470,  4360]], device='cuda:0')\n",
            "tensor([[50258,  1858,   271,    64, 17470, 26487],\n",
            "        [50258,  1858,   271,    64, 17470,  7742],\n",
            "        [50258,  1858,   271,    64, 17470,  4360],\n",
            "        [50258,  1858,   271,    64, 17470,  3823],\n",
            "        [50258,  1858,   271,    64, 17470,   680]], device='cuda:0')\n",
            "tensor([[50258,  1858,   271,    64, 17470, 26487],\n",
            "        [50258,  1858,   271,    64, 17470,  7742],\n",
            "        [50258,  1858,   271,    64, 17470,  4360],\n",
            "        [50258,  1858,   271,    64, 17470,  3823],\n",
            "        [50258,  1858,   271,    64, 17470,  3823]], device='cuda:0')\n",
            "tensor([[50258,  1858,   271,    64, 17470, 26487],\n",
            "        [50258,  1858,   271,    64, 17470,  7742],\n",
            "        [50258,  1858,   271,    64, 17470,  4360],\n",
            "        [50258,  1858,   271,    64, 17470,  3823],\n",
            "        [50258,  1858,   271,    64, 17470,  3823]], device='cuda:0')\n",
            "tensor([[50258,  1858,   271,    64, 17470, 26487],\n",
            "        [50258,  1858,   271,    64, 17470,  7742],\n",
            "        [50258,  1858,   271,    64, 17470,  4360],\n",
            "        [50258,  1858,   271,    64, 17470,  3823],\n",
            "        [50258,  1858,   271,    64, 17470,  3823]], device='cuda:0')\n",
            "tensor([[50258,  1858,   271,    64, 17470, 26487],\n",
            "        [50258,  1858,   271,    64, 17470,  7742],\n",
            "        [50258,  1858,   271,    64, 17470,  4360],\n",
            "        [50258,  1858,   271,    64, 17470,  3823],\n",
            "        [50258,  1858,   271,    64, 17470,  3823]], device='cuda:0')\n",
            "5\n",
            "tensor([[50258,  1858,   271,    64, 17470, 26487,   286],\n",
            "        [50258,  1858,   271,    64, 17470, 26487,  1659],\n",
            "        [50258,  1858,   271,    64, 17470, 26487,  3823],\n",
            "        [50258,  1858,   271,    64, 17470, 26487,   261],\n",
            "        [50258,  1858,   271,    64, 17470, 26487,  1462]], device='cuda:0')\n",
            "tensor([[50258,  1858,   271,    64, 17470, 26487,   286],\n",
            "        [50258,  1858,   271,    64, 17470, 26487,  1659],\n",
            "        [50258,  1858,   271,    64, 17470, 26487,  3823],\n",
            "        [50258,  1858,   271,    64, 17470, 26487,   261],\n",
            "        [50258,  1858,   271,    64, 17470, 26487,   261]], device='cuda:0')\n",
            "tensor([[50258,  1858,   271,    64, 17470, 26487,   286],\n",
            "        [50258,  1858,   271,    64, 17470, 26487,  1659],\n",
            "        [50258,  1858,   271,    64, 17470, 26487,  3823],\n",
            "        [50258,  1858,   271,    64, 17470, 26487,   261],\n",
            "        [50258,  1858,   271,    64, 17470, 26487,   261]], device='cuda:0')\n",
            "tensor([[50258,  1858,   271,    64, 17470, 26487,   286],\n",
            "        [50258,  1858,   271,    64, 17470, 26487,  1659],\n",
            "        [50258,  1858,   271,    64, 17470, 26487,  3823],\n",
            "        [50258,  1858,   271,    64, 17470, 26487,   261],\n",
            "        [50258,  1858,   271,    64, 17470, 26487,   261]], device='cuda:0')\n",
            "tensor([[50258,  1858,   271,    64, 17470, 26487,   286],\n",
            "        [50258,  1858,   271,    64, 17470, 26487,  1659],\n",
            "        [50258,  1858,   271,    64, 17470, 26487,  3823],\n",
            "        [50258,  1858,   271,    64, 17470, 26487,   261],\n",
            "        [50258,  1858,   271,    64, 17470, 26487,   261]], device='cuda:0')\n",
            "tensor([[50258,  1858,   271,    64, 17470, 26487,   286],\n",
            "        [50258,  1858,   271,    64, 17470, 26487,   259],\n",
            "        [50258,  1858,   271,    64, 17470, 26487,  1659],\n",
            "        [50258,  1858,   271,    64, 17470, 26487,   261],\n",
            "        [50258,  1858,   271,    64, 17470, 26487,   261]], device='cuda:0')\n",
            "tensor([[50258,  1858,   271,    64, 17470, 26487,   286],\n",
            "        [50258,  1858,   271,    64, 17470, 26487,   259],\n",
            "        [50258,  1858,   271,    64, 17470, 26487,  1659],\n",
            "        [50258,  1858,   271,    64, 17470, 26487,   261],\n",
            "        [50258,  1858,   271,    64, 17470, 26487,   261]], device='cuda:0')\n",
            "tensor([[50258,  1858,   271,    64, 17470, 26487,   286],\n",
            "        [50258,  1858,   271,    64, 17470, 26487,   259],\n",
            "        [50258,  1858,   271,    64, 17470, 26487,  1659],\n",
            "        [50258,  1858,   271,    64, 17470, 26487,   261],\n",
            "        [50258,  1858,   271,    64, 17470, 26487,   261]], device='cuda:0')\n",
            "tensor([[50258,  1858,   271,    64, 17470, 26487,   286],\n",
            "        [50258,  1858,   271,    64, 17470, 26487,   259],\n",
            "        [50258,  1858,   271,    64, 17470, 26487,  1659],\n",
            "        [50258,  1858,   271,    64, 17470, 26487,   261],\n",
            "        [50258,  1858,   271,    64, 17470, 26487,   261]], device='cuda:0')\n",
            "tensor([[50258,  1858,   271,    64, 17470, 26487,   286],\n",
            "        [50258,  1858,   271,    64, 17470, 26487,   259],\n",
            "        [50258,  1858,   271,    64, 17470, 26487,  1659],\n",
            "        [50258,  1858,   271,    64, 17470, 26487,   261],\n",
            "        [50258,  1858,   271,    64, 17470, 26487,   261]], device='cuda:0')\n",
            "6\n",
            "tensor([[50258,  1858,   271,    64, 17470, 26487,   286, 28120],\n",
            "        [50258,  1858,   271,    64, 17470, 26487,   286,  3823],\n",
            "        [50258,  1858,   271,    64, 17470, 26487,   286,  9649],\n",
            "        [50258,  1858,   271,    64, 17470, 26487,   286,  9649],\n",
            "        [50258,  1858,   271,    64, 17470, 26487,   286,    66]],\n",
            "       device='cuda:0')\n",
            "tensor([[50258,  1858,   271,    64, 17470, 26487,   286, 28120],\n",
            "        [50258,  1858,   271,    64, 17470, 26487,   286,  3823],\n",
            "        [50258,  1858,   271,    64, 17470, 26487,   286,  9649],\n",
            "        [50258,  1858,   271,    64, 17470, 26487,   286,  9649],\n",
            "        [50258,  1858,   271,    64, 17470, 26487,   286,  9649]],\n",
            "       device='cuda:0')\n",
            "tensor([[50258,  1858,   271,    64, 17470, 26487,   286, 28120],\n",
            "        [50258,  1858,   271,    64, 17470, 26487,   286,  3823],\n",
            "        [50258,  1858,   271,    64, 17470, 26487,   286,  9649],\n",
            "        [50258,  1858,   271,    64, 17470, 26487,   286,  9649],\n",
            "        [50258,  1858,   271,    64, 17470, 26487,   286,  9649]],\n",
            "       device='cuda:0')\n",
            "tensor([[50258,  1858,   271,    64, 17470, 26487,   286, 28120],\n",
            "        [50258,  1858,   271,    64, 17470, 26487,   286,  3823],\n",
            "        [50258,  1858,   271,    64, 17470, 26487,   286,  9649],\n",
            "        [50258,  1858,   271,    64, 17470, 26487,   286,  9649],\n",
            "        [50258,  1858,   271,    64, 17470, 26487,   286,  9649]],\n",
            "       device='cuda:0')\n",
            "tensor([[50258,  1858,   271,    64, 17470, 26487,   286, 28120],\n",
            "        [50258,  1858,   271,    64, 17470, 26487,   286,  3823],\n",
            "        [50258,  1858,   271,    64, 17470, 26487,   286,  9649],\n",
            "        [50258,  1858,   271,    64, 17470, 26487,   286,  9649],\n",
            "        [50258,  1858,   271,    64, 17470, 26487,   286,  9649]],\n",
            "       device='cuda:0')\n",
            "tensor([[50258,  1858,   271,    64, 17470, 26487,   286,  9649],\n",
            "        [50258,  1858,   271,    64, 17470, 26487,   286,  3823],\n",
            "        [50258,  1858,   271,    64, 17470, 26487,   286,  9654],\n",
            "        [50258,  1858,   271,    64, 17470, 26487,   286,    66],\n",
            "        [50258,  1858,   271,    64, 17470, 26487,   286,    66]],\n",
            "       device='cuda:0')\n",
            "tensor([[50258,  1858,   271,    64, 17470, 26487,   286,  9649],\n",
            "        [50258,  1858,   271,    64, 17470, 26487,   286,  3823],\n",
            "        [50258,  1858,   271,    64, 17470, 26487,   286,  9654],\n",
            "        [50258,  1858,   271,    64, 17470, 26487,   286,    66],\n",
            "        [50258,  1858,   271,    64, 17470, 26487,   286,    66]],\n",
            "       device='cuda:0')\n",
            "tensor([[50258,  1858,   271,    64, 17470, 26487,   286,  9649],\n",
            "        [50258,  1858,   271,    64, 17470, 26487,   286,  3823],\n",
            "        [50258,  1858,   271,    64, 17470, 26487,   286,  9654],\n",
            "        [50258,  1858,   271,    64, 17470, 26487,   286,    66],\n",
            "        [50258,  1858,   271,    64, 17470, 26487,   286,    66]],\n",
            "       device='cuda:0')\n",
            "tensor([[50258,  1858,   271,    64, 17470, 26487,   286,  9649],\n",
            "        [50258,  1858,   271,    64, 17470, 26487,   286,  3823],\n",
            "        [50258,  1858,   271,    64, 17470, 26487,   286,  9654],\n",
            "        [50258,  1858,   271,    64, 17470, 26487,   286,    66],\n",
            "        [50258,  1858,   271,    64, 17470, 26487,   286,    66]],\n",
            "       device='cuda:0')\n",
            "tensor([[50258,  1858,   271,    64, 17470, 26487,   286,  9649],\n",
            "        [50258,  1858,   271,    64, 17470, 26487,   286,  3823],\n",
            "        [50258,  1858,   271,    64, 17470, 26487,   286,  9654],\n",
            "        [50258,  1858,   271,    64, 17470, 26487,   286,    66],\n",
            "        [50258,  1858,   271,    64, 17470, 26487,   286,    66]],\n",
            "       device='cuda:0')\n",
            "7\n",
            "tensor([[50258,  1858,   271,    64, 17470, 26487,   286,  9649,   259],\n",
            "        [50258,  1858,   271,    64, 17470, 26487,   286,  9649,   392],\n",
            "        [50258,  1858,   271,    64, 17470, 26487,   286,  9649,  4480],\n",
            "        [50258,  1858,   271,    64, 17470, 26487,   286,  9649,  1640],\n",
            "        [50258,  1858,   271,    64, 17470, 26487,   286,  9649,    11]],\n",
            "       device='cuda:0')\n",
            "tensor([[50258,  1858,   271,    64, 17470, 26487,   286,  9649,   259],\n",
            "        [50258,  1858,   271,    64, 17470, 26487,   286,  9649,   392],\n",
            "        [50258,  1858,   271,    64, 17470, 26487,   286,  9649,  4480],\n",
            "        [50258,  1858,   271,    64, 17470, 26487,   286,  9649,  1640],\n",
            "        [50258,  1858,   271,    64, 17470, 26487,   286,  9649,  1640]],\n",
            "       device='cuda:0')\n",
            "tensor([[50258,  1858,   271,    64, 17470, 26487,   286,  9649,   259],\n",
            "        [50258,  1858,   271,    64, 17470, 26487,   286,  9649,   392],\n",
            "        [50258,  1858,   271,    64, 17470, 26487,   286,  9649,  4480],\n",
            "        [50258,  1858,   271,    64, 17470, 26487,   286,  9649,  1640],\n",
            "        [50258,  1858,   271,    64, 17470, 26487,   286,  9649,  1640]],\n",
            "       device='cuda:0')\n",
            "tensor([[50258,  1858,   271,    64, 17470, 26487,   286,  9649,   259],\n",
            "        [50258,  1858,   271,    64, 17470, 26487,   286,  9649,   392],\n",
            "        [50258,  1858,   271,    64, 17470, 26487,   286,  9649,  4480],\n",
            "        [50258,  1858,   271,    64, 17470, 26487,   286,  9649,  1640],\n",
            "        [50258,  1858,   271,    64, 17470, 26487,   286,  9649,  1640]],\n",
            "       device='cuda:0')\n",
            "tensor([[50258,  1858,   271,    64, 17470, 26487,   286,  9649,   259],\n",
            "        [50258,  1858,   271,    64, 17470, 26487,   286,  9649,   392],\n",
            "        [50258,  1858,   271,    64, 17470, 26487,   286,  9649,  4480],\n",
            "        [50258,  1858,   271,    64, 17470, 26487,   286,  9649,  1640],\n",
            "        [50258,  1858,   271,    64, 17470, 26487,   286,  9649,  1640]],\n",
            "       device='cuda:0')\n",
            "tensor([[50258,  1858,   271,    64, 17470, 26487,   286,  9649,   392],\n",
            "        [50258,  1858,   271,    64, 17470, 26487,   286,  9649,  8940],\n",
            "        [50258,  1858,   271,    64, 17470, 26487,   286,  9649,  4480],\n",
            "        [50258,  1858,   271,    64, 17470, 26487,   286,  9649,   259],\n",
            "        [50258,  1858,   271,    64, 17470, 26487,   286,  9649,    13]],\n",
            "       device='cuda:0')\n",
            "tensor([[50258,  1858,   271,    64, 17470, 26487,   286,  9649,   392],\n",
            "        [50258,  1858,   271,    64, 17470, 26487,   286,  9649,  8940],\n",
            "        [50258,  1858,   271,    64, 17470, 26487,   286,  9649,  4480],\n",
            "        [50258,  1858,   271,    64, 17470, 26487,   286,  9649,   259],\n",
            "        [50258,  1858,   271,    64, 17470, 26487,   286,  9649,   259]],\n",
            "       device='cuda:0')\n",
            "tensor([[50258,  1858,   271,    64, 17470, 26487,   286,  9649,   392],\n",
            "        [50258,  1858,   271,    64, 17470, 26487,   286,  9649,  8940],\n",
            "        [50258,  1858,   271,    64, 17470, 26487,   286,  9649,  4480],\n",
            "        [50258,  1858,   271,    64, 17470, 26487,   286,  9649,   259],\n",
            "        [50258,  1858,   271,    64, 17470, 26487,   286,  9649,   259]],\n",
            "       device='cuda:0')\n",
            "tensor([[50258,  1858,   271,    64, 17470, 26487,   286,  9649,   392],\n",
            "        [50258,  1858,   271,    64, 17470, 26487,   286,  9649,  8940],\n",
            "        [50258,  1858,   271,    64, 17470, 26487,   286,  9649,  4480],\n",
            "        [50258,  1858,   271,    64, 17470, 26487,   286,  9649,   259],\n",
            "        [50258,  1858,   271,    64, 17470, 26487,   286,  9649,   259]],\n",
            "       device='cuda:0')\n",
            "tensor([[50258,  1858,   271,    64, 17470, 26487,   286,  9649,   392],\n",
            "        [50258,  1858,   271,    64, 17470, 26487,   286,  9649,  8940],\n",
            "        [50258,  1858,   271,    64, 17470, 26487,   286,  9649,  4480],\n",
            "        [50258,  1858,   271,    64, 17470, 26487,   286,  9649,   259],\n",
            "        [50258,  1858,   271,    64, 17470, 26487,   286,  9649,   259]],\n",
            "       device='cuda:0')\n",
            "8\n",
            "tensor([[50258,  1858,   271,    64, 17470, 26487,   286,  9649,   392,  9649],\n",
            "        [50258,  1858,   271,    64, 17470, 26487,   286,  9649,   392,  3823],\n",
            "        [50258,  1858,   271,    64, 17470, 26487,   286,  9649,   392,    66],\n",
            "        [50258,  1858,   271,    64, 17470, 26487,   286,  9649,   392,    64],\n",
            "        [50258,  1858,   271,    64, 17470, 26487,   286,  9649,   392,    64]],\n",
            "       device='cuda:0')\n",
            "tensor([[50258,  1858,   271,    64, 17470, 26487,   286,  9649,   392,  9649],\n",
            "        [50258,  1858,   271,    64, 17470, 26487,   286,  9649,   392,  3823],\n",
            "        [50258,  1858,   271,    64, 17470, 26487,   286,  9649,   392,    66],\n",
            "        [50258,  1858,   271,    64, 17470, 26487,   286,  9649,   392,    64],\n",
            "        [50258,  1858,   271,    64, 17470, 26487,   286,  9649,   392,    64]],\n",
            "       device='cuda:0')\n",
            "tensor([[50258,  1858,   271,    64, 17470, 26487,   286,  9649,   392,  9649],\n",
            "        [50258,  1858,   271,    64, 17470, 26487,   286,  9649,   392,  3823],\n",
            "        [50258,  1858,   271,    64, 17470, 26487,   286,  9649,   392,    66],\n",
            "        [50258,  1858,   271,    64, 17470, 26487,   286,  9649,   392,    64],\n",
            "        [50258,  1858,   271,    64, 17470, 26487,   286,  9649,   392,    64]],\n",
            "       device='cuda:0')\n",
            "tensor([[50258,  1858,   271,    64, 17470, 26487,   286,  9649,   392,  9649],\n",
            "        [50258,  1858,   271,    64, 17470, 26487,   286,  9649,   392,  3823],\n",
            "        [50258,  1858,   271,    64, 17470, 26487,   286,  9649,   392,    66],\n",
            "        [50258,  1858,   271,    64, 17470, 26487,   286,  9649,   392,    64],\n",
            "        [50258,  1858,   271,    64, 17470, 26487,   286,  9649,   392,    64]],\n",
            "       device='cuda:0')\n",
            "tensor([[50258,  1858,   271,    64, 17470, 26487,   286,  9649,   392,  9649],\n",
            "        [50258,  1858,   271,    64, 17470, 26487,   286,  9649,   392,  3823],\n",
            "        [50258,  1858,   271,    64, 17470, 26487,   286,  9649,   392,    66],\n",
            "        [50258,  1858,   271,    64, 17470, 26487,   286,  9649,   392,    64],\n",
            "        [50258,  1858,   271,    64, 17470, 26487,   286,  9649,   392,    64]],\n",
            "       device='cuda:0')\n",
            "tensor([[50258,  1858,   271,    64, 17470, 26487,   286,  9649,   392,    64],\n",
            "        [50258,  1858,   271,    64, 17470, 26487,   286,  9649,   392,  9649],\n",
            "        [50258,  1858,   271,    64, 17470, 26487,   286,  9649,   392,  3823],\n",
            "        [50258,  1858,   271,    64, 17470, 26487,   286,  9649,   392,  1169],\n",
            "        [50258,  1858,   271,    64, 17470, 26487,   286,  9649,   392,  8117]],\n",
            "       device='cuda:0')\n",
            "tensor([[50258,  1858,   271,    64, 17470, 26487,   286,  9649,   392,    64],\n",
            "        [50258,  1858,   271,    64, 17470, 26487,   286,  9649,   392,  9649],\n",
            "        [50258,  1858,   271,    64, 17470, 26487,   286,  9649,   392,  3823],\n",
            "        [50258,  1858,   271,    64, 17470, 26487,   286,  9649,   392,  1169],\n",
            "        [50258,  1858,   271,    64, 17470, 26487,   286,  9649,   392,  1169]],\n",
            "       device='cuda:0')\n",
            "tensor([[50258,  1858,   271,    64, 17470, 26487,   286,  9649,   392,    64],\n",
            "        [50258,  1858,   271,    64, 17470, 26487,   286,  9649,   392,  9649],\n",
            "        [50258,  1858,   271,    64, 17470, 26487,   286,  9649,   392,  3823],\n",
            "        [50258,  1858,   271,    64, 17470, 26487,   286,  9649,   392,  1169],\n",
            "        [50258,  1858,   271,    64, 17470, 26487,   286,  9649,   392,  1169]],\n",
            "       device='cuda:0')\n",
            "tensor([[50258,  1858,   271,    64, 17470, 26487,   286,  9649,   392,    64],\n",
            "        [50258,  1858,   271,    64, 17470, 26487,   286,  9649,   392,  9649],\n",
            "        [50258,  1858,   271,    64, 17470, 26487,   286,  9649,   392,  3823],\n",
            "        [50258,  1858,   271,    64, 17470, 26487,   286,  9649,   392,  1169],\n",
            "        [50258,  1858,   271,    64, 17470, 26487,   286,  9649,   392,  1169]],\n",
            "       device='cuda:0')\n",
            "tensor([[50258,  1858,   271,    64, 17470, 26487,   286,  9649,   392,    64],\n",
            "        [50258,  1858,   271,    64, 17470, 26487,   286,  9649,   392,  9649],\n",
            "        [50258,  1858,   271,    64, 17470, 26487,   286,  9649,   392,  3823],\n",
            "        [50258,  1858,   271,    64, 17470, 26487,   286,  9649,   392,  1169],\n",
            "        [50258,  1858,   271,    64, 17470, 26487,   286,  9649,   392,  1169]],\n",
            "       device='cuda:0')\n",
            "9\n"
          ],
          "name": "stdout"
        }
      ]
    },
    {
      "cell_type": "code",
      "metadata": {
        "id": "bnmanIxzyYfO"
      },
      "source": [
        ""
      ],
      "execution_count": null,
      "outputs": []
    }
  ]
}