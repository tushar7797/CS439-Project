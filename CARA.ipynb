{
  "nbformat": 4,
  "nbformat_minor": 0,
  "metadata": {
    "colab": {
      "name": "Copy of CARA",
      "provenance": [],
      "collapsed_sections": [],
      "include_colab_link": true
    },
    "kernelspec": {
      "name": "python3",
      "display_name": "Python 3"
    },
    "accelerator": "GPU",
    "widgets": {
      "application/vnd.jupyter.widget-state+json": {
        "1648362610c44656b6741c052c04ae24": {
          "model_module": "@jupyter-widgets/controls",
          "model_name": "HBoxModel",
          "state": {
            "_view_name": "HBoxView",
            "_dom_classes": [],
            "_model_name": "HBoxModel",
            "_view_module": "@jupyter-widgets/controls",
            "_model_module_version": "1.5.0",
            "_view_count": null,
            "_view_module_version": "1.5.0",
            "box_style": "",
            "layout": "IPY_MODEL_5cb92b6abdad452d9710cb8f693753ed",
            "_model_module": "@jupyter-widgets/controls",
            "children": [
              "IPY_MODEL_78f90cb4b01e482ba48686f8a57be0d4",
              "IPY_MODEL_1b92e7af994149e4b03ce05ecccecd11"
            ]
          }
        },
        "5cb92b6abdad452d9710cb8f693753ed": {
          "model_module": "@jupyter-widgets/base",
          "model_name": "LayoutModel",
          "state": {
            "_view_name": "LayoutView",
            "grid_template_rows": null,
            "right": null,
            "justify_content": null,
            "_view_module": "@jupyter-widgets/base",
            "overflow": null,
            "_model_module_version": "1.2.0",
            "_view_count": null,
            "flex_flow": null,
            "width": null,
            "min_width": null,
            "border": null,
            "align_items": null,
            "bottom": null,
            "_model_module": "@jupyter-widgets/base",
            "top": null,
            "grid_column": null,
            "overflow_y": null,
            "overflow_x": null,
            "grid_auto_flow": null,
            "grid_area": null,
            "grid_template_columns": null,
            "flex": null,
            "_model_name": "LayoutModel",
            "justify_items": null,
            "grid_row": null,
            "max_height": null,
            "align_content": null,
            "visibility": null,
            "align_self": null,
            "height": null,
            "min_height": null,
            "padding": null,
            "grid_auto_rows": null,
            "grid_gap": null,
            "max_width": null,
            "order": null,
            "_view_module_version": "1.2.0",
            "grid_template_areas": null,
            "object_position": null,
            "object_fit": null,
            "grid_auto_columns": null,
            "margin": null,
            "display": null,
            "left": null
          }
        },
        "78f90cb4b01e482ba48686f8a57be0d4": {
          "model_module": "@jupyter-widgets/controls",
          "model_name": "FloatProgressModel",
          "state": {
            "_view_name": "ProgressView",
            "style": "IPY_MODEL_715d3cc2bf4446daa5a10f5fdac9aa58",
            "_dom_classes": [],
            "description": "Downloading: 100%",
            "_model_name": "FloatProgressModel",
            "bar_style": "success",
            "max": 1042301,
            "_view_module": "@jupyter-widgets/controls",
            "_model_module_version": "1.5.0",
            "value": 1042301,
            "_view_count": null,
            "_view_module_version": "1.5.0",
            "orientation": "horizontal",
            "min": 0,
            "description_tooltip": null,
            "_model_module": "@jupyter-widgets/controls",
            "layout": "IPY_MODEL_d9c1cf09d01c4945b443a6d7211486ea"
          }
        },
        "1b92e7af994149e4b03ce05ecccecd11": {
          "model_module": "@jupyter-widgets/controls",
          "model_name": "HTMLModel",
          "state": {
            "_view_name": "HTMLView",
            "style": "IPY_MODEL_078697a1750c443994aa824930111518",
            "_dom_classes": [],
            "description": "",
            "_model_name": "HTMLModel",
            "placeholder": "​",
            "_view_module": "@jupyter-widgets/controls",
            "_model_module_version": "1.5.0",
            "value": " 1.04M/1.04M [00:00&lt;00:00, 1.27MB/s]",
            "_view_count": null,
            "_view_module_version": "1.5.0",
            "description_tooltip": null,
            "_model_module": "@jupyter-widgets/controls",
            "layout": "IPY_MODEL_6a3ba248cb6b47878c091870cb86f9e2"
          }
        },
        "715d3cc2bf4446daa5a10f5fdac9aa58": {
          "model_module": "@jupyter-widgets/controls",
          "model_name": "ProgressStyleModel",
          "state": {
            "_view_name": "StyleView",
            "_model_name": "ProgressStyleModel",
            "description_width": "initial",
            "_view_module": "@jupyter-widgets/base",
            "_model_module_version": "1.5.0",
            "_view_count": null,
            "_view_module_version": "1.2.0",
            "bar_color": null,
            "_model_module": "@jupyter-widgets/controls"
          }
        },
        "d9c1cf09d01c4945b443a6d7211486ea": {
          "model_module": "@jupyter-widgets/base",
          "model_name": "LayoutModel",
          "state": {
            "_view_name": "LayoutView",
            "grid_template_rows": null,
            "right": null,
            "justify_content": null,
            "_view_module": "@jupyter-widgets/base",
            "overflow": null,
            "_model_module_version": "1.2.0",
            "_view_count": null,
            "flex_flow": null,
            "width": null,
            "min_width": null,
            "border": null,
            "align_items": null,
            "bottom": null,
            "_model_module": "@jupyter-widgets/base",
            "top": null,
            "grid_column": null,
            "overflow_y": null,
            "overflow_x": null,
            "grid_auto_flow": null,
            "grid_area": null,
            "grid_template_columns": null,
            "flex": null,
            "_model_name": "LayoutModel",
            "justify_items": null,
            "grid_row": null,
            "max_height": null,
            "align_content": null,
            "visibility": null,
            "align_self": null,
            "height": null,
            "min_height": null,
            "padding": null,
            "grid_auto_rows": null,
            "grid_gap": null,
            "max_width": null,
            "order": null,
            "_view_module_version": "1.2.0",
            "grid_template_areas": null,
            "object_position": null,
            "object_fit": null,
            "grid_auto_columns": null,
            "margin": null,
            "display": null,
            "left": null
          }
        },
        "078697a1750c443994aa824930111518": {
          "model_module": "@jupyter-widgets/controls",
          "model_name": "DescriptionStyleModel",
          "state": {
            "_view_name": "StyleView",
            "_model_name": "DescriptionStyleModel",
            "description_width": "",
            "_view_module": "@jupyter-widgets/base",
            "_model_module_version": "1.5.0",
            "_view_count": null,
            "_view_module_version": "1.2.0",
            "_model_module": "@jupyter-widgets/controls"
          }
        },
        "6a3ba248cb6b47878c091870cb86f9e2": {
          "model_module": "@jupyter-widgets/base",
          "model_name": "LayoutModel",
          "state": {
            "_view_name": "LayoutView",
            "grid_template_rows": null,
            "right": null,
            "justify_content": null,
            "_view_module": "@jupyter-widgets/base",
            "overflow": null,
            "_model_module_version": "1.2.0",
            "_view_count": null,
            "flex_flow": null,
            "width": null,
            "min_width": null,
            "border": null,
            "align_items": null,
            "bottom": null,
            "_model_module": "@jupyter-widgets/base",
            "top": null,
            "grid_column": null,
            "overflow_y": null,
            "overflow_x": null,
            "grid_auto_flow": null,
            "grid_area": null,
            "grid_template_columns": null,
            "flex": null,
            "_model_name": "LayoutModel",
            "justify_items": null,
            "grid_row": null,
            "max_height": null,
            "align_content": null,
            "visibility": null,
            "align_self": null,
            "height": null,
            "min_height": null,
            "padding": null,
            "grid_auto_rows": null,
            "grid_gap": null,
            "max_width": null,
            "order": null,
            "_view_module_version": "1.2.0",
            "grid_template_areas": null,
            "object_position": null,
            "object_fit": null,
            "grid_auto_columns": null,
            "margin": null,
            "display": null,
            "left": null
          }
        },
        "d207b1a024f64353832158c7994465e3": {
          "model_module": "@jupyter-widgets/controls",
          "model_name": "HBoxModel",
          "state": {
            "_view_name": "HBoxView",
            "_dom_classes": [],
            "_model_name": "HBoxModel",
            "_view_module": "@jupyter-widgets/controls",
            "_model_module_version": "1.5.0",
            "_view_count": null,
            "_view_module_version": "1.5.0",
            "box_style": "",
            "layout": "IPY_MODEL_69d9eda5f4e94a1baed2eece29646db4",
            "_model_module": "@jupyter-widgets/controls",
            "children": [
              "IPY_MODEL_eee1917e946747b385a7c26aa2a5a457",
              "IPY_MODEL_fb71c92226324fe5817fbd41065b0b21"
            ]
          }
        },
        "69d9eda5f4e94a1baed2eece29646db4": {
          "model_module": "@jupyter-widgets/base",
          "model_name": "LayoutModel",
          "state": {
            "_view_name": "LayoutView",
            "grid_template_rows": null,
            "right": null,
            "justify_content": null,
            "_view_module": "@jupyter-widgets/base",
            "overflow": null,
            "_model_module_version": "1.2.0",
            "_view_count": null,
            "flex_flow": null,
            "width": null,
            "min_width": null,
            "border": null,
            "align_items": null,
            "bottom": null,
            "_model_module": "@jupyter-widgets/base",
            "top": null,
            "grid_column": null,
            "overflow_y": null,
            "overflow_x": null,
            "grid_auto_flow": null,
            "grid_area": null,
            "grid_template_columns": null,
            "flex": null,
            "_model_name": "LayoutModel",
            "justify_items": null,
            "grid_row": null,
            "max_height": null,
            "align_content": null,
            "visibility": null,
            "align_self": null,
            "height": null,
            "min_height": null,
            "padding": null,
            "grid_auto_rows": null,
            "grid_gap": null,
            "max_width": null,
            "order": null,
            "_view_module_version": "1.2.0",
            "grid_template_areas": null,
            "object_position": null,
            "object_fit": null,
            "grid_auto_columns": null,
            "margin": null,
            "display": null,
            "left": null
          }
        },
        "eee1917e946747b385a7c26aa2a5a457": {
          "model_module": "@jupyter-widgets/controls",
          "model_name": "FloatProgressModel",
          "state": {
            "_view_name": "ProgressView",
            "style": "IPY_MODEL_98fbe26f890a48669286b7d743b34461",
            "_dom_classes": [],
            "description": "Downloading: 100%",
            "_model_name": "FloatProgressModel",
            "bar_style": "success",
            "max": 456318,
            "_view_module": "@jupyter-widgets/controls",
            "_model_module_version": "1.5.0",
            "value": 456318,
            "_view_count": null,
            "_view_module_version": "1.5.0",
            "orientation": "horizontal",
            "min": 0,
            "description_tooltip": null,
            "_model_module": "@jupyter-widgets/controls",
            "layout": "IPY_MODEL_7a3bca23bf074237b46f318901a65f4e"
          }
        },
        "fb71c92226324fe5817fbd41065b0b21": {
          "model_module": "@jupyter-widgets/controls",
          "model_name": "HTMLModel",
          "state": {
            "_view_name": "HTMLView",
            "style": "IPY_MODEL_ae9428a0ac6f46a38ce2239153c86413",
            "_dom_classes": [],
            "description": "",
            "_model_name": "HTMLModel",
            "placeholder": "​",
            "_view_module": "@jupyter-widgets/controls",
            "_model_module_version": "1.5.0",
            "value": " 456k/456k [00:00&lt;00:00, 1.24MB/s]",
            "_view_count": null,
            "_view_module_version": "1.5.0",
            "description_tooltip": null,
            "_model_module": "@jupyter-widgets/controls",
            "layout": "IPY_MODEL_0cec9a9ba7694970888c47745f2095ed"
          }
        },
        "98fbe26f890a48669286b7d743b34461": {
          "model_module": "@jupyter-widgets/controls",
          "model_name": "ProgressStyleModel",
          "state": {
            "_view_name": "StyleView",
            "_model_name": "ProgressStyleModel",
            "description_width": "initial",
            "_view_module": "@jupyter-widgets/base",
            "_model_module_version": "1.5.0",
            "_view_count": null,
            "_view_module_version": "1.2.0",
            "bar_color": null,
            "_model_module": "@jupyter-widgets/controls"
          }
        },
        "7a3bca23bf074237b46f318901a65f4e": {
          "model_module": "@jupyter-widgets/base",
          "model_name": "LayoutModel",
          "state": {
            "_view_name": "LayoutView",
            "grid_template_rows": null,
            "right": null,
            "justify_content": null,
            "_view_module": "@jupyter-widgets/base",
            "overflow": null,
            "_model_module_version": "1.2.0",
            "_view_count": null,
            "flex_flow": null,
            "width": null,
            "min_width": null,
            "border": null,
            "align_items": null,
            "bottom": null,
            "_model_module": "@jupyter-widgets/base",
            "top": null,
            "grid_column": null,
            "overflow_y": null,
            "overflow_x": null,
            "grid_auto_flow": null,
            "grid_area": null,
            "grid_template_columns": null,
            "flex": null,
            "_model_name": "LayoutModel",
            "justify_items": null,
            "grid_row": null,
            "max_height": null,
            "align_content": null,
            "visibility": null,
            "align_self": null,
            "height": null,
            "min_height": null,
            "padding": null,
            "grid_auto_rows": null,
            "grid_gap": null,
            "max_width": null,
            "order": null,
            "_view_module_version": "1.2.0",
            "grid_template_areas": null,
            "object_position": null,
            "object_fit": null,
            "grid_auto_columns": null,
            "margin": null,
            "display": null,
            "left": null
          }
        },
        "ae9428a0ac6f46a38ce2239153c86413": {
          "model_module": "@jupyter-widgets/controls",
          "model_name": "DescriptionStyleModel",
          "state": {
            "_view_name": "StyleView",
            "_model_name": "DescriptionStyleModel",
            "description_width": "",
            "_view_module": "@jupyter-widgets/base",
            "_model_module_version": "1.5.0",
            "_view_count": null,
            "_view_module_version": "1.2.0",
            "_model_module": "@jupyter-widgets/controls"
          }
        },
        "0cec9a9ba7694970888c47745f2095ed": {
          "model_module": "@jupyter-widgets/base",
          "model_name": "LayoutModel",
          "state": {
            "_view_name": "LayoutView",
            "grid_template_rows": null,
            "right": null,
            "justify_content": null,
            "_view_module": "@jupyter-widgets/base",
            "overflow": null,
            "_model_module_version": "1.2.0",
            "_view_count": null,
            "flex_flow": null,
            "width": null,
            "min_width": null,
            "border": null,
            "align_items": null,
            "bottom": null,
            "_model_module": "@jupyter-widgets/base",
            "top": null,
            "grid_column": null,
            "overflow_y": null,
            "overflow_x": null,
            "grid_auto_flow": null,
            "grid_area": null,
            "grid_template_columns": null,
            "flex": null,
            "_model_name": "LayoutModel",
            "justify_items": null,
            "grid_row": null,
            "max_height": null,
            "align_content": null,
            "visibility": null,
            "align_self": null,
            "height": null,
            "min_height": null,
            "padding": null,
            "grid_auto_rows": null,
            "grid_gap": null,
            "max_width": null,
            "order": null,
            "_view_module_version": "1.2.0",
            "grid_template_areas": null,
            "object_position": null,
            "object_fit": null,
            "grid_auto_columns": null,
            "margin": null,
            "display": null,
            "left": null
          }
        }
      }
    }
  },
  "cells": [
    {
      "cell_type": "markdown",
      "metadata": {
        "id": "view-in-github",
        "colab_type": "text"
      },
      "source": [
        "<a href=\"https://colab.research.google.com/github/tushar7797/Deep-Latent-Variable-Models-for-Text-Generation-and-Summarization/blob/main/CARA.ipynb\" target=\"_parent\"><img src=\"https://colab.research.google.com/assets/colab-badge.svg\" alt=\"Open In Colab\"/></a>"
      ]
    },
    {
      "cell_type": "code",
      "metadata": {
        "id": "Vvm-Fdfd1iTR",
        "colab": {
          "base_uri": "https://localhost:8080/"
        },
        "outputId": "8e1d1f96-dcb2-4ad2-d353-9105a6927d80"
      },
      "source": [
        "from google.colab import drive\n",
        "drive.mount('/content/drive')"
      ],
      "execution_count": null,
      "outputs": [
        {
          "output_type": "stream",
          "text": [
            "Mounted at /content/drive\n"
          ],
          "name": "stdout"
        }
      ]
    },
    {
      "cell_type": "code",
      "metadata": {
        "id": "YcqMCw2D1l6I"
      },
      "source": [
        "import torch\n",
        "import numpy as np\n",
        "import pandas as pd\n",
        "from collections import OrderedDict\n",
        "#from pytorch_transformers import BertTokenizer, BertConfig\n",
        "#from pytorch_transformers import BertTokenizer, BertModel, BertForMaskedLM\n",
        "import torch\n",
        "import logging\n",
        "import matplotlib.pyplot as plt\n",
        "import torch.nn as nn\n",
        "import torch.nn.functional as F\n",
        "import nltk\n",
        "import torch.optim as optim"
      ],
      "execution_count": null,
      "outputs": []
    },
    {
      "cell_type": "code",
      "metadata": {
        "id": "uuSXPWyZ1uBJ",
        "colab": {
          "base_uri": "https://localhost:8080/"
        },
        "outputId": "929636f6-d281-4965-bb0a-007545942c2a"
      },
      "source": [
        "nltk.download('punkt')\n"
      ],
      "execution_count": null,
      "outputs": [
        {
          "output_type": "stream",
          "text": [
            "[nltk_data] Downloading package punkt to /root/nltk_data...\n",
            "[nltk_data]   Unzipping tokenizers/punkt.zip.\n"
          ],
          "name": "stdout"
        },
        {
          "output_type": "execute_result",
          "data": {
            "text/plain": [
              "True"
            ]
          },
          "metadata": {
            "tags": []
          },
          "execution_count": 3
        }
      ]
    },
    {
      "cell_type": "code",
      "metadata": {
        "id": "wgNRFqaM1wV_",
        "colab": {
          "base_uri": "https://localhost:8080/"
        },
        "outputId": "cc1bf90d-9d0c-46fc-9d8c-522a1e294bae"
      },
      "source": [
        "pip install sacremoses"
      ],
      "execution_count": null,
      "outputs": [
        {
          "output_type": "stream",
          "text": [
            "Collecting sacremoses\n",
            "\u001b[?25l  Downloading https://files.pythonhosted.org/packages/7d/34/09d19aff26edcc8eb2a01bed8e98f13a1537005d31e95233fd48216eed10/sacremoses-0.0.43.tar.gz (883kB)\n",
            "\r\u001b[K     |▍                               | 10kB 26.0MB/s eta 0:00:01\r\u001b[K     |▊                               | 20kB 12.6MB/s eta 0:00:01\r\u001b[K     |█▏                              | 30kB 12.7MB/s eta 0:00:01\r\u001b[K     |█▌                              | 40kB 12.0MB/s eta 0:00:01\r\u001b[K     |█▉                              | 51kB 8.2MB/s eta 0:00:01\r\u001b[K     |██▎                             | 61kB 7.6MB/s eta 0:00:01\r\u001b[K     |██▋                             | 71kB 8.6MB/s eta 0:00:01\r\u001b[K     |███                             | 81kB 9.6MB/s eta 0:00:01\r\u001b[K     |███▍                            | 92kB 9.2MB/s eta 0:00:01\r\u001b[K     |███▊                            | 102kB 9.8MB/s eta 0:00:01\r\u001b[K     |████                            | 112kB 9.8MB/s eta 0:00:01\r\u001b[K     |████▌                           | 122kB 9.8MB/s eta 0:00:01\r\u001b[K     |████▉                           | 133kB 9.8MB/s eta 0:00:01\r\u001b[K     |█████▏                          | 143kB 9.8MB/s eta 0:00:01\r\u001b[K     |█████▋                          | 153kB 9.8MB/s eta 0:00:01\r\u001b[K     |██████                          | 163kB 9.8MB/s eta 0:00:01\r\u001b[K     |██████▎                         | 174kB 9.8MB/s eta 0:00:01\r\u001b[K     |██████▊                         | 184kB 9.8MB/s eta 0:00:01\r\u001b[K     |███████                         | 194kB 9.8MB/s eta 0:00:01\r\u001b[K     |███████▍                        | 204kB 9.8MB/s eta 0:00:01\r\u001b[K     |███████▉                        | 215kB 9.8MB/s eta 0:00:01\r\u001b[K     |████████▏                       | 225kB 9.8MB/s eta 0:00:01\r\u001b[K     |████████▌                       | 235kB 9.8MB/s eta 0:00:01\r\u001b[K     |█████████                       | 245kB 9.8MB/s eta 0:00:01\r\u001b[K     |█████████▎                      | 256kB 9.8MB/s eta 0:00:01\r\u001b[K     |█████████▋                      | 266kB 9.8MB/s eta 0:00:01\r\u001b[K     |██████████                      | 276kB 9.8MB/s eta 0:00:01\r\u001b[K     |██████████▍                     | 286kB 9.8MB/s eta 0:00:01\r\u001b[K     |██████████▊                     | 296kB 9.8MB/s eta 0:00:01\r\u001b[K     |███████████▏                    | 307kB 9.8MB/s eta 0:00:01\r\u001b[K     |███████████▌                    | 317kB 9.8MB/s eta 0:00:01\r\u001b[K     |███████████▉                    | 327kB 9.8MB/s eta 0:00:01\r\u001b[K     |████████████▎                   | 337kB 9.8MB/s eta 0:00:01\r\u001b[K     |████████████▋                   | 348kB 9.8MB/s eta 0:00:01\r\u001b[K     |█████████████                   | 358kB 9.8MB/s eta 0:00:01\r\u001b[K     |█████████████▍                  | 368kB 9.8MB/s eta 0:00:01\r\u001b[K     |█████████████▊                  | 378kB 9.8MB/s eta 0:00:01\r\u001b[K     |██████████████                  | 389kB 9.8MB/s eta 0:00:01\r\u001b[K     |██████████████▌                 | 399kB 9.8MB/s eta 0:00:01\r\u001b[K     |██████████████▉                 | 409kB 9.8MB/s eta 0:00:01\r\u001b[K     |███████████████▏                | 419kB 9.8MB/s eta 0:00:01\r\u001b[K     |███████████████▋                | 430kB 9.8MB/s eta 0:00:01\r\u001b[K     |████████████████                | 440kB 9.8MB/s eta 0:00:01\r\u001b[K     |████████████████▎               | 450kB 9.8MB/s eta 0:00:01\r\u001b[K     |████████████████▊               | 460kB 9.8MB/s eta 0:00:01\r\u001b[K     |█████████████████               | 471kB 9.8MB/s eta 0:00:01\r\u001b[K     |█████████████████▍              | 481kB 9.8MB/s eta 0:00:01\r\u001b[K     |█████████████████▉              | 491kB 9.8MB/s eta 0:00:01\r\u001b[K     |██████████████████▏             | 501kB 9.8MB/s eta 0:00:01\r\u001b[K     |██████████████████▌             | 512kB 9.8MB/s eta 0:00:01\r\u001b[K     |███████████████████             | 522kB 9.8MB/s eta 0:00:01\r\u001b[K     |███████████████████▎            | 532kB 9.8MB/s eta 0:00:01\r\u001b[K     |███████████████████▋            | 542kB 9.8MB/s eta 0:00:01\r\u001b[K     |████████████████████            | 552kB 9.8MB/s eta 0:00:01\r\u001b[K     |████████████████████▍           | 563kB 9.8MB/s eta 0:00:01\r\u001b[K     |████████████████████▊           | 573kB 9.8MB/s eta 0:00:01\r\u001b[K     |█████████████████████▏          | 583kB 9.8MB/s eta 0:00:01\r\u001b[K     |█████████████████████▌          | 593kB 9.8MB/s eta 0:00:01\r\u001b[K     |█████████████████████▉          | 604kB 9.8MB/s eta 0:00:01\r\u001b[K     |██████████████████████▎         | 614kB 9.8MB/s eta 0:00:01\r\u001b[K     |██████████████████████▋         | 624kB 9.8MB/s eta 0:00:01\r\u001b[K     |███████████████████████         | 634kB 9.8MB/s eta 0:00:01\r\u001b[K     |███████████████████████▍        | 645kB 9.8MB/s eta 0:00:01\r\u001b[K     |███████████████████████▊        | 655kB 9.8MB/s eta 0:00:01\r\u001b[K     |████████████████████████        | 665kB 9.8MB/s eta 0:00:01\r\u001b[K     |████████████████████████▌       | 675kB 9.8MB/s eta 0:00:01\r\u001b[K     |████████████████████████▉       | 686kB 9.8MB/s eta 0:00:01\r\u001b[K     |█████████████████████████▏      | 696kB 9.8MB/s eta 0:00:01\r\u001b[K     |█████████████████████████▋      | 706kB 9.8MB/s eta 0:00:01\r\u001b[K     |██████████████████████████      | 716kB 9.8MB/s eta 0:00:01\r\u001b[K     |██████████████████████████▎     | 727kB 9.8MB/s eta 0:00:01\r\u001b[K     |██████████████████████████▊     | 737kB 9.8MB/s eta 0:00:01\r\u001b[K     |███████████████████████████     | 747kB 9.8MB/s eta 0:00:01\r\u001b[K     |███████████████████████████▍    | 757kB 9.8MB/s eta 0:00:01\r\u001b[K     |███████████████████████████▉    | 768kB 9.8MB/s eta 0:00:01\r\u001b[K     |████████████████████████████▏   | 778kB 9.8MB/s eta 0:00:01\r\u001b[K     |████████████████████████████▌   | 788kB 9.8MB/s eta 0:00:01\r\u001b[K     |█████████████████████████████   | 798kB 9.8MB/s eta 0:00:01\r\u001b[K     |█████████████████████████████▎  | 808kB 9.8MB/s eta 0:00:01\r\u001b[K     |█████████████████████████████▋  | 819kB 9.8MB/s eta 0:00:01\r\u001b[K     |██████████████████████████████  | 829kB 9.8MB/s eta 0:00:01\r\u001b[K     |██████████████████████████████▍ | 839kB 9.8MB/s eta 0:00:01\r\u001b[K     |██████████████████████████████▊ | 849kB 9.8MB/s eta 0:00:01\r\u001b[K     |███████████████████████████████▏| 860kB 9.8MB/s eta 0:00:01\r\u001b[K     |███████████████████████████████▌| 870kB 9.8MB/s eta 0:00:01\r\u001b[K     |███████████████████████████████▉| 880kB 9.8MB/s eta 0:00:01\r\u001b[K     |████████████████████████████████| 890kB 9.8MB/s \n",
            "\u001b[?25hRequirement already satisfied: regex in /usr/local/lib/python3.6/dist-packages (from sacremoses) (2019.12.20)\n",
            "Requirement already satisfied: six in /usr/local/lib/python3.6/dist-packages (from sacremoses) (1.15.0)\n",
            "Requirement already satisfied: click in /usr/local/lib/python3.6/dist-packages (from sacremoses) (7.1.2)\n",
            "Requirement already satisfied: joblib in /usr/local/lib/python3.6/dist-packages (from sacremoses) (1.0.0)\n",
            "Requirement already satisfied: tqdm in /usr/local/lib/python3.6/dist-packages (from sacremoses) (4.41.1)\n",
            "Building wheels for collected packages: sacremoses\n",
            "  Building wheel for sacremoses (setup.py) ... \u001b[?25l\u001b[?25hdone\n",
            "  Created wheel for sacremoses: filename=sacremoses-0.0.43-cp36-none-any.whl size=893261 sha256=2d590b290b33f11b9812f4666fff6858925e156840f2caf8956819bcc1b1b972\n",
            "  Stored in directory: /root/.cache/pip/wheels/29/3c/fd/7ce5c3f0666dab31a50123635e6fb5e19ceb42ce38d4e58f45\n",
            "Successfully built sacremoses\n",
            "Installing collected packages: sacremoses\n",
            "Successfully installed sacremoses-0.0.43\n"
          ],
          "name": "stdout"
        }
      ]
    },
    {
      "cell_type": "code",
      "metadata": {
        "id": "3PQf325R1y_Q",
        "colab": {
          "base_uri": "https://localhost:8080/"
        },
        "outputId": "7e7d6225-8455-49d5-c486-ca8ff4cea42d"
      },
      "source": [
        "pip install boto3"
      ],
      "execution_count": null,
      "outputs": [
        {
          "output_type": "stream",
          "text": [
            "Collecting boto3\n",
            "\u001b[?25l  Downloading https://files.pythonhosted.org/packages/e9/eb/84794204fff2d6234da730da7b1cc52effea7b701cc4e51b0394b749754e/boto3-1.16.62-py2.py3-none-any.whl (130kB)\n",
            "\r\u001b[K     |██▌                             | 10kB 18.9MB/s eta 0:00:01\r\u001b[K     |█████                           | 20kB 16.1MB/s eta 0:00:01\r\u001b[K     |███████▌                        | 30kB 13.9MB/s eta 0:00:01\r\u001b[K     |██████████                      | 40kB 12.4MB/s eta 0:00:01\r\u001b[K     |████████████▋                   | 51kB 8.9MB/s eta 0:00:01\r\u001b[K     |███████████████                 | 61kB 9.7MB/s eta 0:00:01\r\u001b[K     |█████████████████▋              | 71kB 9.5MB/s eta 0:00:01\r\u001b[K     |████████████████████▏           | 81kB 10.5MB/s eta 0:00:01\r\u001b[K     |██████████████████████▋         | 92kB 9.9MB/s eta 0:00:01\r\u001b[K     |█████████████████████████▏      | 102kB 8.7MB/s eta 0:00:01\r\u001b[K     |███████████████████████████▋    | 112kB 8.7MB/s eta 0:00:01\r\u001b[K     |██████████████████████████████▏ | 122kB 8.7MB/s eta 0:00:01\r\u001b[K     |████████████████████████████████| 133kB 8.7MB/s \n",
            "\u001b[?25hCollecting s3transfer<0.4.0,>=0.3.0\n",
            "\u001b[?25l  Downloading https://files.pythonhosted.org/packages/ea/43/4b4a1b26eb03a429a4c37ca7fdf369d938bd60018fc194e94b8379b0c77c/s3transfer-0.3.4-py2.py3-none-any.whl (69kB)\n",
            "\u001b[K     |████████████████████████████████| 71kB 8.3MB/s \n",
            "\u001b[?25hCollecting botocore<1.20.0,>=1.19.62\n",
            "\u001b[?25l  Downloading https://files.pythonhosted.org/packages/f0/29/4bb69158274cd87632ecea00efa95d08f3f137de799170ab9f7651abaac4/botocore-1.19.62-py2.py3-none-any.whl (7.2MB)\n",
            "\u001b[K     |████████████████████████████████| 7.2MB 13.8MB/s \n",
            "\u001b[?25hCollecting jmespath<1.0.0,>=0.7.1\n",
            "  Downloading https://files.pythonhosted.org/packages/07/cb/5f001272b6faeb23c1c9e0acc04d48eaaf5c862c17709d20e3469c6e0139/jmespath-0.10.0-py2.py3-none-any.whl\n",
            "Collecting urllib3<1.27,>=1.25.4; python_version != \"3.4\"\n",
            "\u001b[?25l  Downloading https://files.pythonhosted.org/packages/23/fc/8a49991f7905261f9ca9df5aa9b58363c3c821ce3e7f671895442b7100f2/urllib3-1.26.3-py2.py3-none-any.whl (137kB)\n",
            "\u001b[K     |████████████████████████████████| 143kB 58.6MB/s \n",
            "\u001b[?25hRequirement already satisfied: python-dateutil<3.0.0,>=2.1 in /usr/local/lib/python3.6/dist-packages (from botocore<1.20.0,>=1.19.62->boto3) (2.8.1)\n",
            "Requirement already satisfied: six>=1.5 in /usr/local/lib/python3.6/dist-packages (from python-dateutil<3.0.0,>=2.1->botocore<1.20.0,>=1.19.62->boto3) (1.15.0)\n",
            "\u001b[31mERROR: requests 2.23.0 has requirement urllib3!=1.25.0,!=1.25.1,<1.26,>=1.21.1, but you'll have urllib3 1.26.3 which is incompatible.\u001b[0m\n",
            "\u001b[31mERROR: datascience 0.10.6 has requirement folium==0.2.1, but you'll have folium 0.8.3 which is incompatible.\u001b[0m\n",
            "Installing collected packages: urllib3, jmespath, botocore, s3transfer, boto3\n",
            "  Found existing installation: urllib3 1.24.3\n",
            "    Uninstalling urllib3-1.24.3:\n",
            "      Successfully uninstalled urllib3-1.24.3\n",
            "Successfully installed boto3-1.16.62 botocore-1.19.62 jmespath-0.10.0 s3transfer-0.3.4 urllib3-1.26.3\n"
          ],
          "name": "stdout"
        }
      ]
    },
    {
      "cell_type": "code",
      "metadata": {
        "id": "iZvUyZNP11Jv"
      },
      "source": [
        "import sys\n",
        "import os\n",
        "sys.path.append(os.path.abspath('/content/drive/My Drive/Colab Notebooks'))\n"
      ],
      "execution_count": null,
      "outputs": []
    },
    {
      "cell_type": "code",
      "metadata": {
        "id": "_KMubeJz13WF",
        "colab": {
          "base_uri": "https://localhost:8080/"
        },
        "outputId": "17990109-0ece-4250-859d-f4afb39a6b56"
      },
      "source": [
        "from __future__ import absolute_import, division, print_function\n",
        "import pdb\n",
        "import argparse\n",
        "import glob\n",
        "import logging\n",
        "import os\n",
        "import pickle\n",
        "import random\n",
        "import numpy as np\n",
        "import torch\n",
        "from torch.utils.data import DataLoader, Dataset, SequentialSampler, RandomSampler, TensorDataset\n",
        "from torch.utils.data.distributed import DistributedSampler\n",
        "#from tensorboardX import SummaryWriter\n",
        "from tqdm import tqdm, trange\n",
        "from collections import defaultdict\n",
        "# from azure.cosmosdb.table.tableservice import TableService\n",
        "# from azure.cosmosdb.table.models import Entity\n",
        "from datetime import datetime\n",
        "import sys\n",
        "import json\n",
        "import nltk\n",
        "nltk.download('punkt')\n",
        "\n",
        "sys.path.append('../../')\n",
        "from pytorch_transformers import (WEIGHTS_NAME, AdamW, WarmupLinearSchedule,\n",
        "                                  BertConfig, BertForLatentConnector, BertTokenizer,\n",
        "                                  GPT2Config, GPT2ForLatentConnector, GPT2Tokenizer,\n",
        "                                  OpenAIGPTConfig, OpenAIGPTLMHeadModel, OpenAIGPTTokenizer,\n",
        "                                  RobertaConfig, RobertaForMaskedLM, RobertaTokenizer)\n",
        "from utils import (TextDataset_Split, TextDataset_2Tokenizers_LCtrlG,\n",
        "                   frange_cycle_linear, frange_cycle_zero_linear, AverageValueMeter)\n",
        "# from modules import ARAE\n",
        "from modules import CARA\n",
        "# logging.getLogger(\"azure\").setLevel(logging.WARNING)\n",
        "# logging.getLogger(\"TableService\").setLevel(logging.WARNING)\n",
        "logger = logging.getLogger(__name__)\n",
        "import time\n",
        "def get_time_str():\n",
        "    return time.ctime().replace(' ', '_').replace(':', '-')\n",
        "\n",
        "# logging.getLogger(\"azure\").setLevel(logging.WARNING)\n",
        "# logging.getLogger(\"TableService\").setLevel(logging.WARNING)\n",
        "\n",
        "logger = logging.getLogger(__name__)\n",
        "\n",
        "\n",
        "MODEL_CLASSES = {\n",
        "    'gpt2': (GPT2Config, GPT2ForLatentConnector, GPT2Tokenizer),\n",
        "    'openai-gpt': (OpenAIGPTConfig, OpenAIGPTLMHeadModel, OpenAIGPTTokenizer),\n",
        "    'bert': (BertConfig, BertForLatentConnector, BertTokenizer),\n",
        "    'roberta': (RobertaConfig, RobertaForMaskedLM, RobertaTokenizer)\n",
        "}\n",
        "\n",
        "    \n",
        "import modules"
      ],
      "execution_count": null,
      "outputs": [
        {
          "output_type": "stream",
          "text": [
            "[nltk_data] Downloading package punkt to /root/nltk_data...\n",
            "[nltk_data]   Package punkt is already up-to-date!\n"
          ],
          "name": "stdout"
        },
        {
          "output_type": "stream",
          "text": [
            "/usr/local/lib/python3.6/dist-packages/requests/__init__.py:91: RequestsDependencyWarning: urllib3 (1.26.3) or chardet (3.0.4) doesn't match a supported version!\n",
            "  RequestsDependencyWarning)\n"
          ],
          "name": "stderr"
        }
      ]
    },
    {
      "cell_type": "code",
      "metadata": {
        "id": "-l9sXRzp15Yj"
      },
      "source": [
        "\n",
        "encoder_model_type = 'bert'\n",
        "encoder_model_name = 'bert-base-cased'\n",
        "decoder_model_type= 'gpt2'\n",
        "decoder_model_name = 'gpt2'\n",
        "\n",
        "def mask_tokens(inputs, tokenizer, args):\n",
        "    \"\"\" Prepare masked tokens inputs/labels for masked language modeling: 80% MASK, 10% random, 10% original. \"\"\"\n",
        "    labels = inputs.clone()\n",
        "    # We sample a few tokens in each sequence for masked-LM training (with probability args.mlm_probability defaults to 0.15 in Bert/RoBERTa)\n",
        "\n",
        "    masked_indices = torch.bernoulli(torch.full(labels.shape, args.mlm_probability)).to(torch.uint8)\n",
        "    labels[masked_indices==1] = -1  # We only compute loss on masked tokens\n",
        "\n",
        "    # 80% of the time, we replace masked input tokens with tokenizer.mask_token ([MASK])\n",
        "    indices_replaced = torch.bernoulli(torch.full(labels.shape, 0.8)).to(torch.uint8) & masked_indices\n",
        "    inputs[indices_replaced] = tokenizer.convert_tokens_to_ids(tokenizer.mask_token)\n",
        "\n",
        "    # 10% of the time, we replace masked input tokens with random word\n",
        "    indices_random = torch.bernoulli(torch.full(labels.shape, 0.5)).to(torch.uint8) & masked_indices & ~indices_replaced\n",
        "    indices_random = indices_random\n",
        "    random_words = torch.randint(len(tokenizer), labels.shape, dtype=torch.long)\n",
        "    inputs[indices_random] = random_words[indices_random]\n",
        "\n",
        "    # The rest of the time (10% of the time) we keep the masked input tokens unchanged\n",
        "    return inputs, labels"
      ],
      "execution_count": null,
      "outputs": []
    },
    {
      "cell_type": "code",
      "metadata": {
        "id": "Eg0e_sX_38a0",
        "colab": {
          "base_uri": "https://localhost:8080/",
          "height": 655
        },
        "outputId": "b3d2063a-3db0-4d36-e9e2-7c928b9e42ca"
      },
      "source": [
        "pip install transformers"
      ],
      "execution_count": null,
      "outputs": [
        {
          "output_type": "stream",
          "text": [
            "Collecting transformers\n",
            "\u001b[?25l  Downloading https://files.pythonhosted.org/packages/88/b1/41130a228dd656a1a31ba281598a968320283f48d42782845f6ba567f00b/transformers-4.2.2-py3-none-any.whl (1.8MB)\n",
            "\r\u001b[K     |▏                               | 10kB 1.5MB/s eta 0:00:02\r\u001b[K     |▍                               | 20kB 2.7MB/s eta 0:00:01\r\u001b[K     |▋                               | 30kB 3.2MB/s eta 0:00:01\r\u001b[K     |▊                               | 40kB 3.1MB/s eta 0:00:01\r\u001b[K     |█                               | 51kB 3.9MB/s eta 0:00:01\r\u001b[K     |█▏                              | 61kB 4.4MB/s eta 0:00:01\r\u001b[K     |█▎                              | 71kB 4.8MB/s eta 0:00:01\r\u001b[K     |█▌                              | 81kB 5.2MB/s eta 0:00:01\r\u001b[K     |█▊                              | 92kB 5.6MB/s eta 0:00:01\r\u001b[K     |█▉                              | 102kB 5.2MB/s eta 0:00:01\r\u001b[K     |██                              | 112kB 5.2MB/s eta 0:00:01\r\u001b[K     |██▎                             | 122kB 5.2MB/s eta 0:00:01\r\u001b[K     |██▍                             | 133kB 5.2MB/s eta 0:00:01\r\u001b[K     |██▋                             | 143kB 5.2MB/s eta 0:00:01\r\u001b[K     |██▉                             | 153kB 5.2MB/s eta 0:00:01\r\u001b[K     |███                             | 163kB 5.2MB/s eta 0:00:01\r\u001b[K     |███▏                            | 174kB 5.2MB/s eta 0:00:01\r\u001b[K     |███▍                            | 184kB 5.2MB/s eta 0:00:01\r\u001b[K     |███▌                            | 194kB 5.2MB/s eta 0:00:01\r\u001b[K     |███▊                            | 204kB 5.2MB/s eta 0:00:01\r\u001b[K     |████                            | 215kB 5.2MB/s eta 0:00:01\r\u001b[K     |████                            | 225kB 5.2MB/s eta 0:00:01\r\u001b[K     |████▎                           | 235kB 5.2MB/s eta 0:00:01\r\u001b[K     |████▌                           | 245kB 5.2MB/s eta 0:00:01\r\u001b[K     |████▋                           | 256kB 5.2MB/s eta 0:00:01\r\u001b[K     |████▉                           | 266kB 5.2MB/s eta 0:00:01\r\u001b[K     |█████                           | 276kB 5.2MB/s eta 0:00:01\r\u001b[K     |█████▏                          | 286kB 5.2MB/s eta 0:00:01\r\u001b[K     |█████▍                          | 296kB 5.2MB/s eta 0:00:01\r\u001b[K     |█████▋                          | 307kB 5.2MB/s eta 0:00:01\r\u001b[K     |█████▊                          | 317kB 5.2MB/s eta 0:00:01\r\u001b[K     |██████                          | 327kB 5.2MB/s eta 0:00:01\r\u001b[K     |██████▏                         | 337kB 5.2MB/s eta 0:00:01\r\u001b[K     |██████▎                         | 348kB 5.2MB/s eta 0:00:01\r\u001b[K     |██████▌                         | 358kB 5.2MB/s eta 0:00:01\r\u001b[K     |██████▊                         | 368kB 5.2MB/s eta 0:00:01\r\u001b[K     |██████▉                         | 378kB 5.2MB/s eta 0:00:01\r\u001b[K     |███████                         | 389kB 5.2MB/s eta 0:00:01\r\u001b[K     |███████▎                        | 399kB 5.2MB/s eta 0:00:01\r\u001b[K     |███████▍                        | 409kB 5.2MB/s eta 0:00:01\r\u001b[K     |███████▋                        | 419kB 5.2MB/s eta 0:00:01\r\u001b[K     |███████▉                        | 430kB 5.2MB/s eta 0:00:01\r\u001b[K     |████████                        | 440kB 5.2MB/s eta 0:00:01\r\u001b[K     |████████▏                       | 450kB 5.2MB/s eta 0:00:01\r\u001b[K     |████████▍                       | 460kB 5.2MB/s eta 0:00:01\r\u001b[K     |████████▌                       | 471kB 5.2MB/s eta 0:00:01\r\u001b[K     |████████▊                       | 481kB 5.2MB/s eta 0:00:01\r\u001b[K     |█████████                       | 491kB 5.2MB/s eta 0:00:01\r\u001b[K     |█████████                       | 501kB 5.2MB/s eta 0:00:01\r\u001b[K     |█████████▎                      | 512kB 5.2MB/s eta 0:00:01\r\u001b[K     |█████████▌                      | 522kB 5.2MB/s eta 0:00:01\r\u001b[K     |█████████▋                      | 532kB 5.2MB/s eta 0:00:01\r\u001b[K     |█████████▉                      | 542kB 5.2MB/s eta 0:00:01\r\u001b[K     |██████████                      | 552kB 5.2MB/s eta 0:00:01\r\u001b[K     |██████████▏                     | 563kB 5.2MB/s eta 0:00:01\r\u001b[K     |██████████▍                     | 573kB 5.2MB/s eta 0:00:01\r\u001b[K     |██████████▋                     | 583kB 5.2MB/s eta 0:00:01\r\u001b[K     |██████████▊                     | 593kB 5.2MB/s eta 0:00:01\r\u001b[K     |███████████                     | 604kB 5.2MB/s eta 0:00:01\r\u001b[K     |███████████▏                    | 614kB 5.2MB/s eta 0:00:01\r\u001b[K     |███████████▎                    | 624kB 5.2MB/s eta 0:00:01\r\u001b[K     |███████████▌                    | 634kB 5.2MB/s eta 0:00:01\r\u001b[K     |███████████▊                    | 645kB 5.2MB/s eta 0:00:01\r\u001b[K     |███████████▉                    | 655kB 5.2MB/s eta 0:00:01\r\u001b[K     |████████████                    | 665kB 5.2MB/s eta 0:00:01\r\u001b[K     |████████████▎                   | 675kB 5.2MB/s eta 0:00:01\r\u001b[K     |████████████▍                   | 686kB 5.2MB/s eta 0:00:01\r\u001b[K     |████████████▋                   | 696kB 5.2MB/s eta 0:00:01\r\u001b[K     |████████████▉                   | 706kB 5.2MB/s eta 0:00:01\r\u001b[K     |█████████████                   | 716kB 5.2MB/s eta 0:00:01\r\u001b[K     |█████████████▏                  | 727kB 5.2MB/s eta 0:00:01\r\u001b[K     |█████████████▍                  | 737kB 5.2MB/s eta 0:00:01\r\u001b[K     |█████████████▌                  | 747kB 5.2MB/s eta 0:00:01\r\u001b[K     |█████████████▊                  | 757kB 5.2MB/s eta 0:00:01\r\u001b[K     |██████████████                  | 768kB 5.2MB/s eta 0:00:01\r\u001b[K     |██████████████                  | 778kB 5.2MB/s eta 0:00:01\r\u001b[K     |██████████████▎                 | 788kB 5.2MB/s eta 0:00:01\r\u001b[K     |██████████████▌                 | 798kB 5.2MB/s eta 0:00:01\r\u001b[K     |██████████████▋                 | 808kB 5.2MB/s eta 0:00:01\r\u001b[K     |██████████████▉                 | 819kB 5.2MB/s eta 0:00:01\r\u001b[K     |███████████████                 | 829kB 5.2MB/s eta 0:00:01\r\u001b[K     |███████████████▏                | 839kB 5.2MB/s eta 0:00:01\r\u001b[K     |███████████████▍                | 849kB 5.2MB/s eta 0:00:01\r\u001b[K     |███████████████▋                | 860kB 5.2MB/s eta 0:00:01\r\u001b[K     |███████████████▊                | 870kB 5.2MB/s eta 0:00:01\r\u001b[K     |████████████████                | 880kB 5.2MB/s eta 0:00:01\r\u001b[K     |████████████████▏               | 890kB 5.2MB/s eta 0:00:01\r\u001b[K     |████████████████▎               | 901kB 5.2MB/s eta 0:00:01\r\u001b[K     |████████████████▌               | 911kB 5.2MB/s eta 0:00:01\r\u001b[K     |████████████████▊               | 921kB 5.2MB/s eta 0:00:01\r\u001b[K     |████████████████▉               | 931kB 5.2MB/s eta 0:00:01\r\u001b[K     |█████████████████               | 942kB 5.2MB/s eta 0:00:01\r\u001b[K     |█████████████████▎              | 952kB 5.2MB/s eta 0:00:01\r\u001b[K     |█████████████████▍              | 962kB 5.2MB/s eta 0:00:01\r\u001b[K     |█████████████████▋              | 972kB 5.2MB/s eta 0:00:01\r\u001b[K     |█████████████████▉              | 983kB 5.2MB/s eta 0:00:01\r\u001b[K     |██████████████████              | 993kB 5.2MB/s eta 0:00:01\r\u001b[K     |██████████████████▏             | 1.0MB 5.2MB/s eta 0:00:01\r\u001b[K     |██████████████████▍             | 1.0MB 5.2MB/s eta 0:00:01\r\u001b[K     |██████████████████▌             | 1.0MB 5.2MB/s eta 0:00:01\r\u001b[K     |██████████████████▊             | 1.0MB 5.2MB/s eta 0:00:01\r\u001b[K     |███████████████████             | 1.0MB 5.2MB/s eta 0:00:01\r\u001b[K     |███████████████████             | 1.1MB 5.2MB/s eta 0:00:01\r\u001b[K     |███████████████████▎            | 1.1MB 5.2MB/s eta 0:00:01\r\u001b[K     |███████████████████▌            | 1.1MB 5.2MB/s eta 0:00:01\r\u001b[K     |███████████████████▋            | 1.1MB 5.2MB/s eta 0:00:01\r\u001b[K     |███████████████████▉            | 1.1MB 5.2MB/s eta 0:00:01\r\u001b[K     |████████████████████            | 1.1MB 5.2MB/s eta 0:00:01\r\u001b[K     |████████████████████▏           | 1.1MB 5.2MB/s eta 0:00:01\r\u001b[K     |████████████████████▍           | 1.1MB 5.2MB/s eta 0:00:01\r\u001b[K     |████████████████████▋           | 1.1MB 5.2MB/s eta 0:00:01\r\u001b[K     |████████████████████▊           | 1.1MB 5.2MB/s eta 0:00:01\r\u001b[K     |█████████████████████           | 1.2MB 5.2MB/s eta 0:00:01\r\u001b[K     |█████████████████████▏          | 1.2MB 5.2MB/s eta 0:00:01\r\u001b[K     |█████████████████████▎          | 1.2MB 5.2MB/s eta 0:00:01\r\u001b[K     |█████████████████████▌          | 1.2MB 5.2MB/s eta 0:00:01\r\u001b[K     |█████████████████████▊          | 1.2MB 5.2MB/s eta 0:00:01\r\u001b[K     |█████████████████████▉          | 1.2MB 5.2MB/s eta 0:00:01\r\u001b[K     |██████████████████████          | 1.2MB 5.2MB/s eta 0:00:01\r\u001b[K     |██████████████████████▎         | 1.2MB 5.2MB/s eta 0:00:01\r\u001b[K     |██████████████████████▍         | 1.2MB 5.2MB/s eta 0:00:01\r\u001b[K     |██████████████████████▋         | 1.2MB 5.2MB/s eta 0:00:01\r\u001b[K     |██████████████████████▉         | 1.3MB 5.2MB/s eta 0:00:01\r\u001b[K     |███████████████████████         | 1.3MB 5.2MB/s eta 0:00:01\r\u001b[K     |███████████████████████▏        | 1.3MB 5.2MB/s eta 0:00:01\r\u001b[K     |███████████████████████▍        | 1.3MB 5.2MB/s eta 0:00:01\r\u001b[K     |███████████████████████▌        | 1.3MB 5.2MB/s eta 0:00:01\r\u001b[K     |███████████████████████▊        | 1.3MB 5.2MB/s eta 0:00:01\r\u001b[K     |████████████████████████        | 1.3MB 5.2MB/s eta 0:00:01\r\u001b[K     |████████████████████████        | 1.3MB 5.2MB/s eta 0:00:01\r\u001b[K     |████████████████████████▎       | 1.3MB 5.2MB/s eta 0:00:01\r\u001b[K     |████████████████████████▌       | 1.4MB 5.2MB/s eta 0:00:01\r\u001b[K     |████████████████████████▊       | 1.4MB 5.2MB/s eta 0:00:01\r\u001b[K     |████████████████████████▉       | 1.4MB 5.2MB/s eta 0:00:01\r\u001b[K     |█████████████████████████       | 1.4MB 5.2MB/s eta 0:00:01\r\u001b[K     |█████████████████████████▎      | 1.4MB 5.2MB/s eta 0:00:01\r\u001b[K     |█████████████████████████▍      | 1.4MB 5.2MB/s eta 0:00:01\r\u001b[K     |█████████████████████████▋      | 1.4MB 5.2MB/s eta 0:00:01\r\u001b[K     |█████████████████████████▉      | 1.4MB 5.2MB/s eta 0:00:01\r\u001b[K     |██████████████████████████      | 1.4MB 5.2MB/s eta 0:00:01\r\u001b[K     |██████████████████████████▏     | 1.4MB 5.2MB/s eta 0:00:01\r\u001b[K     |██████████████████████████▍     | 1.5MB 5.2MB/s eta 0:00:01\r\u001b[K     |██████████████████████████▌     | 1.5MB 5.2MB/s eta 0:00:01\r\u001b[K     |██████████████████████████▊     | 1.5MB 5.2MB/s eta 0:00:01\r\u001b[K     |███████████████████████████     | 1.5MB 5.2MB/s eta 0:00:01\r\u001b[K     |███████████████████████████     | 1.5MB 5.2MB/s eta 0:00:01\r\u001b[K     |███████████████████████████▎    | 1.5MB 5.2MB/s eta 0:00:01\r\u001b[K     |███████████████████████████▌    | 1.5MB 5.2MB/s eta 0:00:01\r\u001b[K     |███████████████████████████▋    | 1.5MB 5.2MB/s eta 0:00:01\r\u001b[K     |███████████████████████████▉    | 1.5MB 5.2MB/s eta 0:00:01\r\u001b[K     |████████████████████████████    | 1.5MB 5.2MB/s eta 0:00:01\r\u001b[K     |████████████████████████████▏   | 1.6MB 5.2MB/s eta 0:00:01\r\u001b[K     |████████████████████████████▍   | 1.6MB 5.2MB/s eta 0:00:01\r\u001b[K     |████████████████████████████▋   | 1.6MB 5.2MB/s eta 0:00:01\r\u001b[K     |████████████████████████████▊   | 1.6MB 5.2MB/s eta 0:00:01\r\u001b[K     |█████████████████████████████   | 1.6MB 5.2MB/s eta 0:00:01\r\u001b[K     |█████████████████████████████▏  | 1.6MB 5.2MB/s eta 0:00:01\r\u001b[K     |█████████████████████████████▎  | 1.6MB 5.2MB/s eta 0:00:01\r\u001b[K     |█████████████████████████████▌  | 1.6MB 5.2MB/s eta 0:00:01\r\u001b[K     |█████████████████████████████▊  | 1.6MB 5.2MB/s eta 0:00:01\r\u001b[K     |█████████████████████████████▉  | 1.6MB 5.2MB/s eta 0:00:01\r\u001b[K     |██████████████████████████████  | 1.7MB 5.2MB/s eta 0:00:01\r\u001b[K     |██████████████████████████████▎ | 1.7MB 5.2MB/s eta 0:00:01\r\u001b[K     |██████████████████████████████▍ | 1.7MB 5.2MB/s eta 0:00:01\r\u001b[K     |██████████████████████████████▋ | 1.7MB 5.2MB/s eta 0:00:01\r\u001b[K     |██████████████████████████████▉ | 1.7MB 5.2MB/s eta 0:00:01\r\u001b[K     |███████████████████████████████ | 1.7MB 5.2MB/s eta 0:00:01\r\u001b[K     |███████████████████████████████▏| 1.7MB 5.2MB/s eta 0:00:01\r\u001b[K     |███████████████████████████████▍| 1.7MB 5.2MB/s eta 0:00:01\r\u001b[K     |███████████████████████████████▌| 1.7MB 5.2MB/s eta 0:00:01\r\u001b[K     |███████████████████████████████▊| 1.8MB 5.2MB/s eta 0:00:01\r\u001b[K     |████████████████████████████████| 1.8MB 5.2MB/s eta 0:00:01\r\u001b[K     |████████████████████████████████| 1.8MB 5.2MB/s \n",
            "\u001b[?25hRequirement already satisfied: filelock in /usr/local/lib/python3.6/dist-packages (from transformers) (3.0.12)\n",
            "Requirement already satisfied: tqdm>=4.27 in /usr/local/lib/python3.6/dist-packages (from transformers) (4.41.1)\n",
            "Requirement already satisfied: importlib-metadata; python_version < \"3.8\" in /usr/local/lib/python3.6/dist-packages (from transformers) (3.4.0)\n",
            "Requirement already satisfied: numpy in /usr/local/lib/python3.6/dist-packages (from transformers) (1.19.5)\n",
            "Requirement already satisfied: packaging in /usr/local/lib/python3.6/dist-packages (from transformers) (20.8)\n",
            "Requirement already satisfied: regex!=2019.12.17 in /usr/local/lib/python3.6/dist-packages (from transformers) (2019.12.20)\n",
            "Requirement already satisfied: requests in /usr/local/lib/python3.6/dist-packages (from transformers) (2.23.0)\n",
            "Requirement already satisfied: dataclasses; python_version < \"3.7\" in /usr/local/lib/python3.6/dist-packages (from transformers) (0.8)\n",
            "Collecting tokenizers==0.9.4\n",
            "\u001b[?25l  Downloading https://files.pythonhosted.org/packages/0f/1c/e789a8b12e28be5bc1ce2156cf87cb522b379be9cadc7ad8091a4cc107c4/tokenizers-0.9.4-cp36-cp36m-manylinux2010_x86_64.whl (2.9MB)\n",
            "\u001b[K     |████████████████████████████████| 2.9MB 53.6MB/s \n",
            "\u001b[?25hRequirement already satisfied: sacremoses in /usr/local/lib/python3.6/dist-packages (from transformers) (0.0.43)\n",
            "Requirement already satisfied: zipp>=0.5 in /usr/local/lib/python3.6/dist-packages (from importlib-metadata; python_version < \"3.8\"->transformers) (3.4.0)\n",
            "Requirement already satisfied: typing-extensions>=3.6.4; python_version < \"3.8\" in /usr/local/lib/python3.6/dist-packages (from importlib-metadata; python_version < \"3.8\"->transformers) (3.7.4.3)\n",
            "Requirement already satisfied: pyparsing>=2.0.2 in /usr/local/lib/python3.6/dist-packages (from packaging->transformers) (2.4.7)\n",
            "Collecting urllib3!=1.25.0,!=1.25.1,<1.26,>=1.21.1\n",
            "\u001b[?25l  Downloading https://files.pythonhosted.org/packages/56/aa/4ef5aa67a9a62505db124a5cb5262332d1d4153462eb8fd89c9fa41e5d92/urllib3-1.25.11-py2.py3-none-any.whl (127kB)\n",
            "\u001b[K     |████████████████████████████████| 133kB 62.4MB/s \n",
            "\u001b[?25hRequirement already satisfied: chardet<4,>=3.0.2 in /usr/local/lib/python3.6/dist-packages (from requests->transformers) (3.0.4)\n",
            "Requirement already satisfied: certifi>=2017.4.17 in /usr/local/lib/python3.6/dist-packages (from requests->transformers) (2020.12.5)\n",
            "Requirement already satisfied: idna<3,>=2.5 in /usr/local/lib/python3.6/dist-packages (from requests->transformers) (2.10)\n",
            "Requirement already satisfied: joblib in /usr/local/lib/python3.6/dist-packages (from sacremoses->transformers) (1.0.0)\n",
            "Requirement already satisfied: click in /usr/local/lib/python3.6/dist-packages (from sacremoses->transformers) (7.1.2)\n",
            "Requirement already satisfied: six in /usr/local/lib/python3.6/dist-packages (from sacremoses->transformers) (1.15.0)\n",
            "\u001b[31mERROR: datascience 0.10.6 has requirement folium==0.2.1, but you'll have folium 0.8.3 which is incompatible.\u001b[0m\n",
            "Installing collected packages: tokenizers, transformers, urllib3\n",
            "  Found existing installation: urllib3 1.26.3\n",
            "    Uninstalling urllib3-1.26.3:\n",
            "      Successfully uninstalled urllib3-1.26.3\n",
            "Successfully installed tokenizers-0.9.4 transformers-4.2.2 urllib3-1.25.11\n"
          ],
          "name": "stdout"
        },
        {
          "output_type": "display_data",
          "data": {
            "application/vnd.colab-display-data+json": {
              "pip_warning": {
                "packages": [
                  "urllib3"
                ]
              }
            }
          },
          "metadata": {
            "tags": []
          }
        }
      ]
    },
    {
      "cell_type": "code",
      "metadata": {
        "id": "pVtI7NSd_6hA"
      },
      "source": [
        "from transformers import GPT2Tokenizer, GPT2LMHeadModel"
      ],
      "execution_count": null,
      "outputs": []
    },
    {
      "cell_type": "code",
      "metadata": {
        "id": "Ntu1aJ9B_1YX"
      },
      "source": [
        ""
      ],
      "execution_count": null,
      "outputs": []
    },
    {
      "cell_type": "code",
      "metadata": {
        "id": "qKmgShGY16T3",
        "colab": {
          "base_uri": "https://localhost:8080/"
        },
        "outputId": "e1d3cbf9-8dc8-41a3-d50d-0bbb49bd3581"
      },
      "source": [
        "encoder_config_class, encoder_model_class, encoder_tokenizer_class = MODEL_CLASSES[encoder_model_type]\n",
        "encoder_config = encoder_config_class.from_pretrained(encoder_model_name)\n",
        "model_encoder = encoder_model_class.from_pretrained(encoder_model_name, from_tf=bool('.ckpt' in encoder_model_name), config=encoder_config, latent_size=32)\n",
        "tokenizer_encoder = encoder_tokentokenizer_encoder = encoder_tokenizer_class.from_pretrained(encoder_model_name)\n",
        "decoder_config_class, decoder_model_class, decoder_tokenizer_class = MODEL_CLASSES[decoder_model_type]\n",
        "decoder_config = decoder_config_class.from_pretrained(decoder_model_name)\n",
        "tokenizer_decoder = decoder_tokenizer_class.from_pretrained(decoder_model_name)\n",
        "model_decoder = decoder_model_class.from_pretrained(decoder_model_name, from_tf=bool('.ckpt' in decoder_model_name), config=decoder_config, latent_size=32, latent_as_gpt_emb=True, latent_as_gpt_memory=True)"
      ],
      "execution_count": null,
      "outputs": [
        {
          "output_type": "stream",
          "text": [
            "100%|██████████| 433/433 [00:00<00:00, 137139.14B/s]\n",
            "100%|██████████| 435779157/435779157 [00:11<00:00, 36726943.97B/s]\n",
            "100%|██████████| 213450/213450 [00:00<00:00, 1102470.24B/s]\n",
            "100%|██████████| 665/665 [00:00<00:00, 196644.96B/s]\n",
            "100%|██████████| 1042301/1042301 [00:00<00:00, 2721086.34B/s]\n",
            "100%|██████████| 456318/456318 [00:00<00:00, 1749200.23B/s]\n",
            "100%|██████████| 548118077/548118077 [00:25<00:00, 21498523.45B/s]\n"
          ],
          "name": "stderr"
        }
      ]
    },
    {
      "cell_type": "code",
      "metadata": {
        "id": "SDy0Wc-xLVoM",
        "colab": {
          "base_uri": "https://localhost:8080/",
          "height": 114,
          "referenced_widgets": [
            "1648362610c44656b6741c052c04ae24",
            "5cb92b6abdad452d9710cb8f693753ed",
            "78f90cb4b01e482ba48686f8a57be0d4",
            "1b92e7af994149e4b03ce05ecccecd11",
            "715d3cc2bf4446daa5a10f5fdac9aa58",
            "d9c1cf09d01c4945b443a6d7211486ea",
            "078697a1750c443994aa824930111518",
            "6a3ba248cb6b47878c091870cb86f9e2",
            "d207b1a024f64353832158c7994465e3",
            "69d9eda5f4e94a1baed2eece29646db4",
            "eee1917e946747b385a7c26aa2a5a457",
            "fb71c92226324fe5817fbd41065b0b21",
            "98fbe26f890a48669286b7d743b34461",
            "7a3bca23bf074237b46f318901a65f4e",
            "ae9428a0ac6f46a38ce2239153c86413",
            "0cec9a9ba7694970888c47745f2095ed"
          ]
        },
        "outputId": "2bf3b5ba-d72b-4acf-cc61-39ac72a7fe02"
      },
      "source": [
        "from transformers import GPT2Tokenizer\n",
        "tokenizer_decoder2 = GPT2Tokenizer.from_pretrained(\"gpt2\")"
      ],
      "execution_count": null,
      "outputs": [
        {
          "output_type": "display_data",
          "data": {
            "application/vnd.jupyter.widget-view+json": {
              "model_id": "1648362610c44656b6741c052c04ae24",
              "version_minor": 0,
              "version_major": 2
            },
            "text/plain": [
              "HBox(children=(FloatProgress(value=0.0, description='Downloading', max=1042301.0, style=ProgressStyle(descript…"
            ]
          },
          "metadata": {
            "tags": []
          }
        },
        {
          "output_type": "stream",
          "text": [
            "\n"
          ],
          "name": "stdout"
        },
        {
          "output_type": "display_data",
          "data": {
            "application/vnd.jupyter.widget-view+json": {
              "model_id": "d207b1a024f64353832158c7994465e3",
              "version_minor": 0,
              "version_major": 2
            },
            "text/plain": [
              "HBox(children=(FloatProgress(value=0.0, description='Downloading', max=456318.0, style=ProgressStyle(descripti…"
            ]
          },
          "metadata": {
            "tags": []
          }
        },
        {
          "output_type": "stream",
          "text": [
            "\n"
          ],
          "name": "stdout"
        }
      ]
    },
    {
      "cell_type": "code",
      "metadata": {
        "id": "YeBSlJkK16Wy",
        "colab": {
          "base_uri": "https://localhost:8080/"
        },
        "outputId": "81fe440d-3c77-4ee9-f02c-4eb5f0a16e2d"
      },
      "source": [
        "special_tokens_dict = {'pad_token': '<PAD>', 'bos_token': '<BOS>', 'eos_token': '<EOS>'}\n",
        "num_added_toks = tokenizer_decoder.add_special_tokens(special_tokens_dict)\n",
        "print('We have added', num_added_toks, 'tokens to GPT2', 'total length = ', len(tokenizer_decoder))\n",
        "model_decoder.resize_token_embeddings(len(tokenizer_decoder))  # Notice: resize_token_embeddings expect to receive the full size of the new vocabulary, i.e. the length of the tokenizer.\n",
        "assert tokenizer_decoder.pad_token == '<PAD>'\n",
        "\n",
        "num_added_toks = tokenizer_decoder2.add_special_tokens(special_tokens_dict)\n",
        "print('We have added', num_added_toks, 'tokens to GPT2', 'total length = ', len(tokenizer_decoder2))\n",
        "model_decoder.resize_token_embeddings(len(tokenizer_decoder2))  # Notice: resize_token_embeddings expect to receive the full size of the new vocabulary, i.e. the length of the tokenizer.\n",
        "assert tokenizer_decoder.pad_token == '<PAD>'"
      ],
      "execution_count": null,
      "outputs": [
        {
          "output_type": "stream",
          "text": [
            "We have added 3 tokens to GPT2 total length =  50260\n",
            "We have added 3 tokens to GPT2 total length =  50260\n"
          ],
          "name": "stdout"
        }
      ]
    },
    {
      "cell_type": "code",
      "metadata": {
        "id": "YbNzHW-R16Zu"
      },
      "source": [
        "import importlib\n",
        "import imp\n",
        "#import modules\n",
        "#import modules\n",
        "importlib.reload(modules)\n",
        "\n",
        "class ARGS():\n",
        "    def __init__(self): # \n",
        "        self.encoder_model_type = 'bert'\n",
        "        self.encoder_model_name = 'bert-base-cased'\n",
        "        self.decoder_model_type= 'gpt2'\n",
        "        self.decoder_model_name = 'gpt2'\n",
        "        self.beta = 0.5\n",
        "        self.latent_size = 32\n",
        "        self.device = \"cpu\"\n",
        "        self.fb_mode = 0\n",
        "        self.length_weighted_loss = True \n",
        "        self.label_size = 5\n",
        "        self.mlm_probability = 0.15\n",
        "        \n",
        "args = ARGS()\n",
        "#model_vae = modules.CARA(model_encoder, model_decoder, tokenizer_encoder, tokenizer_decoder, args)"
      ],
      "execution_count": null,
      "outputs": []
    },
    {
      "cell_type": "code",
      "metadata": {
        "id": "QhSqx7uD2Te5"
      },
      "source": [
        "a = torch.load(\"/content/drive/My Drive/Optimus/NLP/checkpoint-508523/checkpoint-full-508523/training.bin\", map_location='cpu')\n",
        "#model_vae.load_state_dict(a['model_state_dict'], strict = False)"
      ],
      "execution_count": null,
      "outputs": []
    },
    {
      "cell_type": "code",
      "metadata": {
        "colab": {
          "base_uri": "https://localhost:8080/"
        },
        "id": "7IYcWey4LCLa",
        "outputId": "ec8481a3-b631-4640-bd1b-e4d5c4fb152e"
      },
      "source": [
        "f = open(r\"/content/drive/My Drive/Optimus/NLP/data/data/hotel/sentence_aspect_polarity/train.txt\", encoding=\"utf8\")\n",
        "x_encoder = []\n",
        "x_decoder = []\n",
        "aspects = []\n",
        "polarity = []\n",
        "count = 0\n",
        "for g in f:\n",
        "    temp = nltk.word_tokenize(g)\n",
        "    if temp[0].isdigit() and temp[1].isdigit(): \n",
        "        aspects.append([int(temp[0])])\n",
        "        polarity.append([int(temp[1])])\n",
        "        temp = temp[2:]\n",
        "        temp_dec = temp.copy()\n",
        "        temp.insert(0,'[CLS]')\n",
        "        temp.append('[Sep]')\n",
        "        x_encoder.append(temp)\n",
        "        x_decoder.append(temp_dec)\n",
        "        count = count+1\n",
        "id_tokens = []\n",
        "for a in x_encoder:\n",
        "    id_tokens.append(tokenizer_encoder.convert_tokens_to_ids(a))\n",
        "\n",
        "id_tokens_decoder = []\n",
        "for a in x_decoder:\n",
        "    temp = tokenizer_decoder2(a)['input_ids']\n",
        "    temp2 = []\n",
        "    for i in temp:\n",
        "      for b in i:\n",
        "        temp2.append(b)\n",
        "    temp2 = [tokenizer_decoder2.bos_token_id] + temp2 + [tokenizer_decoder2.eos_token_id]\n",
        "    id_tokens_decoder.append(temp2)"
      ],
      "execution_count": null,
      "outputs": [
        {
          "output_type": "execute_result",
          "data": {
            "text/plain": [
              "0.5"
            ]
          },
          "metadata": {
            "tags": []
          },
          "execution_count": 5
        }
      ]
    },
    {
      "cell_type": "code",
      "metadata": {
        "id": "HJvSnFGy2Thz"
      },
      "source": [
        "def pad_sents(sents1, sents2, pad_token1, pad_token2):\n",
        "    \"\"\" Pad list of sentences according to the longest sentence in the batch.\n",
        "        The paddings should be at the end of each sentence.\n",
        "    @param sents (list[list[str]]): list of sentences, where each sentence\n",
        "                                    is represented as a list of words\n",
        "    @param pad_token (str): padding token\n",
        "    @returns sents_padded (list[list[str]]): list of sentences where sentences shorter\n",
        "        than the max length sentence are padded out with the pad_token, such that\n",
        "        each sentences in the batch now has equal length.\n",
        "    \"\"\"\n",
        "    sents_padded1 = sents1.copy()\n",
        "    sents_padded2 = sents2.copy()\n",
        "    max_length = 0\n",
        "    for i in range(len(sents1)):\n",
        "        if len(sents1[i]) > max_length:\n",
        "            max_length = len(sents1[i]) \n",
        "  \n",
        "    for i in range(len(sents2)):\n",
        "        if len(sents2[i]) > max_length:\n",
        "            max_length = len(sents2[i]) \n",
        "\n",
        "    for i in range(len(sents1)):\n",
        "        for k in range(len(sents_padded1[i]),max_length):\n",
        "            sents_padded1[i].append(pad_token1)\n",
        "\n",
        "    for i in range(len(sents2)):\n",
        "        for k in range(len(sents_padded2[i]),max_length):\n",
        "            sents_padded2[i].append(pad_token2)\n",
        "\n",
        "    ### END YOUR CODE\n",
        "\n",
        "    return sents_padded1, sents_padded2 \n",
        "\n"
      ],
      "execution_count": null,
      "outputs": []
    },
    {
      "cell_type": "code",
      "metadata": {
        "id": "f8gRzFXB2Tk8",
        "colab": {
          "base_uri": "https://localhost:8080/"
        },
        "outputId": "31a99f04-3e19-4638-c334-010cce09fc37"
      },
      "source": [
        "padded_input_tokens, padded_output_tokens = pad_sents(id_tokens,id_tokens_decoder, 0, tokenizer_decoder.pad_token_id)\n",
        "tokenized_text0 = torch.tensor(padded_input_tokens)\n",
        "tokenized_text1 = torch.tensor(padded_output_tokens)\n",
        "\n",
        "input_seq_ids, tgt_seq_ids = mask_tokens(tokenized_text0, tokenizer_encoder, args)\n",
        "labels = tokenized_text1\n",
        "attention_mask=(input_seq_ids > 0).float() # confirm whether attention mask should be with inputs or tokenized_text"
      ],
      "execution_count": null,
      "outputs": [
        {
          "output_type": "stream",
          "text": [
            "/usr/local/lib/python3.6/dist-packages/ipykernel_launcher.py:16: UserWarning: indexing with dtype torch.uint8 is now deprecated, please use a dtype torch.bool instead. (Triggered internally at  /pytorch/aten/src/ATen/native/IndexingUtils.h:25.)\n",
            "  app.launch_new_instance()\n",
            "/usr/local/lib/python3.6/dist-packages/ipykernel_launcher.py:22: UserWarning: indexing with dtype torch.uint8 is now deprecated, please use a dtype torch.bool instead. (Triggered internally at  /pytorch/aten/src/ATen/native/IndexingUtils.h:25.)\n"
          ],
          "name": "stderr"
        }
      ]
    },
    {
      "cell_type": "code",
      "metadata": {
        "id": "qAT0QQGm3tGw"
      },
      "source": [
        "import importlib\n",
        "import imp\n",
        "#import modules\n",
        "#import modules\n",
        "importlib.reload(modules)\n",
        "\n",
        "class ARGS():\n",
        "    def __init__(self): # \n",
        "        self.encoder_model_type = 'bert'\n",
        "        self.encoder_model_name = 'bert-base-cased'\n",
        "        self.decoder_model_type= 'gpt2'\n",
        "        self.decoder_model_name = 'gpt2'\n",
        "        self.beta = 0.5\n",
        "        self.latent_size = 32\n",
        "        self.device = \"cuda\"\n",
        "        self.fb_mode = 0\n",
        "        self.length_weighted_loss = True \n",
        "        self.label_size = 5\n",
        "        self.beta_cls = 1\n",
        "        self.mlm_probability = 0.15\n",
        "        #self.training = False\n",
        "        self.training = False\n",
        "        self.block_size = 52\n",
        "        self.temperature = 1\n",
        "        self.top_k = 3\n",
        "        self.top_p = 0\n",
        "\n",
        "args = ARGS()\n",
        "model_vae = modules.CARA(model_encoder, model_decoder, tokenizer_encoder, tokenizer_decoder, args)\n",
        "\n",
        "\n",
        "a = torch.load(\"/content/drive/My Drive/Optimus/NLP/checkpoint-508523/checkpoint_beta_0_1.pth\", map_location='cpu')\n",
        "model_vae.load_state_dict(a, strict = False)\n",
        "del a\n",
        "#a = torch.load(\"/content/drive/My Drive/Optimus/NLP/checkpoint-508523/checkpoint-full-508523/training.bin\", map_location='cpu')\n",
        "\n",
        "#r = model_vae(input_seq_ids=input_seq_ids[3:5], tgt_seq_ids=labels[3:5], cond_labels=torch.tensor(polarity).squeeze()[3:5], attention_mask=attention_mask[3:5])"
      ],
      "execution_count": null,
      "outputs": []
    },
    {
      "cell_type": "code",
      "metadata": {
        "id": "u_NRhzi4pu-i",
        "colab": {
          "base_uri": "https://localhost:8080/"
        },
        "outputId": "bb196d85-46bd-4db3-e137-506f4c8135f0"
      },
      "source": [
        "model_vae.load_state_dict(a['model_state_dict'], strict = False)"
      ],
      "execution_count": null,
      "outputs": [
        {
          "output_type": "execute_result",
          "data": {
            "text/plain": [
              "_IncompatibleKeys(missing_keys=['linear.weight', 'label_embedding.weight', 'latent_generator.weight', 'latent_generator.bias', 'latent_classifier.linear1.weight', 'latent_classifier.linear1.bias', 'latent_classifier.linear2.weight', 'latent_classifier.linear2.bias', 'latent_discriminator.weight', 'latent_discriminator.bias', 'gpt_embeddings.weight', 'conv1.weight', 'conv1.bias', 'classifier.linear1.weight', 'classifier.linear1.bias', 'classifier.linear2.weight', 'classifier.linear2.bias'], unexpected_keys=[])"
            ]
          },
          "metadata": {
            "tags": []
          },
          "execution_count": 45
        }
      ]
    },
    {
      "cell_type": "code",
      "metadata": {
        "id": "RBQnzwpvgWFd"
      },
      "source": [
        "del a "
      ],
      "execution_count": null,
      "outputs": []
    },
    {
      "cell_type": "code",
      "metadata": {
        "id": "5mq-2KERtdwh"
      },
      "source": [
        "model_vae.training = False\n",
        "model_vae = model_vae.to(\"cuda\")\n",
        "dev = \"cuda\"\n",
        "#outputs = model_vae(input_seq_ids=input_seq_ids[13:25].to(dev), tgt_seq_ids=labels[13:25].to(dev), cond_labels=aspects_tensor.squeeze()[13:25].to(dev), attention_mask=attention_mask[13:25].to(dev))"
      ],
      "execution_count": null,
      "outputs": []
    },
    {
      "cell_type": "code",
      "metadata": {
        "id": "9W7bS7ZZ0tM5"
      },
      "source": [
        ""
      ],
      "execution_count": null,
      "outputs": []
    },
    {
      "cell_type": "code",
      "metadata": {
        "id": "qV3uvZpZ3ume"
      },
      "source": [
        "no_decay = ['bias', 'LayerNorm.weight']\n",
        "\n",
        "optimizer_grouped_parameters = [\n",
        "        {'params': [p for n, p in model_vae.named_parameters() if any(nd in n for nd in no_decay)], 'weight_decay': 0.0}\n",
        "        ]\n",
        "optimizer = AdamW(optimizer_grouped_parameters, lr=5e-5,eps=1e-8)\n",
        "\n",
        "#input_seq_ids = input_seq_ids.to('cuda')\n",
        "#labels = labels.to('cuda')\n",
        "#model_vae.to('cuda')"
      ],
      "execution_count": null,
      "outputs": []
    },
    {
      "cell_type": "code",
      "metadata": {
        "colab": {
          "base_uri": "https://localhost:8080/"
        },
        "id": "BFh__C9Zkq5o",
        "outputId": "c21bea5b-758f-46b4-bfc9-b19662f930ad"
      },
      "source": [
        "len(optimizer_grouped_parameters[0]['params'])"
      ],
      "execution_count": null,
      "outputs": [
        {
          "output_type": "execute_result",
          "data": {
            "text/plain": [
              "203"
            ]
          },
          "metadata": {
            "tags": []
          },
          "execution_count": 42
        }
      ]
    },
    {
      "cell_type": "code",
      "metadata": {
        "id": "cFCJWqdc1qOP"
      },
      "source": [
        "bos_token_id = model_vae.tokenizer_decoder.encode('<BOS>')[0]\n",
        "eos_token_id = model_vae.tokenizer_decoder.encode('<EOS>')[0]\n",
        "pad_token_id = model_vae.tokenizer_decoder.encode('<PAD>')[0]\n",
        "\n",
        "generated_ids = []\n",
        "generated_text = []\n",
        "for g in outputs['at_generated']:\n",
        "    if g[0] in [eos_token_id, bos_token_id]:\n",
        "        g = g[1:]\n",
        "    if g[0] in [eos_token_id, bos_token_id]:\n",
        "        g = g[1:]\n",
        "        \n",
        "    g = g.tolist()\n",
        "    g = g[:g.index(eos_token_id)] if eos_token_id in g else g\n",
        "    g = g[:g.index(pad_token_id)] if pad_token_id in g else g\n",
        "    g_text = model_vae.tokenizer_decoder.decode(g, clean_up_tokenization_spaces=True)\n",
        "    generated_ids.append(g)\n",
        "    generated_text.append(g_text)\n",
        "\n",
        "tgt_seq_ids = []\n",
        "tgt_seq_text = []\n",
        "for g in outputs['tgt_seq_ids']:\n",
        "    if g[0] in [eos_token_id, bos_token_id]:\n",
        "        g = g[1:]\n",
        "    if g[0] in [eos_token_id, bos_token_id]:\n",
        "        g = g[1:]\n",
        "    g = g.tolist()\n",
        "    g = g[:g.index(eos_token_id)] if eos_token_id in g else g\n",
        "    g = g[:g.index(pad_token_id)] if pad_token_id in g else g\n",
        "    #g = g[:g.index(0)] if pad_token_id in g else g\n",
        "    g_text = model_vae.tokenizer_decoder.decode(g, clean_up_tokenization_spaces=True)\n",
        "    tgt_seq_ids.append(g)\n",
        "    tgt_seq_text.append(g_text)"
      ],
      "execution_count": null,
      "outputs": []
    },
    {
      "cell_type": "markdown",
      "metadata": {
        "id": "jORz0fxqvXVo"
      },
      "source": [
        "Training\n"
      ]
    },
    {
      "cell_type": "code",
      "metadata": {
        "id": "25WwiVnYvY9i"
      },
      "source": [
        "tokens_tensor = tokenized_text0\n",
        "input_seq_ids, tgt_seq_ids = mask_tokens(tokenized_text0, tokenizer_encoder, args)\n",
        "labels = tokenized_text1\n",
        "model_vae.to('cuda')\n",
        "polarity_tensor = torch.tensor(polarity).squeeze()\n",
        "attention_mask = attention_mask.to('cuda')\n",
        "input_seq_ids = input_seq_ids.to('cuda')\n",
        "labels = labels.to('cuda')\n",
        "polarity_tensor = polarity_tensor.to('cuda')\n",
        "n_epochs = 1\n",
        "batch_size = 16\n",
        "n_iter = int(tokenized_text0.size()[0]/batch_size) + 1\n",
        "beta_t_list = frange_cycle_zero_linear(n_iter, start=0.0, stop=0.5,  n_cycle=1, ratio_increase=0.25, ratio_zero= 0.25)\n",
        "scheduler = WarmupLinearSchedule(optimizer, warmup_steps=0, t_total=n_iter)\n",
        "loss_val = []\n",
        "permutation = torch.randperm(tokens_tensor.size()[0]).to('cuda')\n",
        "\n",
        "for epoch in range(n_epochs):\n",
        "    start1 = time.time()\n",
        "    # X is a torch Variable\n",
        "    #permutation = torch.randperm(tokens_tensor_train.size()[0])\n",
        "    #avg_loss = 0\n",
        "    count = 0\n",
        "    for i in range(0,tokens_tensor.size()[0], batch_size):\n",
        "        start = time.time()\n",
        "        optimizer.zero_grad()\n",
        "        indices = permutation[i:i+batch_size]\n",
        "        batch_input_seq_ids, batch_tgt_seq_ids, batch_cond_labels, batch_attention = input_seq_ids[indices], labels[indices], polarity_tensor[indices], attention_mask[indices] \n",
        "        beta_t = beta_t_list[count]\n",
        "        model_vae.args.beta_cls = beta_t\n",
        "\n",
        "        #if beta_t == 0.0:\n",
        "        #  model_vae.args.fb_mode = 0\n",
        "        #else:\n",
        "        #  model_vae.args.fb_mode = 1\n",
        "\n",
        "        #model_vae.args.fb_mode = 2\n",
        "\n",
        "        loss_dict, acc_dict = model_vae(input_seq_ids=batch_input_seq_ids, tgt_seq_ids=batch_tgt_seq_ids, cond_labels=batch_cond_labels, attention_mask=batch_attention)\n",
        "\n",
        "        for key, value in loss_dict.items():\n",
        "          loss_dict[key] = value.mean()\n",
        "        \n",
        "        loss = loss_dict['loss']\n",
        "        loss_val.append(loss.detach())\n",
        "        loss.backward()\n",
        "        optimizer.step()\n",
        "        scheduler.step()  # Update learning rate schedule\n",
        "        model_vae.zero_grad()\n",
        "        \n",
        "        \n",
        "\n",
        "        if count%50 == 0:\n",
        "          print((time.time()-start1)/60)\n",
        "          print(loss_dict.items())\n",
        "        count = count + 1\n",
        "\n",
        "    "
      ],
      "execution_count": null,
      "outputs": []
    },
    {
      "cell_type": "markdown",
      "metadata": {
        "id": "ikOuhZJ4wMVC"
      },
      "source": [
        "Loss Values for different training Conditions\n"
      ]
    },
    {
      "cell_type": "code",
      "metadata": {
        "colab": {
          "base_uri": "https://localhost:8080/",
          "height": 282
        },
        "id": "DddKEfivPX9d",
        "outputId": "9b7f9af9-6321-4534-91a0-c54f409afb40"
      },
      "source": [
        "plt.plot(loss_val[10:])"
      ],
      "execution_count": null,
      "outputs": [
        {
          "output_type": "execute_result",
          "data": {
            "text/plain": [
              "[<matplotlib.lines.Line2D at 0x7f1d9a1c8e10>]"
            ]
          },
          "metadata": {
            "tags": []
          },
          "execution_count": 23
        },
        {
          "output_type": "display_data",
          "data": {
            "image/png": "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\n",
            "text/plain": [
              "<Figure size 432x288 with 1 Axes>"
            ]
          },
          "metadata": {
            "tags": [],
            "needs_background": "light"
          }
        }
      ]
    },
    {
      "cell_type": "code",
      "metadata": {
        "colab": {
          "base_uri": "https://localhost:8080/",
          "height": 282
        },
        "id": "mPE-3PiodnNX",
        "outputId": "88650d1c-dff4-4277-fc2f-6c5ae887a782"
      },
      "source": [
        "plt.plot(loss_val)"
      ],
      "execution_count": null,
      "outputs": [
        {
          "output_type": "execute_result",
          "data": {
            "text/plain": [
              "[<matplotlib.lines.Line2D at 0x7fcd0e590048>]"
            ]
          },
          "metadata": {
            "tags": []
          },
          "execution_count": 22
        },
        {
          "output_type": "display_data",
          "data": {
            "image/png": "iVBORw0KGgoAAAANSUhEUgAAAXAAAAD4CAYAAAD1jb0+AAAABHNCSVQICAgIfAhkiAAAAAlwSFlzAAALEgAACxIB0t1+/AAAADh0RVh0U29mdHdhcmUAbWF0cGxvdGxpYiB2ZXJzaW9uMy4yLjIsIGh0dHA6Ly9tYXRwbG90bGliLm9yZy+WH4yJAAAgAElEQVR4nO3dd3xUVfr48c+TDiEk9A4BQYp0IkUQARER7OvadwV1WVe/rLv608Wua1nbWnatrMraXVQQFaUqIkpLkN47iUASIEAI6ef3x9yZzGRukkmZzEzyvF8vXtx77p2Z52Zmnjn33HPOFWMMSimlQk9YoANQSilVNZrAlVIqRGkCV0qpEKUJXCmlQpQmcKWUClERtflizZs3N4mJibX5kkopFfJSUlIyjTEtSpfXagJPTEwkOTm5Nl9SKaVCnojssyvXJhSllApRmsCVUipEaQJXSqkQpQlcKaVClCZwpZQKUZrAlVIqRGkCV0qpEKUJXCmlypFXWMTM5AME49TbtTqQRymlQs2r3+3kX9/tpGFUOBf3bRvocDxoDVypEFRYVBzoEOqNjOx8ALJyCgIciTdN4EqFmJ3p2XR94Fu+2XAwoHFsSD3OtkMn/foaqcdy2Jnu39eoSLiVJYuDsAlFE7hSIWZDWhYACzYdCmgcl7yyjAtfWurz/sXFhhcXbif9RK7PjxnxzPeMfcH31/CHMBHAEX+w0QSuVIgpLHIkkrAw8Wn/u2eu49Z3Az+J3NrULF5evIO/zlxb4899Itd/zRuuBG6Tv+euP8j4l5Zy4GgOCzcf9lsMZdEErlSIcZ7Kh4tvCfzzNaks2lL7ycXpia83kzhtrqsGezq/yHa/vMIiCqrQtr/p1+P0fXQBX/ySVq04y1KSwL0z+NSP17D10EnOf+EH/vBe7f9IagJXKoC+35bOM/O2+rz/nLVprNnnaEIJ97EGXpYfd2Sw/bD/25ffWran3O0fr9rP/1bvp/uD8xjzzyXl7rv10Aly8gs9yrYcdBzD0u0ZHuUZJ/N4eM7GKv0oOO3KyCav0PGDY5fAnbXy/ELHa5TuavjE15u5yw9nHE6awJUCitzOj0/kFlSqz+++I6dInDaXVXuOAo626czsPNt9X160g5R9x1zrk2es5vUluwDo9fA8rn5jOfd8uo4Vu4/YxnDnJ2v5X/IBwPcmFKcPVuxjzPNLXOu/e3sV415cSm5BETNXH+DV73dW6vnKcjyngB+2Z/D6kl0kTptb4f73zdrA3z7fAMCBo6cBR0Isnaiz8woZ/9KP3PW/dR7ldn+FlH3HOPvJRby3fB+L3c4+NqYdJ3nvUZ+Oo6jYcP4/f+DDlfut9Yofc+RUPonT5vL+8r3kFhTx1rI9zFrjnzMD0ASuFD/tzOSM+79h3YEsDp/Ipe+jC5i+dLfPj1+2MxOA2b+kcjK3gCnvp3BLGW3OLy7azm9e/9l2W05+Eav2HuXTlFSunb6CT1NS+dfiHWUmQV+bUJwe/GIjuzNPUVhUzJ2f/OIq7/HQPO79fD3Pzd/G9KUlSdcYw0uLtnPw+GnXvsXFxlUjdfpy3a88PGeja/2qN37mpndWeZ1ZTP245DUzTubR/+8L2PTrcdtYL3/1J3o9PN+j7KTVzr1m/zFeX7KLOWs9E6Pz525n+klmrUl1lecWFPODVTu/+N/LuOqN5cxZm0bqsRzb13Zy1qrt1vcfybF9X/YdcTznQ3M20eOheeU+f03QBK7qrfzCYg6fyHWdei/ffYT0E46a85frfiXjZB5JTyxi66ETrsccP13g1exQUlEWThc4klvq0RzWp2bxeUoqVbXt0EleWLjd9bo/78r02F5eE0p5zQbbD2czZ+2vttue+mar6/H7juTw0qId3PJfx4/R7F9S6XL/N3R/0DMx/fnjX3hv+T6W7chkybZ0dqRn2z73weOO3icGWLYzg6ycAt78wf6HcvPBEx7rezNPsflXR1mDqHCembeVOz9xNE04f8eMMcxZm8bYF5a6zoYAHv1qEze9s4odbu/bnZ+s5YrXfuZwOT1iZvzs2fRzyG3fsq4pfLfVvvzxrzf7ZSSnTwlcRBJE5DMR2SoiW0RkmNu2u0XEiEjzGo9OKT+aNms9Q55a7GrbfPrbrXy70dG3Oq+wmO+2HiYzO4+nvtnKmOeXcOBoDhNe/pFxLzq6tW1MO052XiEbUh21yDApuUAXGR7Gpa/8xN2flpzul+6G5r5eZNPFIcItQfd7bAHX/2elx/b//rzXVbN098GKfXR74FveW77XtpZo91ql5RYUuX4gdmc6EvLz87e7tts1Ed349komzVhd4XMDNIgMB/C558ao55e4zmqctVyA95bv5bGvNrvWV+x2JO4jp/JdZc4BOCdyPZtkMk7mMeSpxbav93lKKs/O2+ZRdsjtTKSsawevfr/LtvztZXs45oeBQL7WwF8G5hljegD9gC0AItIBGAfsr/HIlPKzBZscycM9n71mtUfnFRa5ypduz2B35ik+WLGPtCzHl3jLwRNc/O9l9H5kvqtNOiungG82OPpmR0Z41o73HTnF0Zx8j7KDbjU6uxpzRLgQGV5+M8nfv9pETn4hF738I/fNWg/AS4scifbhOZtsH5PvQ2PuF7+kuRJfbkExry/Z5Tp2gBcXbi/roT7JsX7onGcs7ipzYfXhOZs4ftoR5xdrf+WEtdyqcYzXvmW1OPV8aB7zNh4iZd9Rhj/9HcdO5Xv88Dol7z3G91vTAfhk9QGfY/SnCudCEZF4YCQwCcAYkw84P4kvAvcCc/wUn1J+U14Tcl5BsVevgzy3NtAtpU7xAeZuOMhca3RkZHhJ3ejqN5azqtSFs6On8j1q4HbtpRFhYURHhFNQVOi1zanQutB28HguWw6e4B9X9vWofdop3bZr56E5mzizVSPXeun27NK12crYlHaCu2Z6J0gn5xlOVRyw2rUr+uFzd7qgiBcWbqN768akZZ1m/Mv2r38yr5DJ/13N3qcnVik2f4zk9GUyq85ABjBDRPoBKcCdwFggzRizTip5MUWpYOD81Np9r/KLir0GbrhfvCsvAQFEhpUk8NLJG2Dg4wt9ijE7r/xE6d6cAI4eMBXliayc8hO80/bD9m3ZAF+ts29D94UvZwBVtclqJ8+2+YF5rYzmDXAca/8OCQAcPmHfg8hpyFOLqhSbcwBWTfKlCSUCGAi8bowZAJwCHgXuBx6u6MEiMkVEkkUkOSPDu71OqUApr+KRV1DsddEpz4eaq1PpJpSq2JlRdgIty5T3Uyrc508frqlKOCHB2b6/O/OU17aKBjPNTPbtgnNFCb4s1emPXhZfEngqkGqMcV5B+QxHQu8MrBORvUB7YI2ItC79YGPMdGNMkjEmqUWLFjUUtlLVY4xxtZ2G23wLThcUkVfg+YWrTAKPCKt+B6+56wM7WZWqWYV+mEulwk+ZMeYQcEBEultF5wNrjDEtjTGJxphEHEl+oLWvUkHv240lH9WcMoZ2P/nNFo/1yiTUYJy5TlVdn3bx1X4Of0wB7Gs1YSrwoYisB/oDT9V4JErVIvcLfWXNzVGt58/2rZ1ZhYbrh3Ss9nMUBKgNHGPMWqsZpK8x5nJjzLFS2xONMZllPV6pYDar1CRIZyc2Ib5BZLWe073LXWlTRnZh0jmJ1Xr+igzu3JSL+7bx62s4NW8UVeE+cdHBffOvEV3LH8YSF1P9+AuLA1cDV6peePaqvnx62zn848o+5e6X1KlJlV/DGMPDF/fikn5tmfnHYRU/oAqKig0vXtO/Rp9z3l/OtS2PsQblALx782D7B5dxTfeFq/txWf/guk2Z060jOjOsSzP6tItnbM9W3HbeGa5t/TskcN9FPSr1fAGrgStVH1zary2X9nMkk0i7K5tuhldQY7Pzl7HdAMekSGFhwr+vG8Dgzk0rH6gP2jdpUOExXHt2B9vy64d05K4LzvQqb9Eo2mP9usGOZoWEhiVnK+edWdJR4eVrS35AnFOy9mzTmP9OPttVPqRLM166pj8f3TqEl67pzwW9WpUbsy9uGtap0o8xeCfX3yZ14OMpQ/lq6ghiIsOZ5pawmzSMpElDzzOPBpHhbH18PB/dOsT2NQLZBq5Unff8b/t51CZLe/umJNepdFSE51enZVy03UM8NI5xJLryLnBeNag9U8d0ZcrILux9eiLP/7Zfhc0PAzom8MglvVzrj192Fk9e4TiD6N2uMfdc2N32cXY1wr7t43nqij7cMbor70xKcpVP/90gIksdc2PrbzG0czPb57+sfzvXsghsf+Iivvq/4Yzq3pK28Y6RksYYRIRzujbn8gHt+M/vk/ju7vM8nuedSUm2SXlYF/vXvXZw1dur3du6yxsMZIB2TRoAEBvl+MzERIYRExnOOV2be0yD4BSQXihK1UV2X033L51dkj3njOZcNag9ANERYbx6/UDXtqX3jmbjYxe61qdd1IMf7hnFud2a06lZQ6aO6eqaW6R0W+js289xLT926VncPa4790/oCTgS+rK/jWGkVbPt3a6xV1z92icweXhn1/r1QzrRyEr6X089lz+O7GL7Nyg9q+C7Nw/moz8MBRwTZY3p0YrOzWMBGHdWa4/BSY7jcPyNWvjw49W7bTxREWFEWGcFzj74dr9lXVo04skrervWOzaN5U+junrt9/jlZzHE5gymmdUmP6JrcxbdNZIdT17EazeUvFdJnZp4nAW4m9C75LpBeWcwxjjOwr6eOoKZtzmawdzz8/L7zvd6TKD6gStVL7jPr22XWCLCxTUMPSoijIluFwljIsNdSRPgtvPOoFOzWN6/ZQg/3DOau8d156I+rWmX0MAj2QIM6NiE6wZ3oHXjGGJtatvxDSP576SzmXROIq9cN5AuVlJ1co5HeuY3fRjWpZnXLIWl1/t3SOCTKUM9htQ3i41iaJemHscA8NXUEay635GMStdInYNmSie6AR0TaBbr2bzw2o0DPdb/dV1/RnVvQZt47zlLAG4Y4l7jNkRHeKeqri3j+N8fh9GjdZxHecu4GD68dQiv3jCQri3jiAwP46y2JT98nZvH0qV5yTQBL1zdr8z3uyzO3Xu3i3fF5v6j3yIumr1PT6RdQgNXWa823j++1aUJXNUrp/OLWLIt3aPMLomUHoX587QxRIaHuWpRUWXUzl66pj+vXD/AdlvLuBh+mjaGM1o08tr2jyv7suJ+71qbU1iY8OilZ5HYPJZv7vS8mNi+SUMArjm7Ix9PGer1WBHhz2O6cs4ZjiaHC3q1YmiXZq4h7Y9e0ouUhy4gOsK7+ahRdAQtrYmhSv8QOM8knInduXn27cNJeegCACadk8ht553haj5yGtSpKf+dPNhVI7czqnsLK4ZIj6atMT1aeuw3Y/LZPDixp0fZ8K7NPXoSdWoWS/KDY+nashG3jTrDddbwm4HtuXJg+zJjKIv75yMq3IrN5kfg5hGOH+vnrurr+jvWpODu26NUDZs2a73XXNhz7hjuNe/HoERHL5PBiU35ywXdaGvVpK4b3JGZyamce6b9qOLLB7SzLa9JMZHhbHtiPBFhYXy/Nd0rodm5a1x3nvpmCz/vOuJKxM6Rpl1bxpX3UBf3qQfO7dac83u04oMV+xnUqSnz/nKubdfLRy89y6fntvPGjYPYmZ5N6/gY18RfVwxox3NX9fVov28T34Bbz+3Ckm0ZZd4JCaB5o2gW3VXSvr7sb6O9mn9EYOqYrvz7u51ePzoA/7iyD/fN2uBRFmVTA3e6ZURnbhnR2au8pmgCV/WCMYZDJ3JZn+p5B5gHJ/akZeMYr9pRy7gY21nnBnRsUuXZ6GqSs7Y8thK9NpxNHs47+fRq25jlu4/QOr7iNmynDk0bcNOwRG4919GuvuupCdW+N2dZYiLD6W2NgAwLE1IeHEvjBpFEhIdhc7LAB2X0/iiL88wFHLX6n3cdoUOThpxzQTPuGN3V9oK2s7mmbXxJ04gzgQdi7K0mcFUvvLd8H4986T0/9u+q0OUsVDlrlI0bOL72fxvfg0v6tfW5Bg7w471jPNb9lbztNGvk+w9NZd0yojO/GdieJlbbfVm9kQZ0bMKr1w/0OOtxJfAAZHBN4KpesJvSFcpuy/bV2J6tSNnn201yA+22UV2IbxDBVYMc/b+jIsJcU6jWdyLiSt4VmVhqhKvzM5SUWPXBXVWlCVzVC3a9GKD8KWV98dZNSRXvFCSiI8KZNNx/7bH1VVREGN/8+Vw6NWtY8c41TBO4qhfKG6CjVHX1alvzXQR9od0IVb1gNzJOqVCnCVzVC23ceg0oVVdoE4qq8wb8fQHHrDusK1WXaA1c1XmavFVdpQlc1TvP/Kb8ub6VChWawFWd9NQ3W1hdRt/vnn6YVEipQPCpDVxEEoC3gN44RozeDFwJXALkA7uAycaYLD/FqZTPiosN05fuZvrS3dw+6gyv7bkFxaQ8ONY1mZNSocrXGvjLwDxjTA+gH7AFWAj0Nsb0BbYD9/knRKUq51R+oWv5tSW7PLZd3r8t/Tsk0KxRtPZMUSGvwgQuIvHASOBtAGNMvjEmyxizwBjj/KasACo/J6NSfpBTzl3mX7p2gNfddJQKVb58kjsDGcAMEflFRN4SkdhS+9wMfFvj0SlVBdl5hbblz17Vt5YjUcq/fEngEcBA4HVjzADgFDDNuVFEHgAKgQ/tHiwiU0QkWUSSMzIyaiBkpco3f9Mh23LnPRyVqit8SeCpQKoxZqW1/hmOhI6ITAIuBm4wpW9hYjHGTDfGJBljklq0sJ8EX6ma9Oy8bbbl+TY38VUqlFWYwI0xh4ADIuK8tfX5wGYRGQ/cC1xqjMnxY4xK+Sy3oOz2737t42sxEqX8z9dzyqnAhyISBewGJgOrgWhgoTUl5wpjzG1+iVIpH5zOL+J3b6+03bbpsQttbxisVCjz6RNtjFkLlJ74uGvNh6NU1RzJzuOjlftJ3nfMa9t1gztq8lZ1kn6qVZ0w6vklnMz17n1y64jOPHhxrwBEpJT/aYdYVSfYJW9Ak7eq0zSBK6VUiNImFBXyZvy0x6ts6piu5Y7IVKou0ASuQpYxhl8OZPHYV5u9tt09rrvNI5SqW7QJRYWsmckHuPK1n73K43TEpaonNIGrkLVyj/d83+0SGrDorvMCEI1StU8TuKpT+nWIp1XjmECHoVSt0ASuQpfN1CaFOt+Jqkc0gauQZZeqi4o1gav6QxO4Cll2E2BeP6RjACJRKjA0gauQZU2i5jKhT2vO79kqQNEoVfs0gauQFRHmmcBfu2FQgCJRKjA0gauQdbqcub+Vqg80gauQddptqPxl/dsGMBKlAkOHrKmQlFtQxOKt6QzsmMCs24cHOhylAkJr4CpkzPhpD4nT5jJ/0yGem++47+Wa/VkBjkqpwNEauAoZb/6wG4A/vp/iKouO0DqIqr/0069CwuIthzl0IterPEoTuKrHfPr0i0iCiHwmIltFZIuIDBORpiKyUER2WP838Xewqv665d1k2/KwUn3BlapPfK2+vAzMM8b0APoBW4BpwGJjTDdgsbWuVI04lVdI4rS5fLXu13L30/yt6rMKE7iIxAMjgbcBjDH5xpgs4DLgXWu3d4HL/RWkqn/Ssk4D8K/FO8qd30Tzt6rPfKmBdwYygBki8ouIvCUisUArY8xBa59DgO0YZhGZIiLJIpKckZFRM1GresMAJ04XlLm9b/uE2gtGqSDjSwKPAAYCrxtjBgCnKNVcYhyzCtlWk4wx040xScaYpBYtWlQ3XlUPXfjSUo91954nr1w/oLbDUSpo+JLAU4FUY8xKa/0zHAn9sIi0AbD+T/dPiKo+cp9oMP1knse2r6aOAKBhVDhxMZG1GZZSQaXCBG6MOQQcEBHnXWLPBzYDXwI3WWU3AXP8EqGql5zt3jvTs11lVw1qz7pHxtEuoUGgwlIqqPg6kGcq8KGIRAG7gck4kv9MEbkF2Adc7Z8QVX1UWFzsVTaxTxviG0RijOHWEZ25rH+7AESmVPDwKYEbY9YCSTabzq/ZcJRyKCjyTuAxkeGAYx7wBy/uVdshKRV0dBibCkoFNve2jI7Uj6tS7vQboYKS3c2Jw3XUjlIeNIGroFRg0wau+VspT5rAVVAqKPRO4J2axQYgEqWCl04nq4LOidwC3ly626Ns/aPjaKx9vpXyoAlcBZX1qVk8N38bKfuOeZRr8lbKmyZwFTS+3XCQP324JtBhKBUytA1cBY21B/T2aEpVhtbAVdDIs7lweW635gxObBqAaJQKfprAVdDIKyzyKnvv5sGI9h9UypY2oaigkZmd71WmyVupsmkCV0Fj/5Ecj/U/j+kaoEiUCg3ahKKCRrHbJOCzbj+HgR31PtlKlUdr4CooFBcbdlhzf7dLaKDJWykfaAJXtW5nejaLNh/2KPt49X7X8szbhtV2SEqFJG1CUbVu7As/ALD36Ymuss2/nnAt6x13lPKN1sBVwB06nsuHKx01cO10opTvtAauAuqpb7Yw3W3iKuM9DbhSqgw+JXAR2QucBIqAQmNMkoj0B94AYoBC4HZjzCp/BarqpumlZh3s0y4+QJEoFXoqUwMfbYzJdFt/FnjMGPOtiEyw1kfVZHCqbrO77+X7twwOQCRKhabqtIEboLG1HA/8Wv1wVH2yJ/OUV1lCw6gARKJUaPK1Bm6ABSJigDeNMdOBvwDzReR5HD8E59g9UESmAFMAOnbsWP2IVZ3x0cr9nuu3DglQJEqFJl8T+AhjTJqItAQWishW4Crgr8aYz0XkauBtYGzpB1rJfjpAUlKSXqJSLoVu971c/cBYWsRFBzAapUKPT00oxpg06/90YDYwGLgJmGXt8qlVplS50k/mupY/WLGfdgkN2Pz3CzV5K1UFFSZwEYkVkTjnMjAO2Iijzfs8a7cxwA5/BanqhkfmbGTwk4s9ytKyTtMwSnuzKlUVvnxzWgGzrWk9I4CPjDHzRCQbeFlEIoBcrHZupcry7vJ9gQ5BqTqlwgRujNkN9LMpXwYM8kdQSimlKqbnrsrvfs06zeq9RwMdhlJ1jiZw5XeTZ6xm2+GTtttuH3VGLUejVN2hCVz5XWZ2nlfZuF6teGBiTzo1iw1ARErVDZrAld81iongyKmS+11eObAdL1zdP4ARKVU36HSyyu8iwz0/ZjGR4QGKRKm6RWvgym/mrE2jQ9OGXpNWxURoAleqJmgCV35z5ydrbctjIvXET6maoN8kVeuitQauVI3QBK78IregqMxtDaL0Y6dUTdBvkvKLP3/8S5nbzmjRqBYjUaru0jZw5RcLNh+2Lf/8T8MY1KlpLUejVN2kNXBVqzR5K1VzNIGrWjPpnMRAh6BUnaIJXNU4Y+xvvPTopWfVciRK1W2awFWNWbn7CNOX7iLf5m7zXZrrnCdK1TS9iKlqzDXTVwBwxYD2Xttm3z68tsNRqs7TBK5q3NlPLnItJzZryJJ7RgcwGqXqLm1CUX51dqL2OlHKX3xK4CKyV0Q2iMhaEUl2K58qIltFZJOIPOu/MFWw+2lnpldZYrOGPDCxZwCiUap+qEwTymhjjOtbKiKjgcuAfsaYPBFpWePRqZCwPjWLG95a6VX+wMReJDSMCkBEStUP1WlC+RPwtDEmD8AYk14zIalQc/B4rm25zjqolH/5+g0zwAIRSRGRKVbZmcC5IrJSRH4QkbPtHigiU0QkWUSSMzIyaiJmFWQKi+z7feuNG5TyL1+bUEYYY9KsZpKFIrLVemxTYChwNjBTRLqYUqM4jDHTgekASUlJ9t90FdLyi+xnHtQbNyjlXz7VwI0xadb/6cBsYDCQCswyDquAYqC5vwJVwaug0P53OVqbUJTyqwq/YSISKyJxzmVgHLAR+AIYbZWfCUQB3l0RVJ13LCfftrz0rdSUUjXLlyaUVsBsEXHu/5ExZp6IRAHviMhGIB+4qXTziarbEqfNZfLwRGb8tNdr26RzEunRunHtB6VUPVJhAjfG7Ab62ZTnAzf6IygV/Jy/1XbJ+6GLe3HLiM61HJFS9Y82UqoqKbDpefLuzYMBGNtThwQoVRt0LhRVJbmF3j1PRnZrzt6nJwYgGqXqJ62BqyqZ9M4qrzLrOolSqpZoAleVZoxhzf4sj7LoCP0oKVXb9FunKu1UvmfzSadmDfl4ytAARaNU/aVt4KrSskr1+/7XtQPo1yEhQNEoVX9pDVxV2onThR7rsdE6ZF6pQNAErirtdIFnE0qDKD2RUyoQ9JunfLZy9xE+S0nl7M6ed9mJjdIauFKBoAlcVSgrJ5/M7DzXTYs/TUn12N5Qa+BKBYR+81SFLnllGQeOnrbdtuiukURpF0KlAkK/eapCZSVvgK4t42oxEqWUO03gqsquHNgu0CEoVa9pAldV9tilZwU6BKXqNU3gqkoenNiTuJjIQIehVL2mCVxVWou4aG4c2inQYShV72kCV+XKyS/0Knv5mv56x3mlgoAmcFWuYzkF3oU6a6xSQcGnBC4ie0Vkg4isFZHkUtvuFhEjInpH+jrEGMPfv9rMsh0ZgQ5FKVWGygzkGW2M8bjrvIh0wHGX+v01GpUKuNyCYt75aY/tNtEquFJBobpNKC8C9wJ6N/o6JjvPu+37hiEdAejZRgfvKBUMfK2BG2CBiBjgTWPMdBG5DEgzxqwr71ZaIjIFmALQsWPH6sarasn5/1zisT7njuH065DAk1f0CUxASikvvibwEcaYNBFpCSwUka3A/TiaT8pljJkOTAdISkrSmnqIOJHrWQPv0y4+QJEopcriUxOKMSbN+j8dmA2cB3QG1onIXqA9sEZEWvspThVAvds1JixM272VCjYVJnARiRWROOcyjlr3amNMS2NMojEmEUgFBhpjDvk1WhUQAzs2CXQISikbvjShtAJmW+3cEcBHxph5fo1KBZVG0TrrsFLBqMJvpjFmN9Cvgn0SayogFXwaN9A5T5QKRlq1Ui5ZOfnkFRazas9RV9ll/dvyO533RKmgpAlcAZCy7yi/eX25V/mLV/fXC5hKBSmdC0Wx7dBJr+TdIi6avU9P1OStVBDTBK44cirPqyzjpHeZUiq4aAJXhNmMpG0WGxWASJRSlaEJXHlNTdUoOoJFd50XkFiUUr7Ti5iKOz76xbX817FnMmVkFxpE6Q0blAp2msAVmdkl7d1Tx3TVC6O4Sq0AAA62SURBVJdKhQhtQqnnioo95xfT5K1U6NAEXs9tOXgi0CEopapIE3g9ty41y7V83pktAhiJUqqyNIHXc2v3lyTwJy7vHcBIlFKVpRcx67FJM1axZFsGY3u25IVr+tM4RietUiqUaA28HluyzXHH+VHdW2ryVioEaQKvp37NOu1avnxAuwBGopSqKk3g9VB2XiEvL9oBwGs3DNQbNigVovSbW098mnyAwydyuWN0V3o/Mh+AYV2aMaFPmwBHppSqKk3g9cQ9n60H4OYRnV1l3Vo1ClQ4Sqka4FMCt+48fxIoAgqNMUki8hxwCZAP7AImG2Oyyn4WFQxy8otcywl6qzSlQlpl2sBHG2P6G2OSrPWFQG9jTF9gO3BfjUenatwDsze4lmN0wiqlQlqVL2IaYxYYYwqt1RVA+5oJSfnT/E2HXcs3DNF7XSoVynxN4AZYICIpIjLFZvvNwLd2DxSRKSKSLCLJGRkZVY1T1bAZk88mXptQlAppvibwEcaYgcBFwB0iMtK5QUQeAAqBD+0eaIyZboxJMsYktWihc20EizOa6wVMpUKdTwncGJNm/Z8OzAYGA4jIJOBi4AZjjCnzCVRQ6dE6jo7NGgY6DKVUNVWYwEUkVkTinMvAOGCjiIwH7gUuNcbk+DdMVZ49mad4edEOfP0NHXdWaz9HpJSqDb7UwFsBy0RkHbAKmGuMmQe8AsQBC0VkrYi84cc4/S5x2lwe/GJDxTsGockzVvHiou2kl3En+b2ZpzzWbx91Rm2EpZTyswr7gRtjdgP9bMq7+iWiAPpgxX6euLxPoMOotNyCYsD77jpOf5251rU8vGszYiK1+6BSdYHOhULZia8mLdx8mMRpc0k/kVvjzx1u3QbN7jjmrj/IL25zfjeI1MG3StUVmsCBgqJiv7/GByv2AbDZ7RZmM5MPuMp9lVtQRH6hZ7xi3cYyr9D7OO74aI3H+kW9tf1bqbpCq2NAfi0kcGeSdb/OeK81P8mNQyseULNqz1HObNWI/n9fSGKzhiy5Z7RrW5j15HmFRWU9HIDkB8fSvFF0JSNXSgUrTeBAgU3NtbSr31jOroxsUh66oEqv4bzXe3EVelvmFRZx9ZvLGdSpCQB7j3h2+gmzqYFv/vUE98/2vCiryVupuiUkE/iujGyax0YT37DyIwlP5hbQ59EFPP/bfmTnFrAzI5v/G92tzP3vm7WBfu3jWbX3KODorXLFgHa8eE3/Sr2uWLXkW95NJjoijG1PXOTaNmdtGtER4Yy3mjd+3pVJ68YxdGnRiL2Zpyiykv66A/ZzhYVZGTzPupiZV1jEhH/96LHPezcPrlS8SqngFxIJfOXuIzw9byvHcwr44v+Gc/4/f6BhVDgf/WEol7/6E+d2a87rNw4q88YEzv7RIkLqMcedaKYv3cX2w9kA3Dy8ZIrVVXuOMrhzU9f6x6v28/Eqz+eb/UsaP+/KZOX9YzHGUFhsiAwvuZxw3fQVLN99BIBdT03gte938t3WdNf2vMJij4uZd37i6CVyz4XduWN0V67/z0oA9vxjAqOeX0KsNelUodtFysRpcwHY9NiFXk0ot72f4vU3SGwWa/u3UUqFrpC4iDl3g6Mnxe7MU/R9dAHgmBb18ld/AuDHHZnM23gIgJ92ZvLfn/Z4PP4f326l833fUFBUzNVvLgfAvcPGmH/+4Fq++s3lXPbKMrLzCinP4ROOPtc3vLWSbg98S+K0udw1cy37j+S4kjfAGz/s4p8Lt3s9fvBTi73Knpu/zWP9dIEjIZ/KL7tt+6xH5rMz3fFD5GxC+X6b95wzbRNiyj0epVToCYkaeFR4xb8zacdOszM9mxvectReF21J56Vr+9O8UTTTl+4GYP/RHE7mOhKzM+nZWZd6nN6PzOfxy3uX/5pZp/l5V0mynrUmjVlr0jz2KZ2UK/L9tpKa+suLd1TqsffP2uB1XBf3bcP43q2J8OFvqJQKLVKbU5gkJSWZ5OTkSj/u2XlbeW3Jrko/rnmjKMb2bMUnqw9U+rF1xeOXncXvhiUGOgylVDWISIrbvRhcQqJaFhVRtTAzs/PrdfIGdNSlUnVYSCTw6AhHErpucIcARxJ6ureOC3QISik/CYkE7hwEExtl32S/7G+jbctrygMTevKnMiaAuufC7rxx46AqP/dEt7vCd6rhKV7f+n0Sfdsn1OhzKqWCR0gkcOfQ8ehI73CjwsNo1TiGgR2rnqhaNfYe4DJlZBfX8uThia7BMqXdMborAzt5v7a47X/lgHZlvrb7hdIOTRqy9+mJfHjrEB+iLnHemd43yhic2JSxvVpV6nmUUqElJBL48dMFADSO8R648+ilZxEZHsas24d7bevQtAENSrUBN4uNAqBXm8YADO7clBX3nc/Wx8czuntJIrx/Qk/XckR4GEdP5QPw17Fner1Oy7gYpv/OsxZ+74U9XMt2PzwA489qTUO3Gwt3bem4S46z3TrRrUb+z996TQgJwLs3D/YYVPT9/xtFyoNjee8WHbijVF0XEt0Ic6x+0K3jS/oyP3RxL+asTePas+3bxSPDhR/vHcNbP+7miblbiAoPo0VcND9NG2M9ZyH/WbqH3w/rhIgQExnOjMmDefzrza7a9sd/GMr2wycB2GcNX+/Swn5AzKjuLblxaEemjunGpl+Pc96ZLenTLp4b317Jpf3a8fEqx8XUYV2ace/47vRrn+AaQbnorpEcP11ArzbxAPRpF881SR2Yen5XRjzzPQCXD2jHS4u38//GdSdl3zEGdmzCoE5N6NDUkeQ/vW0Yic1iaRGnw+WVqi9CohthZnYer32/i2kX9WD13qO0b9KATjYjC19bspN5Gw/x+GW9aREXTduEBizYdIgp76fw3FV9+W1S1S+CvvHDLp7+diurHxjL2U8ucpXvfXpiuY8rKjau6V6rYuSz33Pw+Gl2PDmhys+hlAptZXUjDIkEXl3rDmTRt328az6SqjDGkJNfRGx0BPM2HuTXrFwSmzdkTA//tjMXFhVjwGOovlKqfikrgYdEE0p19etQ/Z4YIkKsNdfK+N5tKti75ugISqVUWXxK4CKyFzgJFAGFxpgkEWkK/A9IBPYCVxtjjvknTKWUUqVVpno32hjT360aPw1YbIzpBiy21pVSStWS6pyfXwa8ay2/C1xe/XCUUkr5ytcEboAFIpIiIlOsslbGmIPW8iFAR40opVQt8vUi5ghjTJqItAQWishW943GGCMitt1ZrIQ/BaBjx47VClYppVQJn2rgxpg06/90YDYwGDgsIm0ArP/Ty3jsdGNMkjEmqUUL7yHfSimlqqbCBC4isSIS51wGxgEbgS+Bm6zdbgLm+CtIpZRS3nxpQmkFzLYGwUQAHxlj5onIamCmiNwC7AOu9l+YSimlSqvVkZgikoEj2VdFcyCzBsMJBD2GwAv1+EGPIVjU5jF0MsZ4tUHXagKvDhFJthtKGkr0GAIv1OMHPYZgEQzHoOO0lVIqRGkCV0qpEBVKCXx6oAOoAXoMgRfq8YMeQ7AI+DGETBu4UkopT6FUA1dKKeVGE7hSSoWokEjgIjJeRLaJyE4RCcppa0Wkg4h8LyKbRWSTiNxplTcVkYUissP6v4lVLiLyL+uY1ovIwMAeQQkRCReRX0Tka2u9s4istGL9n4hEWeXR1vpOa3tiION2EpEEEflMRLaKyBYRGRZK74OI/NX6DG0UkY9FJCbY3wMReUdE0kVko1tZpf/mInKTtf8OEbnJ7rVq+Riesz5H60VktogkuG27zzqGbSJyoVt57eUrY0xQ/wPCgV1AFyAKWAf0CnRcNnG2AQZay3HAdqAX8CwwzSqfBjxjLU8AvgUEGAqsDPQxuB3LXcBHwNfW+kzgWmv5DeBP1vLtwBvW8rXA/wIduxXLu8Ct1nIUkBAq7wPQDtgDNHD7208K9vcAGAkMBDa6lVXqbw40BXZb/zexlpsE+BjGARHW8jNux9DLykXRQGcrR4XXdr4K2Ae1En/UYcB8t/X7gPsCHZcPcc8BLgC2AW2ssjbANmv5TeA6t/1d+wU47vY4btAxBvja+pJlun2IXe8HMB8YZi1HWPtJgOOPtxKglCoPiffBSuAHrCQWYb0HF4bCe4Dj7lzuya9Sf3PgOuBNt3KP/QJxDKW2XQF8aC175CHn+1Db+SoUmlCcH2inVKssaFmnsQOAlZQ9b3qwHtdLwL1AsbXeDMgyxhRa6+5xuo7B2n7c2j+QOgMZwAyrGegtaxK2kHgfjGPmz+eB/cBBHH/TFELrPXCq7N88qN4LGzfjOHOAIDmGUEjgIUVEGgGfA38xxpxw32YcP8lB229TRC4G0o0xKYGOpRoicJwGv26MGQCcotTt/oL5fbDaiS/D8UPUFogFxgc0qBoQzH9zX4jIA0Ah8GGgY3EXCgk8Dejgtt7eKgs6IhKJI3l/aIyZZRWXNW96MB7XcOBScdzE+hMczSgvAwki4py50j1O1zFY2+OBI7UZsI1UINUYs9Ja/wxHQg+V92EssMcYk2GMKQBm4XhfQuk9cKrs3zzY3gsARGQScDFwg/VDBEFyDKGQwFcD3ayr8FE4LtR8GeCYvIiIAG8DW4wxL7htKmve9C+B31tX5IcCx91ONwPCGHOfMaa9MSYRx9/5O2PMDcD3wFXWbqWPwXlsV1n7B7SWZYw5BBwQke5W0fnAZkLnfdgPDBWRhtZnyhl/yLwHbir7N58PjBORJtaZyDirLGBEZDyOJsVLjTE5bpu+BK61egF1BroBq6jtfFWbFwiqcWFhAo5eHbuABwIdTxkxjsBxirgeWGv9m4CjPXIxsANYBDS19hfgVeuYNgBJgT6GUsczipJeKF2sD+dO4FMg2iqPsdZ3Wtu7BDpuK67+QLL1XnyBo0dDyLwPwGPAVhw3TnkfR0+HoH4PgI9xtNkX4DgLuqUqf3Mc7cw7rX+Tg+AYduJo03Z+p99w2/8B6xi2ARe5lddavtKh9EopFaJCoQlFKaWUDU3gSikVojSBK6VUiNIErpRSIUoTuFJKhShN4EopFaI0gSulVIj6/y9K57h95segAAAAAElFTkSuQmCC\n",
            "text/plain": [
              "<Figure size 432x288 with 1 Axes>"
            ]
          },
          "metadata": {
            "tags": [],
            "needs_background": "light"
          }
        }
      ]
    },
    {
      "cell_type": "code",
      "metadata": {
        "colab": {
          "base_uri": "https://localhost:8080/",
          "height": 282
        },
        "id": "qfIU4LxW1q9F",
        "outputId": "53d019e4-6f43-4b38-87d7-aa7467b2aa56"
      },
      "source": [
        "plt.plot(loss_val)"
      ],
      "execution_count": null,
      "outputs": [
        {
          "output_type": "execute_result",
          "data": {
            "text/plain": [
              "[<matplotlib.lines.Line2D at 0x7f407b6aa7b8>]"
            ]
          },
          "metadata": {
            "tags": []
          },
          "execution_count": 22
        },
        {
          "output_type": "display_data",
          "data": {
            "image/png": "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\n",
            "text/plain": [
              "<Figure size 432x288 with 1 Axes>"
            ]
          },
          "metadata": {
            "tags": [],
            "needs_background": "light"
          }
        }
      ]
    },
    {
      "cell_type": "code",
      "metadata": {
        "colab": {
          "base_uri": "https://localhost:8080/",
          "height": 285
        },
        "id": "CHVTvSRb7t-2",
        "outputId": "a4c894f6-5011-414a-c953-d894b48c50e2"
      },
      "source": [
        "plt.plot(loss_val)"
      ],
      "execution_count": null,
      "outputs": [
        {
          "output_type": "execute_result",
          "data": {
            "text/plain": [
              "[<matplotlib.lines.Line2D at 0x7fc0e2b961d0>]"
            ]
          },
          "metadata": {
            "tags": []
          },
          "execution_count": 21
        },
        {
          "output_type": "display_data",
          "data": {
            "image/png": "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\n",
            "text/plain": [
              "<Figure size 432x288 with 1 Axes>"
            ]
          },
          "metadata": {
            "tags": [],
            "needs_background": "light"
          }
        }
      ]
    },
    {
      "cell_type": "markdown",
      "metadata": {
        "id": "TxaCOcIzv_wF"
      },
      "source": [
        "Generate Text\n"
      ]
    },
    {
      "cell_type": "code",
      "metadata": {
        "id": "5JudKHNVv-oE"
      },
      "source": [
        "dev = \"cuda\"\n",
        "eos_token_id = tokenizer_decoder2.eos_token_id\n",
        "bos_token_id = tokenizer_decoder2.bos_token_id\n",
        "pad_token_id = tokenizer_decoder2.pad_token_id\n",
        "\n",
        "tokens_tensor = tokenized_text0[:64]\n",
        "input_seq_ids, tgt_seq_ids = mask_tokens(tokenized_text0, tokenizer_encoder, args)\n",
        "labels = tokenized_text1[:64]\n",
        "attention_mask_temp = attention_mask[:64]\n",
        "#model_test.to(dev)\n",
        "model_vae2.to(dev)\n",
        "#aspects_tensor = torch.tensor(aspects).squeeze()\n",
        "attention_mask = attention_mask.to(dev)\n",
        "input_seq_ids = input_seq_ids.to(dev)\n",
        "labels = labels.to(dev)\n",
        "aspects_tensor = aspects_tensor.to(dev)\n",
        "n_epochs = 1\n",
        "batch_size = 4\n",
        "n_iter = int(tokenized_text0.size()[0]/batch_size) + 1\n",
        "#beta_t_list = frange_cycle_zero_linear(n_iter, start=0.0, stop=0.5,  n_cycle=1, ratio_increase=0.25, ratio_zero= 0.25)\n",
        "#scheduler = WarmupLinearSchedule(optimizer, warmup_steps=0, t_total=n_iter)\n",
        "loss_val = []\n",
        "acc_cls_val = []\n",
        "permutation = torch.randperm(tokens_tensor.size()[0]).to(dev)\n",
        "accuracy = []\n",
        "bleu = []\n",
        "\n",
        "for epoch in range(n_epochs):\n",
        "    start1 = time.time()\n",
        "    # X is a torch Variable\n",
        "    #permutation = torch.randperm(tokens_tensor_train.size()[0])\n",
        "    #avg_loss = 0\n",
        "    count = 0\n",
        "    for i in range(0,tokens_tensor.size()[0], batch_size):\n",
        "        start = time.time()\n",
        "        indices = permutation[i:i+batch_size]\n",
        "        batch_input_seq_ids, batch_tgt_seq_ids, batch_cond_labels, batch_attention = input_seq_ids[indices], labels[indices], aspects_tensor[indices,0].long(), attention_mask[indices] \n",
        "        \n",
        "        with torch.no_grad():\n",
        "            outputs = model_vae2(input_seq_ids=batch_input_seq_ids, tgt_seq_ids=batch_tgt_seq_ids, cond_labels=batch_cond_labels, attention_mask=batch_attention)\n",
        "\n",
        "        acc = np.mean(np.array(np.array(outputs['pred_cls'].to('cpu')) == np.array(outputs['cond_labels'].to('cpu')), dtype=np.float))\n",
        "        acc_ge = np.mean(np.array(np.array(outputs['pred_ge_cls'].to('cpu')) == np.array(outputs['cond_labels'].to('cpu')), dtype=np.float))\n",
        "        acc_at = np.mean(np.array(np.array(outputs['pred_at_cls'].to('cpu')) == np.array(outputs['sampled_cond_labels'].to('cpu')), dtype=np.float))\n",
        "        acc_cg = np.mean(np.array(np.array(outputs['pred_cg_cls'].to('cpu')) == np.array(outputs['sampled_cond_labels'].to('cpu')), dtype=np.float))\n",
        "        accuracy.append(acc)\n",
        "\n",
        "        generated_ids = []\n",
        "        generated_text = []\n",
        "        for g in outputs['generated']:\n",
        "            if g[0] in [eos_token_id, bos_token_id]:\n",
        "                g = g[1:]\n",
        "            if g[0] in [eos_token_id, bos_token_id]:\n",
        "                g = g[1:]\n",
        "                \n",
        "            g = g.tolist()\n",
        "            g = g[:g.index(eos_token_id)] if eos_token_id in g else g\n",
        "            g = g[:g.index(pad_token_id)] if pad_token_id in g else g\n",
        "            g_text = model_vae.tokenizer_decoder.decode(g, clean_up_tokenization_spaces=True)\n",
        "            generated_ids.append(g)\n",
        "            generated_text.append(g_text)\n",
        "\n",
        "        tgt_seq_ids = []\n",
        "        tgt_seq_text = []\n",
        "        for g in outputs['tgt_seq_ids']:\n",
        "            if g[0] in [eos_token_id, bos_token_id]:\n",
        "                g = g[1:]\n",
        "            if g[0] in [eos_token_id, bos_token_id]:\n",
        "                g = g[1:]\n",
        "            g = g.tolist()\n",
        "            g = g[:g.index(eos_token_id)] if eos_token_id in g else g\n",
        "            g = g[:g.index(pad_token_id)] if pad_token_id in g else g\n",
        "            #g = g[:g.index(0)] if pad_token_id in g else g\n",
        "            g_text = model_vae.tokenizer_decoder.decode(g, clean_up_tokenization_spaces=True)\n",
        "            tgt_seq_ids.append(g)\n",
        "            tgt_seq_text.append(g_text)\n",
        "\n",
        "        rec_bleu = nltk.translate.bleu_score.corpus_bleu(list_of_references=[[nltk.word_tokenize(t)] for t in tgt_seq_text],\n",
        "                                                     hypotheses=[nltk.word_tokenize(g) for g in generated_text])\n",
        "        \n",
        "        bleu.append(rec_bleu)\n",
        "        count = count+1\n",
        "        print(count)\n"
      ],
      "execution_count": null,
      "outputs": []
    },
    {
      "cell_type": "code",
      "metadata": {
        "colab": {
          "base_uri": "https://localhost:8080/"
        },
        "id": "V35JnY681xv6",
        "outputId": "89f021d5-d148-4cc3-a650-5c4b927c982b"
      },
      "source": [
        "generated_text"
      ],
      "execution_count": null,
      "outputs": [
        {
          "output_type": "execute_result",
          "data": {
            "text/plain": [
              "['Thestaffwereveryhelpfulandveryhelpful.',\n",
              " 'Theresortisveryclean,theresortwasaverygoodvalueformoney,theresortwasverygoodformoney.',\n",]"
            ]
          },
          "metadata": {
            "tags": []
          },
          "execution_count": 29
        }
      ]
    },
    {
      "cell_type": "code",
      "metadata": {
        "id": "J_8XcvCaPBy9"
      },
      "source": [
        ""
      ],
      "execution_count": null,
      "outputs": []
    }
  ]
}
