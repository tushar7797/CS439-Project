{
  "nbformat": 4,
  "nbformat_minor": 0,
  "metadata": {
    "colab": {
      "name": "Copy of Copy of CARA",
      "provenance": [],
      "collapsed_sections": []
    },
    "kernelspec": {
      "name": "python3",
      "display_name": "Python 3"
    },
    "accelerator": "GPU",
    "widgets": {
      "application/vnd.jupyter.widget-state+json": {
        "1648362610c44656b6741c052c04ae24": {
          "model_module": "@jupyter-widgets/controls",
          "model_name": "HBoxModel",
          "state": {
            "_view_name": "HBoxView",
            "_dom_classes": [],
            "_model_name": "HBoxModel",
            "_view_module": "@jupyter-widgets/controls",
            "_model_module_version": "1.5.0",
            "_view_count": null,
            "_view_module_version": "1.5.0",
            "box_style": "",
            "layout": "IPY_MODEL_5cb92b6abdad452d9710cb8f693753ed",
            "_model_module": "@jupyter-widgets/controls",
            "children": [
              "IPY_MODEL_78f90cb4b01e482ba48686f8a57be0d4",
              "IPY_MODEL_1b92e7af994149e4b03ce05ecccecd11"
            ]
          }
        },
        "5cb92b6abdad452d9710cb8f693753ed": {
          "model_module": "@jupyter-widgets/base",
          "model_name": "LayoutModel",
          "state": {
            "_view_name": "LayoutView",
            "grid_template_rows": null,
            "right": null,
            "justify_content": null,
            "_view_module": "@jupyter-widgets/base",
            "overflow": null,
            "_model_module_version": "1.2.0",
            "_view_count": null,
            "flex_flow": null,
            "width": null,
            "min_width": null,
            "border": null,
            "align_items": null,
            "bottom": null,
            "_model_module": "@jupyter-widgets/base",
            "top": null,
            "grid_column": null,
            "overflow_y": null,
            "overflow_x": null,
            "grid_auto_flow": null,
            "grid_area": null,
            "grid_template_columns": null,
            "flex": null,
            "_model_name": "LayoutModel",
            "justify_items": null,
            "grid_row": null,
            "max_height": null,
            "align_content": null,
            "visibility": null,
            "align_self": null,
            "height": null,
            "min_height": null,
            "padding": null,
            "grid_auto_rows": null,
            "grid_gap": null,
            "max_width": null,
            "order": null,
            "_view_module_version": "1.2.0",
            "grid_template_areas": null,
            "object_position": null,
            "object_fit": null,
            "grid_auto_columns": null,
            "margin": null,
            "display": null,
            "left": null
          }
        },
        "78f90cb4b01e482ba48686f8a57be0d4": {
          "model_module": "@jupyter-widgets/controls",
          "model_name": "FloatProgressModel",
          "state": {
            "_view_name": "ProgressView",
            "style": "IPY_MODEL_715d3cc2bf4446daa5a10f5fdac9aa58",
            "_dom_classes": [],
            "description": "Downloading: 100%",
            "_model_name": "FloatProgressModel",
            "bar_style": "success",
            "max": 1042301,
            "_view_module": "@jupyter-widgets/controls",
            "_model_module_version": "1.5.0",
            "value": 1042301,
            "_view_count": null,
            "_view_module_version": "1.5.0",
            "orientation": "horizontal",
            "min": 0,
            "description_tooltip": null,
            "_model_module": "@jupyter-widgets/controls",
            "layout": "IPY_MODEL_d9c1cf09d01c4945b443a6d7211486ea"
          }
        },
        "1b92e7af994149e4b03ce05ecccecd11": {
          "model_module": "@jupyter-widgets/controls",
          "model_name": "HTMLModel",
          "state": {
            "_view_name": "HTMLView",
            "style": "IPY_MODEL_078697a1750c443994aa824930111518",
            "_dom_classes": [],
            "description": "",
            "_model_name": "HTMLModel",
            "placeholder": "​",
            "_view_module": "@jupyter-widgets/controls",
            "_model_module_version": "1.5.0",
            "value": " 1.04M/1.04M [00:00&lt;00:00, 1.27MB/s]",
            "_view_count": null,
            "_view_module_version": "1.5.0",
            "description_tooltip": null,
            "_model_module": "@jupyter-widgets/controls",
            "layout": "IPY_MODEL_6a3ba248cb6b47878c091870cb86f9e2"
          }
        },
        "715d3cc2bf4446daa5a10f5fdac9aa58": {
          "model_module": "@jupyter-widgets/controls",
          "model_name": "ProgressStyleModel",
          "state": {
            "_view_name": "StyleView",
            "_model_name": "ProgressStyleModel",
            "description_width": "initial",
            "_view_module": "@jupyter-widgets/base",
            "_model_module_version": "1.5.0",
            "_view_count": null,
            "_view_module_version": "1.2.0",
            "bar_color": null,
            "_model_module": "@jupyter-widgets/controls"
          }
        },
        "d9c1cf09d01c4945b443a6d7211486ea": {
          "model_module": "@jupyter-widgets/base",
          "model_name": "LayoutModel",
          "state": {
            "_view_name": "LayoutView",
            "grid_template_rows": null,
            "right": null,
            "justify_content": null,
            "_view_module": "@jupyter-widgets/base",
            "overflow": null,
            "_model_module_version": "1.2.0",
            "_view_count": null,
            "flex_flow": null,
            "width": null,
            "min_width": null,
            "border": null,
            "align_items": null,
            "bottom": null,
            "_model_module": "@jupyter-widgets/base",
            "top": null,
            "grid_column": null,
            "overflow_y": null,
            "overflow_x": null,
            "grid_auto_flow": null,
            "grid_area": null,
            "grid_template_columns": null,
            "flex": null,
            "_model_name": "LayoutModel",
            "justify_items": null,
            "grid_row": null,
            "max_height": null,
            "align_content": null,
            "visibility": null,
            "align_self": null,
            "height": null,
            "min_height": null,
            "padding": null,
            "grid_auto_rows": null,
            "grid_gap": null,
            "max_width": null,
            "order": null,
            "_view_module_version": "1.2.0",
            "grid_template_areas": null,
            "object_position": null,
            "object_fit": null,
            "grid_auto_columns": null,
            "margin": null,
            "display": null,
            "left": null
          }
        },
        "078697a1750c443994aa824930111518": {
          "model_module": "@jupyter-widgets/controls",
          "model_name": "DescriptionStyleModel",
          "state": {
            "_view_name": "StyleView",
            "_model_name": "DescriptionStyleModel",
            "description_width": "",
            "_view_module": "@jupyter-widgets/base",
            "_model_module_version": "1.5.0",
            "_view_count": null,
            "_view_module_version": "1.2.0",
            "_model_module": "@jupyter-widgets/controls"
          }
        },
        "6a3ba248cb6b47878c091870cb86f9e2": {
          "model_module": "@jupyter-widgets/base",
          "model_name": "LayoutModel",
          "state": {
            "_view_name": "LayoutView",
            "grid_template_rows": null,
            "right": null,
            "justify_content": null,
            "_view_module": "@jupyter-widgets/base",
            "overflow": null,
            "_model_module_version": "1.2.0",
            "_view_count": null,
            "flex_flow": null,
            "width": null,
            "min_width": null,
            "border": null,
            "align_items": null,
            "bottom": null,
            "_model_module": "@jupyter-widgets/base",
            "top": null,
            "grid_column": null,
            "overflow_y": null,
            "overflow_x": null,
            "grid_auto_flow": null,
            "grid_area": null,
            "grid_template_columns": null,
            "flex": null,
            "_model_name": "LayoutModel",
            "justify_items": null,
            "grid_row": null,
            "max_height": null,
            "align_content": null,
            "visibility": null,
            "align_self": null,
            "height": null,
            "min_height": null,
            "padding": null,
            "grid_auto_rows": null,
            "grid_gap": null,
            "max_width": null,
            "order": null,
            "_view_module_version": "1.2.0",
            "grid_template_areas": null,
            "object_position": null,
            "object_fit": null,
            "grid_auto_columns": null,
            "margin": null,
            "display": null,
            "left": null
          }
        },
        "d207b1a024f64353832158c7994465e3": {
          "model_module": "@jupyter-widgets/controls",
          "model_name": "HBoxModel",
          "state": {
            "_view_name": "HBoxView",
            "_dom_classes": [],
            "_model_name": "HBoxModel",
            "_view_module": "@jupyter-widgets/controls",
            "_model_module_version": "1.5.0",
            "_view_count": null,
            "_view_module_version": "1.5.0",
            "box_style": "",
            "layout": "IPY_MODEL_69d9eda5f4e94a1baed2eece29646db4",
            "_model_module": "@jupyter-widgets/controls",
            "children": [
              "IPY_MODEL_eee1917e946747b385a7c26aa2a5a457",
              "IPY_MODEL_fb71c92226324fe5817fbd41065b0b21"
            ]
          }
        },
        "69d9eda5f4e94a1baed2eece29646db4": {
          "model_module": "@jupyter-widgets/base",
          "model_name": "LayoutModel",
          "state": {
            "_view_name": "LayoutView",
            "grid_template_rows": null,
            "right": null,
            "justify_content": null,
            "_view_module": "@jupyter-widgets/base",
            "overflow": null,
            "_model_module_version": "1.2.0",
            "_view_count": null,
            "flex_flow": null,
            "width": null,
            "min_width": null,
            "border": null,
            "align_items": null,
            "bottom": null,
            "_model_module": "@jupyter-widgets/base",
            "top": null,
            "grid_column": null,
            "overflow_y": null,
            "overflow_x": null,
            "grid_auto_flow": null,
            "grid_area": null,
            "grid_template_columns": null,
            "flex": null,
            "_model_name": "LayoutModel",
            "justify_items": null,
            "grid_row": null,
            "max_height": null,
            "align_content": null,
            "visibility": null,
            "align_self": null,
            "height": null,
            "min_height": null,
            "padding": null,
            "grid_auto_rows": null,
            "grid_gap": null,
            "max_width": null,
            "order": null,
            "_view_module_version": "1.2.0",
            "grid_template_areas": null,
            "object_position": null,
            "object_fit": null,
            "grid_auto_columns": null,
            "margin": null,
            "display": null,
            "left": null
          }
        },
        "eee1917e946747b385a7c26aa2a5a457": {
          "model_module": "@jupyter-widgets/controls",
          "model_name": "FloatProgressModel",
          "state": {
            "_view_name": "ProgressView",
            "style": "IPY_MODEL_98fbe26f890a48669286b7d743b34461",
            "_dom_classes": [],
            "description": "Downloading: 100%",
            "_model_name": "FloatProgressModel",
            "bar_style": "success",
            "max": 456318,
            "_view_module": "@jupyter-widgets/controls",
            "_model_module_version": "1.5.0",
            "value": 456318,
            "_view_count": null,
            "_view_module_version": "1.5.0",
            "orientation": "horizontal",
            "min": 0,
            "description_tooltip": null,
            "_model_module": "@jupyter-widgets/controls",
            "layout": "IPY_MODEL_7a3bca23bf074237b46f318901a65f4e"
          }
        },
        "fb71c92226324fe5817fbd41065b0b21": {
          "model_module": "@jupyter-widgets/controls",
          "model_name": "HTMLModel",
          "state": {
            "_view_name": "HTMLView",
            "style": "IPY_MODEL_ae9428a0ac6f46a38ce2239153c86413",
            "_dom_classes": [],
            "description": "",
            "_model_name": "HTMLModel",
            "placeholder": "​",
            "_view_module": "@jupyter-widgets/controls",
            "_model_module_version": "1.5.0",
            "value": " 456k/456k [00:00&lt;00:00, 1.24MB/s]",
            "_view_count": null,
            "_view_module_version": "1.5.0",
            "description_tooltip": null,
            "_model_module": "@jupyter-widgets/controls",
            "layout": "IPY_MODEL_0cec9a9ba7694970888c47745f2095ed"
          }
        },
        "98fbe26f890a48669286b7d743b34461": {
          "model_module": "@jupyter-widgets/controls",
          "model_name": "ProgressStyleModel",
          "state": {
            "_view_name": "StyleView",
            "_model_name": "ProgressStyleModel",
            "description_width": "initial",
            "_view_module": "@jupyter-widgets/base",
            "_model_module_version": "1.5.0",
            "_view_count": null,
            "_view_module_version": "1.2.0",
            "bar_color": null,
            "_model_module": "@jupyter-widgets/controls"
          }
        },
        "7a3bca23bf074237b46f318901a65f4e": {
          "model_module": "@jupyter-widgets/base",
          "model_name": "LayoutModel",
          "state": {
            "_view_name": "LayoutView",
            "grid_template_rows": null,
            "right": null,
            "justify_content": null,
            "_view_module": "@jupyter-widgets/base",
            "overflow": null,
            "_model_module_version": "1.2.0",
            "_view_count": null,
            "flex_flow": null,
            "width": null,
            "min_width": null,
            "border": null,
            "align_items": null,
            "bottom": null,
            "_model_module": "@jupyter-widgets/base",
            "top": null,
            "grid_column": null,
            "overflow_y": null,
            "overflow_x": null,
            "grid_auto_flow": null,
            "grid_area": null,
            "grid_template_columns": null,
            "flex": null,
            "_model_name": "LayoutModel",
            "justify_items": null,
            "grid_row": null,
            "max_height": null,
            "align_content": null,
            "visibility": null,
            "align_self": null,
            "height": null,
            "min_height": null,
            "padding": null,
            "grid_auto_rows": null,
            "grid_gap": null,
            "max_width": null,
            "order": null,
            "_view_module_version": "1.2.0",
            "grid_template_areas": null,
            "object_position": null,
            "object_fit": null,
            "grid_auto_columns": null,
            "margin": null,
            "display": null,
            "left": null
          }
        },
        "ae9428a0ac6f46a38ce2239153c86413": {
          "model_module": "@jupyter-widgets/controls",
          "model_name": "DescriptionStyleModel",
          "state": {
            "_view_name": "StyleView",
            "_model_name": "DescriptionStyleModel",
            "description_width": "",
            "_view_module": "@jupyter-widgets/base",
            "_model_module_version": "1.5.0",
            "_view_count": null,
            "_view_module_version": "1.2.0",
            "_model_module": "@jupyter-widgets/controls"
          }
        },
        "0cec9a9ba7694970888c47745f2095ed": {
          "model_module": "@jupyter-widgets/base",
          "model_name": "LayoutModel",
          "state": {
            "_view_name": "LayoutView",
            "grid_template_rows": null,
            "right": null,
            "justify_content": null,
            "_view_module": "@jupyter-widgets/base",
            "overflow": null,
            "_model_module_version": "1.2.0",
            "_view_count": null,
            "flex_flow": null,
            "width": null,
            "min_width": null,
            "border": null,
            "align_items": null,
            "bottom": null,
            "_model_module": "@jupyter-widgets/base",
            "top": null,
            "grid_column": null,
            "overflow_y": null,
            "overflow_x": null,
            "grid_auto_flow": null,
            "grid_area": null,
            "grid_template_columns": null,
            "flex": null,
            "_model_name": "LayoutModel",
            "justify_items": null,
            "grid_row": null,
            "max_height": null,
            "align_content": null,
            "visibility": null,
            "align_self": null,
            "height": null,
            "min_height": null,
            "padding": null,
            "grid_auto_rows": null,
            "grid_gap": null,
            "max_width": null,
            "order": null,
            "_view_module_version": "1.2.0",
            "grid_template_areas": null,
            "object_position": null,
            "object_fit": null,
            "grid_auto_columns": null,
            "margin": null,
            "display": null,
            "left": null
          }
        }
      }
    }
  },
  "cells": [
    {
      "cell_type": "code",
      "metadata": {
        "id": "Vvm-Fdfd1iTR",
        "colab": {
          "base_uri": "https://localhost:8080/"
        },
        "outputId": "8e1d1f96-dcb2-4ad2-d353-9105a6927d80"
      },
      "source": [
        "from google.colab import drive\n",
        "drive.mount('/content/drive')"
      ],
      "execution_count": null,
      "outputs": [
        {
          "output_type": "stream",
          "text": [
            "Mounted at /content/drive\n"
          ],
          "name": "stdout"
        }
      ]
    },
    {
      "cell_type": "code",
      "metadata": {
        "id": "YcqMCw2D1l6I"
      },
      "source": [
        "import torch\n",
        "import numpy as np\n",
        "import pandas as pd\n",
        "from collections import OrderedDict\n",
        "#from pytorch_transformers import BertTokenizer, BertConfig\n",
        "#from pytorch_transformers import BertTokenizer, BertModel, BertForMaskedLM\n",
        "import torch\n",
        "import logging\n",
        "import matplotlib.pyplot as plt\n",
        "import torch.nn as nn\n",
        "import torch.nn.functional as F\n",
        "import nltk\n",
        "import torch.optim as optim"
      ],
      "execution_count": null,
      "outputs": []
    },
    {
      "cell_type": "code",
      "metadata": {
        "id": "uuSXPWyZ1uBJ",
        "colab": {
          "base_uri": "https://localhost:8080/"
        },
        "outputId": "929636f6-d281-4965-bb0a-007545942c2a"
      },
      "source": [
        "nltk.download('punkt')\n"
      ],
      "execution_count": null,
      "outputs": [
        {
          "output_type": "stream",
          "text": [
            "[nltk_data] Downloading package punkt to /root/nltk_data...\n",
            "[nltk_data]   Unzipping tokenizers/punkt.zip.\n"
          ],
          "name": "stdout"
        },
        {
          "output_type": "execute_result",
          "data": {
            "text/plain": [
              "True"
            ]
          },
          "metadata": {
            "tags": []
          },
          "execution_count": 3
        }
      ]
    },
    {
      "cell_type": "code",
      "metadata": {
        "id": "wgNRFqaM1wV_",
        "colab": {
          "base_uri": "https://localhost:8080/"
        },
        "outputId": "cc1bf90d-9d0c-46fc-9d8c-522a1e294bae"
      },
      "source": [
        "pip install sacremoses"
      ],
      "execution_count": null,
      "outputs": [
        {
          "output_type": "stream",
          "text": [
            "Collecting sacremoses\n",
            "\u001b[?25l  Downloading https://files.pythonhosted.org/packages/7d/34/09d19aff26edcc8eb2a01bed8e98f13a1537005d31e95233fd48216eed10/sacremoses-0.0.43.tar.gz (883kB)\n",
            "\r\u001b[K     |▍                               | 10kB 26.0MB/s eta 0:00:01\r\u001b[K     |▊                               | 20kB 12.6MB/s eta 0:00:01\r\u001b[K     |█▏                              | 30kB 12.7MB/s eta 0:00:01\r\u001b[K     |█▌                              | 40kB 12.0MB/s eta 0:00:01\r\u001b[K     |█▉                              | 51kB 8.2MB/s eta 0:00:01\r\u001b[K     |██▎                             | 61kB 7.6MB/s eta 0:00:01\r\u001b[K     |██▋                             | 71kB 8.6MB/s eta 0:00:01\r\u001b[K     |███                             | 81kB 9.6MB/s eta 0:00:01\r\u001b[K     |███▍                            | 92kB 9.2MB/s eta 0:00:01\r\u001b[K     |███▊                            | 102kB 9.8MB/s eta 0:00:01\r\u001b[K     |████                            | 112kB 9.8MB/s eta 0:00:01\r\u001b[K     |████▌                           | 122kB 9.8MB/s eta 0:00:01\r\u001b[K     |████▉                           | 133kB 9.8MB/s eta 0:00:01\r\u001b[K     |█████▏                          | 143kB 9.8MB/s eta 0:00:01\r\u001b[K     |█████▋                          | 153kB 9.8MB/s eta 0:00:01\r\u001b[K     |██████                          | 163kB 9.8MB/s eta 0:00:01\r\u001b[K     |██████▎                         | 174kB 9.8MB/s eta 0:00:01\r\u001b[K     |██████▊                         | 184kB 9.8MB/s eta 0:00:01\r\u001b[K     |███████                         | 194kB 9.8MB/s eta 0:00:01\r\u001b[K     |███████▍                        | 204kB 9.8MB/s eta 0:00:01\r\u001b[K     |███████▉                        | 215kB 9.8MB/s eta 0:00:01\r\u001b[K     |████████▏                       | 225kB 9.8MB/s eta 0:00:01\r\u001b[K     |████████▌                       | 235kB 9.8MB/s eta 0:00:01\r\u001b[K     |█████████                       | 245kB 9.8MB/s eta 0:00:01\r\u001b[K     |█████████▎                      | 256kB 9.8MB/s eta 0:00:01\r\u001b[K     |█████████▋                      | 266kB 9.8MB/s eta 0:00:01\r\u001b[K     |██████████                      | 276kB 9.8MB/s eta 0:00:01\r\u001b[K     |██████████▍                     | 286kB 9.8MB/s eta 0:00:01\r\u001b[K     |██████████▊                     | 296kB 9.8MB/s eta 0:00:01\r\u001b[K     |███████████▏                    | 307kB 9.8MB/s eta 0:00:01\r\u001b[K     |███████████▌                    | 317kB 9.8MB/s eta 0:00:01\r\u001b[K     |███████████▉                    | 327kB 9.8MB/s eta 0:00:01\r\u001b[K     |████████████▎                   | 337kB 9.8MB/s eta 0:00:01\r\u001b[K     |████████████▋                   | 348kB 9.8MB/s eta 0:00:01\r\u001b[K     |█████████████                   | 358kB 9.8MB/s eta 0:00:01\r\u001b[K     |█████████████▍                  | 368kB 9.8MB/s eta 0:00:01\r\u001b[K     |█████████████▊                  | 378kB 9.8MB/s eta 0:00:01\r\u001b[K     |██████████████                  | 389kB 9.8MB/s eta 0:00:01\r\u001b[K     |██████████████▌                 | 399kB 9.8MB/s eta 0:00:01\r\u001b[K     |██████████████▉                 | 409kB 9.8MB/s eta 0:00:01\r\u001b[K     |███████████████▏                | 419kB 9.8MB/s eta 0:00:01\r\u001b[K     |███████████████▋                | 430kB 9.8MB/s eta 0:00:01\r\u001b[K     |████████████████                | 440kB 9.8MB/s eta 0:00:01\r\u001b[K     |████████████████▎               | 450kB 9.8MB/s eta 0:00:01\r\u001b[K     |████████████████▊               | 460kB 9.8MB/s eta 0:00:01\r\u001b[K     |█████████████████               | 471kB 9.8MB/s eta 0:00:01\r\u001b[K     |█████████████████▍              | 481kB 9.8MB/s eta 0:00:01\r\u001b[K     |█████████████████▉              | 491kB 9.8MB/s eta 0:00:01\r\u001b[K     |██████████████████▏             | 501kB 9.8MB/s eta 0:00:01\r\u001b[K     |██████████████████▌             | 512kB 9.8MB/s eta 0:00:01\r\u001b[K     |███████████████████             | 522kB 9.8MB/s eta 0:00:01\r\u001b[K     |███████████████████▎            | 532kB 9.8MB/s eta 0:00:01\r\u001b[K     |███████████████████▋            | 542kB 9.8MB/s eta 0:00:01\r\u001b[K     |████████████████████            | 552kB 9.8MB/s eta 0:00:01\r\u001b[K     |████████████████████▍           | 563kB 9.8MB/s eta 0:00:01\r\u001b[K     |████████████████████▊           | 573kB 9.8MB/s eta 0:00:01\r\u001b[K     |█████████████████████▏          | 583kB 9.8MB/s eta 0:00:01\r\u001b[K     |█████████████████████▌          | 593kB 9.8MB/s eta 0:00:01\r\u001b[K     |█████████████████████▉          | 604kB 9.8MB/s eta 0:00:01\r\u001b[K     |██████████████████████▎         | 614kB 9.8MB/s eta 0:00:01\r\u001b[K     |██████████████████████▋         | 624kB 9.8MB/s eta 0:00:01\r\u001b[K     |███████████████████████         | 634kB 9.8MB/s eta 0:00:01\r\u001b[K     |███████████████████████▍        | 645kB 9.8MB/s eta 0:00:01\r\u001b[K     |███████████████████████▊        | 655kB 9.8MB/s eta 0:00:01\r\u001b[K     |████████████████████████        | 665kB 9.8MB/s eta 0:00:01\r\u001b[K     |████████████████████████▌       | 675kB 9.8MB/s eta 0:00:01\r\u001b[K     |████████████████████████▉       | 686kB 9.8MB/s eta 0:00:01\r\u001b[K     |█████████████████████████▏      | 696kB 9.8MB/s eta 0:00:01\r\u001b[K     |█████████████████████████▋      | 706kB 9.8MB/s eta 0:00:01\r\u001b[K     |██████████████████████████      | 716kB 9.8MB/s eta 0:00:01\r\u001b[K     |██████████████████████████▎     | 727kB 9.8MB/s eta 0:00:01\r\u001b[K     |██████████████████████████▊     | 737kB 9.8MB/s eta 0:00:01\r\u001b[K     |███████████████████████████     | 747kB 9.8MB/s eta 0:00:01\r\u001b[K     |███████████████████████████▍    | 757kB 9.8MB/s eta 0:00:01\r\u001b[K     |███████████████████████████▉    | 768kB 9.8MB/s eta 0:00:01\r\u001b[K     |████████████████████████████▏   | 778kB 9.8MB/s eta 0:00:01\r\u001b[K     |████████████████████████████▌   | 788kB 9.8MB/s eta 0:00:01\r\u001b[K     |█████████████████████████████   | 798kB 9.8MB/s eta 0:00:01\r\u001b[K     |█████████████████████████████▎  | 808kB 9.8MB/s eta 0:00:01\r\u001b[K     |█████████████████████████████▋  | 819kB 9.8MB/s eta 0:00:01\r\u001b[K     |██████████████████████████████  | 829kB 9.8MB/s eta 0:00:01\r\u001b[K     |██████████████████████████████▍ | 839kB 9.8MB/s eta 0:00:01\r\u001b[K     |██████████████████████████████▊ | 849kB 9.8MB/s eta 0:00:01\r\u001b[K     |███████████████████████████████▏| 860kB 9.8MB/s eta 0:00:01\r\u001b[K     |███████████████████████████████▌| 870kB 9.8MB/s eta 0:00:01\r\u001b[K     |███████████████████████████████▉| 880kB 9.8MB/s eta 0:00:01\r\u001b[K     |████████████████████████████████| 890kB 9.8MB/s \n",
            "\u001b[?25hRequirement already satisfied: regex in /usr/local/lib/python3.6/dist-packages (from sacremoses) (2019.12.20)\n",
            "Requirement already satisfied: six in /usr/local/lib/python3.6/dist-packages (from sacremoses) (1.15.0)\n",
            "Requirement already satisfied: click in /usr/local/lib/python3.6/dist-packages (from sacremoses) (7.1.2)\n",
            "Requirement already satisfied: joblib in /usr/local/lib/python3.6/dist-packages (from sacremoses) (1.0.0)\n",
            "Requirement already satisfied: tqdm in /usr/local/lib/python3.6/dist-packages (from sacremoses) (4.41.1)\n",
            "Building wheels for collected packages: sacremoses\n",
            "  Building wheel for sacremoses (setup.py) ... \u001b[?25l\u001b[?25hdone\n",
            "  Created wheel for sacremoses: filename=sacremoses-0.0.43-cp36-none-any.whl size=893261 sha256=2d590b290b33f11b9812f4666fff6858925e156840f2caf8956819bcc1b1b972\n",
            "  Stored in directory: /root/.cache/pip/wheels/29/3c/fd/7ce5c3f0666dab31a50123635e6fb5e19ceb42ce38d4e58f45\n",
            "Successfully built sacremoses\n",
            "Installing collected packages: sacremoses\n",
            "Successfully installed sacremoses-0.0.43\n"
          ],
          "name": "stdout"
        }
      ]
    },
    {
      "cell_type": "code",
      "metadata": {
        "id": "3PQf325R1y_Q",
        "colab": {
          "base_uri": "https://localhost:8080/"
        },
        "outputId": "7e7d6225-8455-49d5-c486-ca8ff4cea42d"
      },
      "source": [
        "pip install boto3"
      ],
      "execution_count": null,
      "outputs": [
        {
          "output_type": "stream",
          "text": [
            "Collecting boto3\n",
            "\u001b[?25l  Downloading https://files.pythonhosted.org/packages/e9/eb/84794204fff2d6234da730da7b1cc52effea7b701cc4e51b0394b749754e/boto3-1.16.62-py2.py3-none-any.whl (130kB)\n",
            "\r\u001b[K     |██▌                             | 10kB 18.9MB/s eta 0:00:01\r\u001b[K     |█████                           | 20kB 16.1MB/s eta 0:00:01\r\u001b[K     |███████▌                        | 30kB 13.9MB/s eta 0:00:01\r\u001b[K     |██████████                      | 40kB 12.4MB/s eta 0:00:01\r\u001b[K     |████████████▋                   | 51kB 8.9MB/s eta 0:00:01\r\u001b[K     |███████████████                 | 61kB 9.7MB/s eta 0:00:01\r\u001b[K     |█████████████████▋              | 71kB 9.5MB/s eta 0:00:01\r\u001b[K     |████████████████████▏           | 81kB 10.5MB/s eta 0:00:01\r\u001b[K     |██████████████████████▋         | 92kB 9.9MB/s eta 0:00:01\r\u001b[K     |█████████████████████████▏      | 102kB 8.7MB/s eta 0:00:01\r\u001b[K     |███████████████████████████▋    | 112kB 8.7MB/s eta 0:00:01\r\u001b[K     |██████████████████████████████▏ | 122kB 8.7MB/s eta 0:00:01\r\u001b[K     |████████████████████████████████| 133kB 8.7MB/s \n",
            "\u001b[?25hCollecting s3transfer<0.4.0,>=0.3.0\n",
            "\u001b[?25l  Downloading https://files.pythonhosted.org/packages/ea/43/4b4a1b26eb03a429a4c37ca7fdf369d938bd60018fc194e94b8379b0c77c/s3transfer-0.3.4-py2.py3-none-any.whl (69kB)\n",
            "\u001b[K     |████████████████████████████████| 71kB 8.3MB/s \n",
            "\u001b[?25hCollecting botocore<1.20.0,>=1.19.62\n",
            "\u001b[?25l  Downloading https://files.pythonhosted.org/packages/f0/29/4bb69158274cd87632ecea00efa95d08f3f137de799170ab9f7651abaac4/botocore-1.19.62-py2.py3-none-any.whl (7.2MB)\n",
            "\u001b[K     |████████████████████████████████| 7.2MB 13.8MB/s \n",
            "\u001b[?25hCollecting jmespath<1.0.0,>=0.7.1\n",
            "  Downloading https://files.pythonhosted.org/packages/07/cb/5f001272b6faeb23c1c9e0acc04d48eaaf5c862c17709d20e3469c6e0139/jmespath-0.10.0-py2.py3-none-any.whl\n",
            "Collecting urllib3<1.27,>=1.25.4; python_version != \"3.4\"\n",
            "\u001b[?25l  Downloading https://files.pythonhosted.org/packages/23/fc/8a49991f7905261f9ca9df5aa9b58363c3c821ce3e7f671895442b7100f2/urllib3-1.26.3-py2.py3-none-any.whl (137kB)\n",
            "\u001b[K     |████████████████████████████████| 143kB 58.6MB/s \n",
            "\u001b[?25hRequirement already satisfied: python-dateutil<3.0.0,>=2.1 in /usr/local/lib/python3.6/dist-packages (from botocore<1.20.0,>=1.19.62->boto3) (2.8.1)\n",
            "Requirement already satisfied: six>=1.5 in /usr/local/lib/python3.6/dist-packages (from python-dateutil<3.0.0,>=2.1->botocore<1.20.0,>=1.19.62->boto3) (1.15.0)\n",
            "\u001b[31mERROR: requests 2.23.0 has requirement urllib3!=1.25.0,!=1.25.1,<1.26,>=1.21.1, but you'll have urllib3 1.26.3 which is incompatible.\u001b[0m\n",
            "\u001b[31mERROR: datascience 0.10.6 has requirement folium==0.2.1, but you'll have folium 0.8.3 which is incompatible.\u001b[0m\n",
            "Installing collected packages: urllib3, jmespath, botocore, s3transfer, boto3\n",
            "  Found existing installation: urllib3 1.24.3\n",
            "    Uninstalling urllib3-1.24.3:\n",
            "      Successfully uninstalled urllib3-1.24.3\n",
            "Successfully installed boto3-1.16.62 botocore-1.19.62 jmespath-0.10.0 s3transfer-0.3.4 urllib3-1.26.3\n"
          ],
          "name": "stdout"
        }
      ]
    },
    {
      "cell_type": "code",
      "metadata": {
        "id": "iZvUyZNP11Jv"
      },
      "source": [
        "import sys\n",
        "import os\n",
        "sys.path.append(os.path.abspath('/content/drive/My Drive/Colab Notebooks'))\n"
      ],
      "execution_count": null,
      "outputs": []
    },
    {
      "cell_type": "code",
      "metadata": {
        "id": "_KMubeJz13WF",
        "colab": {
          "base_uri": "https://localhost:8080/"
        },
        "outputId": "17990109-0ece-4250-859d-f4afb39a6b56"
      },
      "source": [
        "from __future__ import absolute_import, division, print_function\n",
        "import pdb\n",
        "import argparse\n",
        "import glob\n",
        "import logging\n",
        "import os\n",
        "import pickle\n",
        "import random\n",
        "import numpy as np\n",
        "import torch\n",
        "from torch.utils.data import DataLoader, Dataset, SequentialSampler, RandomSampler, TensorDataset\n",
        "from torch.utils.data.distributed import DistributedSampler\n",
        "#from tensorboardX import SummaryWriter\n",
        "from tqdm import tqdm, trange\n",
        "from collections import defaultdict\n",
        "# from azure.cosmosdb.table.tableservice import TableService\n",
        "# from azure.cosmosdb.table.models import Entity\n",
        "from datetime import datetime\n",
        "import sys\n",
        "import json\n",
        "import nltk\n",
        "nltk.download('punkt')\n",
        "\n",
        "sys.path.append('../../')\n",
        "from pytorch_transformers import (WEIGHTS_NAME, AdamW, WarmupLinearSchedule,\n",
        "                                  BertConfig, BertForLatentConnector, BertTokenizer,\n",
        "                                  GPT2Config, GPT2ForLatentConnector, GPT2Tokenizer,\n",
        "                                  OpenAIGPTConfig, OpenAIGPTLMHeadModel, OpenAIGPTTokenizer,\n",
        "                                  RobertaConfig, RobertaForMaskedLM, RobertaTokenizer)\n",
        "from utils import (TextDataset_Split, TextDataset_2Tokenizers_LCtrlG,\n",
        "                   frange_cycle_linear, frange_cycle_zero_linear, AverageValueMeter)\n",
        "# from modules import ARAE\n",
        "from modules import CARA\n",
        "# logging.getLogger(\"azure\").setLevel(logging.WARNING)\n",
        "# logging.getLogger(\"TableService\").setLevel(logging.WARNING)\n",
        "logger = logging.getLogger(__name__)\n",
        "import time\n",
        "def get_time_str():\n",
        "    return time.ctime().replace(' ', '_').replace(':', '-')\n",
        "\n",
        "# logging.getLogger(\"azure\").setLevel(logging.WARNING)\n",
        "# logging.getLogger(\"TableService\").setLevel(logging.WARNING)\n",
        "\n",
        "logger = logging.getLogger(__name__)\n",
        "\n",
        "\n",
        "MODEL_CLASSES = {\n",
        "    'gpt2': (GPT2Config, GPT2ForLatentConnector, GPT2Tokenizer),\n",
        "    'openai-gpt': (OpenAIGPTConfig, OpenAIGPTLMHeadModel, OpenAIGPTTokenizer),\n",
        "    'bert': (BertConfig, BertForLatentConnector, BertTokenizer),\n",
        "    'roberta': (RobertaConfig, RobertaForMaskedLM, RobertaTokenizer)\n",
        "}\n",
        "\n",
        "    \n",
        "import modules"
      ],
      "execution_count": null,
      "outputs": [
        {
          "output_type": "stream",
          "text": [
            "[nltk_data] Downloading package punkt to /root/nltk_data...\n",
            "[nltk_data]   Package punkt is already up-to-date!\n"
          ],
          "name": "stdout"
        },
        {
          "output_type": "stream",
          "text": [
            "/usr/local/lib/python3.6/dist-packages/requests/__init__.py:91: RequestsDependencyWarning: urllib3 (1.26.3) or chardet (3.0.4) doesn't match a supported version!\n",
            "  RequestsDependencyWarning)\n"
          ],
          "name": "stderr"
        }
      ]
    },
    {
      "cell_type": "code",
      "metadata": {
        "id": "-l9sXRzp15Yj"
      },
      "source": [
        "\n",
        "encoder_model_type = 'bert'\n",
        "encoder_model_name = 'bert-base-cased'\n",
        "decoder_model_type= 'gpt2'\n",
        "decoder_model_name = 'gpt2'\n",
        "\n",
        "def mask_tokens(inputs, tokenizer, args):\n",
        "    \"\"\" Prepare masked tokens inputs/labels for masked language modeling: 80% MASK, 10% random, 10% original. \"\"\"\n",
        "    labels = inputs.clone()\n",
        "    # We sample a few tokens in each sequence for masked-LM training (with probability args.mlm_probability defaults to 0.15 in Bert/RoBERTa)\n",
        "\n",
        "    masked_indices = torch.bernoulli(torch.full(labels.shape, args.mlm_probability)).to(torch.uint8)\n",
        "    labels[masked_indices==1] = -1  # We only compute loss on masked tokens\n",
        "\n",
        "    # 80% of the time, we replace masked input tokens with tokenizer.mask_token ([MASK])\n",
        "    indices_replaced = torch.bernoulli(torch.full(labels.shape, 0.8)).to(torch.uint8) & masked_indices\n",
        "    inputs[indices_replaced] = tokenizer.convert_tokens_to_ids(tokenizer.mask_token)\n",
        "\n",
        "    # 10% of the time, we replace masked input tokens with random word\n",
        "    indices_random = torch.bernoulli(torch.full(labels.shape, 0.5)).to(torch.uint8) & masked_indices & ~indices_replaced\n",
        "    indices_random = indices_random\n",
        "    random_words = torch.randint(len(tokenizer), labels.shape, dtype=torch.long)\n",
        "    inputs[indices_random] = random_words[indices_random]\n",
        "\n",
        "    # The rest of the time (10% of the time) we keep the masked input tokens unchanged\n",
        "    return inputs, labels"
      ],
      "execution_count": null,
      "outputs": []
    },
    {
      "cell_type": "code",
      "metadata": {
        "id": "Eg0e_sX_38a0",
        "colab": {
          "base_uri": "https://localhost:8080/",
          "height": 655
        },
        "outputId": "b3d2063a-3db0-4d36-e9e2-7c928b9e42ca"
      },
      "source": [
        "pip install transformers"
      ],
      "execution_count": null,
      "outputs": [
        {
          "output_type": "stream",
          "text": [
            "Collecting transformers\n",
            "\u001b[?25l  Downloading https://files.pythonhosted.org/packages/88/b1/41130a228dd656a1a31ba281598a968320283f48d42782845f6ba567f00b/transformers-4.2.2-py3-none-any.whl (1.8MB)\n",
            "\r\u001b[K     |▏                               | 10kB 1.5MB/s eta 0:00:02\r\u001b[K     |▍                               | 20kB 2.7MB/s eta 0:00:01\r\u001b[K     |▋                               | 30kB 3.2MB/s eta 0:00:01\r\u001b[K     |▊                               | 40kB 3.1MB/s eta 0:00:01\r\u001b[K     |█                               | 51kB 3.9MB/s eta 0:00:01\r\u001b[K     |█▏                              | 61kB 4.4MB/s eta 0:00:01\r\u001b[K     |█▎                              | 71kB 4.8MB/s eta 0:00:01\r\u001b[K     |█▌                              | 81kB 5.2MB/s eta 0:00:01\r\u001b[K     |█▊                              | 92kB 5.6MB/s eta 0:00:01\r\u001b[K     |█▉                              | 102kB 5.2MB/s eta 0:00:01\r\u001b[K     |██                              | 112kB 5.2MB/s eta 0:00:01\r\u001b[K     |██▎                             | 122kB 5.2MB/s eta 0:00:01\r\u001b[K     |██▍                             | 133kB 5.2MB/s eta 0:00:01\r\u001b[K     |██▋                             | 143kB 5.2MB/s eta 0:00:01\r\u001b[K     |██▉                             | 153kB 5.2MB/s eta 0:00:01\r\u001b[K     |███                             | 163kB 5.2MB/s eta 0:00:01\r\u001b[K     |███▏                            | 174kB 5.2MB/s eta 0:00:01\r\u001b[K     |███▍                            | 184kB 5.2MB/s eta 0:00:01\r\u001b[K     |███▌                            | 194kB 5.2MB/s eta 0:00:01\r\u001b[K     |███▊                            | 204kB 5.2MB/s eta 0:00:01\r\u001b[K     |████                            | 215kB 5.2MB/s eta 0:00:01\r\u001b[K     |████                            | 225kB 5.2MB/s eta 0:00:01\r\u001b[K     |████▎                           | 235kB 5.2MB/s eta 0:00:01\r\u001b[K     |████▌                           | 245kB 5.2MB/s eta 0:00:01\r\u001b[K     |████▋                           | 256kB 5.2MB/s eta 0:00:01\r\u001b[K     |████▉                           | 266kB 5.2MB/s eta 0:00:01\r\u001b[K     |█████                           | 276kB 5.2MB/s eta 0:00:01\r\u001b[K     |█████▏                          | 286kB 5.2MB/s eta 0:00:01\r\u001b[K     |█████▍                          | 296kB 5.2MB/s eta 0:00:01\r\u001b[K     |█████▋                          | 307kB 5.2MB/s eta 0:00:01\r\u001b[K     |█████▊                          | 317kB 5.2MB/s eta 0:00:01\r\u001b[K     |██████                          | 327kB 5.2MB/s eta 0:00:01\r\u001b[K     |██████▏                         | 337kB 5.2MB/s eta 0:00:01\r\u001b[K     |██████▎                         | 348kB 5.2MB/s eta 0:00:01\r\u001b[K     |██████▌                         | 358kB 5.2MB/s eta 0:00:01\r\u001b[K     |██████▊                         | 368kB 5.2MB/s eta 0:00:01\r\u001b[K     |██████▉                         | 378kB 5.2MB/s eta 0:00:01\r\u001b[K     |███████                         | 389kB 5.2MB/s eta 0:00:01\r\u001b[K     |███████▎                        | 399kB 5.2MB/s eta 0:00:01\r\u001b[K     |███████▍                        | 409kB 5.2MB/s eta 0:00:01\r\u001b[K     |███████▋                        | 419kB 5.2MB/s eta 0:00:01\r\u001b[K     |███████▉                        | 430kB 5.2MB/s eta 0:00:01\r\u001b[K     |████████                        | 440kB 5.2MB/s eta 0:00:01\r\u001b[K     |████████▏                       | 450kB 5.2MB/s eta 0:00:01\r\u001b[K     |████████▍                       | 460kB 5.2MB/s eta 0:00:01\r\u001b[K     |████████▌                       | 471kB 5.2MB/s eta 0:00:01\r\u001b[K     |████████▊                       | 481kB 5.2MB/s eta 0:00:01\r\u001b[K     |█████████                       | 491kB 5.2MB/s eta 0:00:01\r\u001b[K     |█████████                       | 501kB 5.2MB/s eta 0:00:01\r\u001b[K     |█████████▎                      | 512kB 5.2MB/s eta 0:00:01\r\u001b[K     |█████████▌                      | 522kB 5.2MB/s eta 0:00:01\r\u001b[K     |█████████▋                      | 532kB 5.2MB/s eta 0:00:01\r\u001b[K     |█████████▉                      | 542kB 5.2MB/s eta 0:00:01\r\u001b[K     |██████████                      | 552kB 5.2MB/s eta 0:00:01\r\u001b[K     |██████████▏                     | 563kB 5.2MB/s eta 0:00:01\r\u001b[K     |██████████▍                     | 573kB 5.2MB/s eta 0:00:01\r\u001b[K     |██████████▋                     | 583kB 5.2MB/s eta 0:00:01\r\u001b[K     |██████████▊                     | 593kB 5.2MB/s eta 0:00:01\r\u001b[K     |███████████                     | 604kB 5.2MB/s eta 0:00:01\r\u001b[K     |███████████▏                    | 614kB 5.2MB/s eta 0:00:01\r\u001b[K     |███████████▎                    | 624kB 5.2MB/s eta 0:00:01\r\u001b[K     |███████████▌                    | 634kB 5.2MB/s eta 0:00:01\r\u001b[K     |███████████▊                    | 645kB 5.2MB/s eta 0:00:01\r\u001b[K     |███████████▉                    | 655kB 5.2MB/s eta 0:00:01\r\u001b[K     |████████████                    | 665kB 5.2MB/s eta 0:00:01\r\u001b[K     |████████████▎                   | 675kB 5.2MB/s eta 0:00:01\r\u001b[K     |████████████▍                   | 686kB 5.2MB/s eta 0:00:01\r\u001b[K     |████████████▋                   | 696kB 5.2MB/s eta 0:00:01\r\u001b[K     |████████████▉                   | 706kB 5.2MB/s eta 0:00:01\r\u001b[K     |█████████████                   | 716kB 5.2MB/s eta 0:00:01\r\u001b[K     |█████████████▏                  | 727kB 5.2MB/s eta 0:00:01\r\u001b[K     |█████████████▍                  | 737kB 5.2MB/s eta 0:00:01\r\u001b[K     |█████████████▌                  | 747kB 5.2MB/s eta 0:00:01\r\u001b[K     |█████████████▊                  | 757kB 5.2MB/s eta 0:00:01\r\u001b[K     |██████████████                  | 768kB 5.2MB/s eta 0:00:01\r\u001b[K     |██████████████                  | 778kB 5.2MB/s eta 0:00:01\r\u001b[K     |██████████████▎                 | 788kB 5.2MB/s eta 0:00:01\r\u001b[K     |██████████████▌                 | 798kB 5.2MB/s eta 0:00:01\r\u001b[K     |██████████████▋                 | 808kB 5.2MB/s eta 0:00:01\r\u001b[K     |██████████████▉                 | 819kB 5.2MB/s eta 0:00:01\r\u001b[K     |███████████████                 | 829kB 5.2MB/s eta 0:00:01\r\u001b[K     |███████████████▏                | 839kB 5.2MB/s eta 0:00:01\r\u001b[K     |███████████████▍                | 849kB 5.2MB/s eta 0:00:01\r\u001b[K     |███████████████▋                | 860kB 5.2MB/s eta 0:00:01\r\u001b[K     |███████████████▊                | 870kB 5.2MB/s eta 0:00:01\r\u001b[K     |████████████████                | 880kB 5.2MB/s eta 0:00:01\r\u001b[K     |████████████████▏               | 890kB 5.2MB/s eta 0:00:01\r\u001b[K     |████████████████▎               | 901kB 5.2MB/s eta 0:00:01\r\u001b[K     |████████████████▌               | 911kB 5.2MB/s eta 0:00:01\r\u001b[K     |████████████████▊               | 921kB 5.2MB/s eta 0:00:01\r\u001b[K     |████████████████▉               | 931kB 5.2MB/s eta 0:00:01\r\u001b[K     |█████████████████               | 942kB 5.2MB/s eta 0:00:01\r\u001b[K     |█████████████████▎              | 952kB 5.2MB/s eta 0:00:01\r\u001b[K     |█████████████████▍              | 962kB 5.2MB/s eta 0:00:01\r\u001b[K     |█████████████████▋              | 972kB 5.2MB/s eta 0:00:01\r\u001b[K     |█████████████████▉              | 983kB 5.2MB/s eta 0:00:01\r\u001b[K     |██████████████████              | 993kB 5.2MB/s eta 0:00:01\r\u001b[K     |██████████████████▏             | 1.0MB 5.2MB/s eta 0:00:01\r\u001b[K     |██████████████████▍             | 1.0MB 5.2MB/s eta 0:00:01\r\u001b[K     |██████████████████▌             | 1.0MB 5.2MB/s eta 0:00:01\r\u001b[K     |██████████████████▊             | 1.0MB 5.2MB/s eta 0:00:01\r\u001b[K     |███████████████████             | 1.0MB 5.2MB/s eta 0:00:01\r\u001b[K     |███████████████████             | 1.1MB 5.2MB/s eta 0:00:01\r\u001b[K     |███████████████████▎            | 1.1MB 5.2MB/s eta 0:00:01\r\u001b[K     |███████████████████▌            | 1.1MB 5.2MB/s eta 0:00:01\r\u001b[K     |███████████████████▋            | 1.1MB 5.2MB/s eta 0:00:01\r\u001b[K     |███████████████████▉            | 1.1MB 5.2MB/s eta 0:00:01\r\u001b[K     |████████████████████            | 1.1MB 5.2MB/s eta 0:00:01\r\u001b[K     |████████████████████▏           | 1.1MB 5.2MB/s eta 0:00:01\r\u001b[K     |████████████████████▍           | 1.1MB 5.2MB/s eta 0:00:01\r\u001b[K     |████████████████████▋           | 1.1MB 5.2MB/s eta 0:00:01\r\u001b[K     |████████████████████▊           | 1.1MB 5.2MB/s eta 0:00:01\r\u001b[K     |█████████████████████           | 1.2MB 5.2MB/s eta 0:00:01\r\u001b[K     |█████████████████████▏          | 1.2MB 5.2MB/s eta 0:00:01\r\u001b[K     |█████████████████████▎          | 1.2MB 5.2MB/s eta 0:00:01\r\u001b[K     |█████████████████████▌          | 1.2MB 5.2MB/s eta 0:00:01\r\u001b[K     |█████████████████████▊          | 1.2MB 5.2MB/s eta 0:00:01\r\u001b[K     |█████████████████████▉          | 1.2MB 5.2MB/s eta 0:00:01\r\u001b[K     |██████████████████████          | 1.2MB 5.2MB/s eta 0:00:01\r\u001b[K     |██████████████████████▎         | 1.2MB 5.2MB/s eta 0:00:01\r\u001b[K     |██████████████████████▍         | 1.2MB 5.2MB/s eta 0:00:01\r\u001b[K     |██████████████████████▋         | 1.2MB 5.2MB/s eta 0:00:01\r\u001b[K     |██████████████████████▉         | 1.3MB 5.2MB/s eta 0:00:01\r\u001b[K     |███████████████████████         | 1.3MB 5.2MB/s eta 0:00:01\r\u001b[K     |███████████████████████▏        | 1.3MB 5.2MB/s eta 0:00:01\r\u001b[K     |███████████████████████▍        | 1.3MB 5.2MB/s eta 0:00:01\r\u001b[K     |███████████████████████▌        | 1.3MB 5.2MB/s eta 0:00:01\r\u001b[K     |███████████████████████▊        | 1.3MB 5.2MB/s eta 0:00:01\r\u001b[K     |████████████████████████        | 1.3MB 5.2MB/s eta 0:00:01\r\u001b[K     |████████████████████████        | 1.3MB 5.2MB/s eta 0:00:01\r\u001b[K     |████████████████████████▎       | 1.3MB 5.2MB/s eta 0:00:01\r\u001b[K     |████████████████████████▌       | 1.4MB 5.2MB/s eta 0:00:01\r\u001b[K     |████████████████████████▊       | 1.4MB 5.2MB/s eta 0:00:01\r\u001b[K     |████████████████████████▉       | 1.4MB 5.2MB/s eta 0:00:01\r\u001b[K     |█████████████████████████       | 1.4MB 5.2MB/s eta 0:00:01\r\u001b[K     |█████████████████████████▎      | 1.4MB 5.2MB/s eta 0:00:01\r\u001b[K     |█████████████████████████▍      | 1.4MB 5.2MB/s eta 0:00:01\r\u001b[K     |█████████████████████████▋      | 1.4MB 5.2MB/s eta 0:00:01\r\u001b[K     |█████████████████████████▉      | 1.4MB 5.2MB/s eta 0:00:01\r\u001b[K     |██████████████████████████      | 1.4MB 5.2MB/s eta 0:00:01\r\u001b[K     |██████████████████████████▏     | 1.4MB 5.2MB/s eta 0:00:01\r\u001b[K     |██████████████████████████▍     | 1.5MB 5.2MB/s eta 0:00:01\r\u001b[K     |██████████████████████████▌     | 1.5MB 5.2MB/s eta 0:00:01\r\u001b[K     |██████████████████████████▊     | 1.5MB 5.2MB/s eta 0:00:01\r\u001b[K     |███████████████████████████     | 1.5MB 5.2MB/s eta 0:00:01\r\u001b[K     |███████████████████████████     | 1.5MB 5.2MB/s eta 0:00:01\r\u001b[K     |███████████████████████████▎    | 1.5MB 5.2MB/s eta 0:00:01\r\u001b[K     |███████████████████████████▌    | 1.5MB 5.2MB/s eta 0:00:01\r\u001b[K     |███████████████████████████▋    | 1.5MB 5.2MB/s eta 0:00:01\r\u001b[K     |███████████████████████████▉    | 1.5MB 5.2MB/s eta 0:00:01\r\u001b[K     |████████████████████████████    | 1.5MB 5.2MB/s eta 0:00:01\r\u001b[K     |████████████████████████████▏   | 1.6MB 5.2MB/s eta 0:00:01\r\u001b[K     |████████████████████████████▍   | 1.6MB 5.2MB/s eta 0:00:01\r\u001b[K     |████████████████████████████▋   | 1.6MB 5.2MB/s eta 0:00:01\r\u001b[K     |████████████████████████████▊   | 1.6MB 5.2MB/s eta 0:00:01\r\u001b[K     |█████████████████████████████   | 1.6MB 5.2MB/s eta 0:00:01\r\u001b[K     |█████████████████████████████▏  | 1.6MB 5.2MB/s eta 0:00:01\r\u001b[K     |█████████████████████████████▎  | 1.6MB 5.2MB/s eta 0:00:01\r\u001b[K     |█████████████████████████████▌  | 1.6MB 5.2MB/s eta 0:00:01\r\u001b[K     |█████████████████████████████▊  | 1.6MB 5.2MB/s eta 0:00:01\r\u001b[K     |█████████████████████████████▉  | 1.6MB 5.2MB/s eta 0:00:01\r\u001b[K     |██████████████████████████████  | 1.7MB 5.2MB/s eta 0:00:01\r\u001b[K     |██████████████████████████████▎ | 1.7MB 5.2MB/s eta 0:00:01\r\u001b[K     |██████████████████████████████▍ | 1.7MB 5.2MB/s eta 0:00:01\r\u001b[K     |██████████████████████████████▋ | 1.7MB 5.2MB/s eta 0:00:01\r\u001b[K     |██████████████████████████████▉ | 1.7MB 5.2MB/s eta 0:00:01\r\u001b[K     |███████████████████████████████ | 1.7MB 5.2MB/s eta 0:00:01\r\u001b[K     |███████████████████████████████▏| 1.7MB 5.2MB/s eta 0:00:01\r\u001b[K     |███████████████████████████████▍| 1.7MB 5.2MB/s eta 0:00:01\r\u001b[K     |███████████████████████████████▌| 1.7MB 5.2MB/s eta 0:00:01\r\u001b[K     |███████████████████████████████▊| 1.8MB 5.2MB/s eta 0:00:01\r\u001b[K     |████████████████████████████████| 1.8MB 5.2MB/s eta 0:00:01\r\u001b[K     |████████████████████████████████| 1.8MB 5.2MB/s \n",
            "\u001b[?25hRequirement already satisfied: filelock in /usr/local/lib/python3.6/dist-packages (from transformers) (3.0.12)\n",
            "Requirement already satisfied: tqdm>=4.27 in /usr/local/lib/python3.6/dist-packages (from transformers) (4.41.1)\n",
            "Requirement already satisfied: importlib-metadata; python_version < \"3.8\" in /usr/local/lib/python3.6/dist-packages (from transformers) (3.4.0)\n",
            "Requirement already satisfied: numpy in /usr/local/lib/python3.6/dist-packages (from transformers) (1.19.5)\n",
            "Requirement already satisfied: packaging in /usr/local/lib/python3.6/dist-packages (from transformers) (20.8)\n",
            "Requirement already satisfied: regex!=2019.12.17 in /usr/local/lib/python3.6/dist-packages (from transformers) (2019.12.20)\n",
            "Requirement already satisfied: requests in /usr/local/lib/python3.6/dist-packages (from transformers) (2.23.0)\n",
            "Requirement already satisfied: dataclasses; python_version < \"3.7\" in /usr/local/lib/python3.6/dist-packages (from transformers) (0.8)\n",
            "Collecting tokenizers==0.9.4\n",
            "\u001b[?25l  Downloading https://files.pythonhosted.org/packages/0f/1c/e789a8b12e28be5bc1ce2156cf87cb522b379be9cadc7ad8091a4cc107c4/tokenizers-0.9.4-cp36-cp36m-manylinux2010_x86_64.whl (2.9MB)\n",
            "\u001b[K     |████████████████████████████████| 2.9MB 53.6MB/s \n",
            "\u001b[?25hRequirement already satisfied: sacremoses in /usr/local/lib/python3.6/dist-packages (from transformers) (0.0.43)\n",
            "Requirement already satisfied: zipp>=0.5 in /usr/local/lib/python3.6/dist-packages (from importlib-metadata; python_version < \"3.8\"->transformers) (3.4.0)\n",
            "Requirement already satisfied: typing-extensions>=3.6.4; python_version < \"3.8\" in /usr/local/lib/python3.6/dist-packages (from importlib-metadata; python_version < \"3.8\"->transformers) (3.7.4.3)\n",
            "Requirement already satisfied: pyparsing>=2.0.2 in /usr/local/lib/python3.6/dist-packages (from packaging->transformers) (2.4.7)\n",
            "Collecting urllib3!=1.25.0,!=1.25.1,<1.26,>=1.21.1\n",
            "\u001b[?25l  Downloading https://files.pythonhosted.org/packages/56/aa/4ef5aa67a9a62505db124a5cb5262332d1d4153462eb8fd89c9fa41e5d92/urllib3-1.25.11-py2.py3-none-any.whl (127kB)\n",
            "\u001b[K     |████████████████████████████████| 133kB 62.4MB/s \n",
            "\u001b[?25hRequirement already satisfied: chardet<4,>=3.0.2 in /usr/local/lib/python3.6/dist-packages (from requests->transformers) (3.0.4)\n",
            "Requirement already satisfied: certifi>=2017.4.17 in /usr/local/lib/python3.6/dist-packages (from requests->transformers) (2020.12.5)\n",
            "Requirement already satisfied: idna<3,>=2.5 in /usr/local/lib/python3.6/dist-packages (from requests->transformers) (2.10)\n",
            "Requirement already satisfied: joblib in /usr/local/lib/python3.6/dist-packages (from sacremoses->transformers) (1.0.0)\n",
            "Requirement already satisfied: click in /usr/local/lib/python3.6/dist-packages (from sacremoses->transformers) (7.1.2)\n",
            "Requirement already satisfied: six in /usr/local/lib/python3.6/dist-packages (from sacremoses->transformers) (1.15.0)\n",
            "\u001b[31mERROR: datascience 0.10.6 has requirement folium==0.2.1, but you'll have folium 0.8.3 which is incompatible.\u001b[0m\n",
            "Installing collected packages: tokenizers, transformers, urllib3\n",
            "  Found existing installation: urllib3 1.26.3\n",
            "    Uninstalling urllib3-1.26.3:\n",
            "      Successfully uninstalled urllib3-1.26.3\n",
            "Successfully installed tokenizers-0.9.4 transformers-4.2.2 urllib3-1.25.11\n"
          ],
          "name": "stdout"
        },
        {
          "output_type": "display_data",
          "data": {
            "application/vnd.colab-display-data+json": {
              "pip_warning": {
                "packages": [
                  "urllib3"
                ]
              }
            }
          },
          "metadata": {
            "tags": []
          }
        }
      ]
    },
    {
      "cell_type": "code",
      "metadata": {
        "id": "pVtI7NSd_6hA"
      },
      "source": [
        "from transformers import GPT2Tokenizer, GPT2LMHeadModel"
      ],
      "execution_count": null,
      "outputs": []
    },
    {
      "cell_type": "code",
      "metadata": {
        "id": "Ntu1aJ9B_1YX"
      },
      "source": [
        ""
      ],
      "execution_count": null,
      "outputs": []
    },
    {
      "cell_type": "code",
      "metadata": {
        "id": "qKmgShGY16T3",
        "colab": {
          "base_uri": "https://localhost:8080/"
        },
        "outputId": "e1d3cbf9-8dc8-41a3-d50d-0bbb49bd3581"
      },
      "source": [
        "encoder_config_class, encoder_model_class, encoder_tokenizer_class = MODEL_CLASSES[encoder_model_type]\n",
        "encoder_config = encoder_config_class.from_pretrained(encoder_model_name)\n",
        "model_encoder = encoder_model_class.from_pretrained(encoder_model_name, from_tf=bool('.ckpt' in encoder_model_name), config=encoder_config, latent_size=32)\n",
        "tokenizer_encoder = encoder_tokentokenizer_encoder = encoder_tokenizer_class.from_pretrained(encoder_model_name)\n",
        "decoder_config_class, decoder_model_class, decoder_tokenizer_class = MODEL_CLASSES[decoder_model_type]\n",
        "decoder_config = decoder_config_class.from_pretrained(decoder_model_name)\n",
        "tokenizer_decoder = decoder_tokenizer_class.from_pretrained(decoder_model_name)\n",
        "model_decoder = decoder_model_class.from_pretrained(decoder_model_name, from_tf=bool('.ckpt' in decoder_model_name), config=decoder_config, latent_size=32, latent_as_gpt_emb=True, latent_as_gpt_memory=True)"
      ],
      "execution_count": null,
      "outputs": [
        {
          "output_type": "stream",
          "text": [
            "100%|██████████| 433/433 [00:00<00:00, 137139.14B/s]\n",
            "100%|██████████| 435779157/435779157 [00:11<00:00, 36726943.97B/s]\n",
            "100%|██████████| 213450/213450 [00:00<00:00, 1102470.24B/s]\n",
            "100%|██████████| 665/665 [00:00<00:00, 196644.96B/s]\n",
            "100%|██████████| 1042301/1042301 [00:00<00:00, 2721086.34B/s]\n",
            "100%|██████████| 456318/456318 [00:00<00:00, 1749200.23B/s]\n",
            "100%|██████████| 548118077/548118077 [00:25<00:00, 21498523.45B/s]\n"
          ],
          "name": "stderr"
        }
      ]
    },
    {
      "cell_type": "code",
      "metadata": {
        "id": "SDy0Wc-xLVoM",
        "colab": {
          "base_uri": "https://localhost:8080/",
          "height": 114,
          "referenced_widgets": [
            "1648362610c44656b6741c052c04ae24",
            "5cb92b6abdad452d9710cb8f693753ed",
            "78f90cb4b01e482ba48686f8a57be0d4",
            "1b92e7af994149e4b03ce05ecccecd11",
            "715d3cc2bf4446daa5a10f5fdac9aa58",
            "d9c1cf09d01c4945b443a6d7211486ea",
            "078697a1750c443994aa824930111518",
            "6a3ba248cb6b47878c091870cb86f9e2",
            "d207b1a024f64353832158c7994465e3",
            "69d9eda5f4e94a1baed2eece29646db4",
            "eee1917e946747b385a7c26aa2a5a457",
            "fb71c92226324fe5817fbd41065b0b21",
            "98fbe26f890a48669286b7d743b34461",
            "7a3bca23bf074237b46f318901a65f4e",
            "ae9428a0ac6f46a38ce2239153c86413",
            "0cec9a9ba7694970888c47745f2095ed"
          ]
        },
        "outputId": "2bf3b5ba-d72b-4acf-cc61-39ac72a7fe02"
      },
      "source": [
        "from transformers import GPT2Tokenizer\n",
        "tokenizer_decoder2 = GPT2Tokenizer.from_pretrained(\"gpt2\")"
      ],
      "execution_count": null,
      "outputs": [
        {
          "output_type": "display_data",
          "data": {
            "application/vnd.jupyter.widget-view+json": {
              "model_id": "1648362610c44656b6741c052c04ae24",
              "version_minor": 0,
              "version_major": 2
            },
            "text/plain": [
              "HBox(children=(FloatProgress(value=0.0, description='Downloading', max=1042301.0, style=ProgressStyle(descript…"
            ]
          },
          "metadata": {
            "tags": []
          }
        },
        {
          "output_type": "stream",
          "text": [
            "\n"
          ],
          "name": "stdout"
        },
        {
          "output_type": "display_data",
          "data": {
            "application/vnd.jupyter.widget-view+json": {
              "model_id": "d207b1a024f64353832158c7994465e3",
              "version_minor": 0,
              "version_major": 2
            },
            "text/plain": [
              "HBox(children=(FloatProgress(value=0.0, description='Downloading', max=456318.0, style=ProgressStyle(descripti…"
            ]
          },
          "metadata": {
            "tags": []
          }
        },
        {
          "output_type": "stream",
          "text": [
            "\n"
          ],
          "name": "stdout"
        }
      ]
    },
    {
      "cell_type": "code",
      "metadata": {
        "id": "YeBSlJkK16Wy",
        "colab": {
          "base_uri": "https://localhost:8080/"
        },
        "outputId": "81fe440d-3c77-4ee9-f02c-4eb5f0a16e2d"
      },
      "source": [
        "special_tokens_dict = {'pad_token': '<PAD>', 'bos_token': '<BOS>', 'eos_token': '<EOS>'}\n",
        "num_added_toks = tokenizer_decoder.add_special_tokens(special_tokens_dict)\n",
        "print('We have added', num_added_toks, 'tokens to GPT2', 'total length = ', len(tokenizer_decoder))\n",
        "model_decoder.resize_token_embeddings(len(tokenizer_decoder))  # Notice: resize_token_embeddings expect to receive the full size of the new vocabulary, i.e. the length of the tokenizer.\n",
        "assert tokenizer_decoder.pad_token == '<PAD>'\n",
        "\n",
        "num_added_toks = tokenizer_decoder2.add_special_tokens(special_tokens_dict)\n",
        "print('We have added', num_added_toks, 'tokens to GPT2', 'total length = ', len(tokenizer_decoder2))\n",
        "model_decoder.resize_token_embeddings(len(tokenizer_decoder2))  # Notice: resize_token_embeddings expect to receive the full size of the new vocabulary, i.e. the length of the tokenizer.\n",
        "assert tokenizer_decoder.pad_token == '<PAD>'"
      ],
      "execution_count": null,
      "outputs": [
        {
          "output_type": "stream",
          "text": [
            "We have added 3 tokens to GPT2 total length =  50260\n",
            "We have added 3 tokens to GPT2 total length =  50260\n"
          ],
          "name": "stdout"
        }
      ]
    },
    {
      "cell_type": "code",
      "metadata": {
        "id": "YbNzHW-R16Zu"
      },
      "source": [
        "import importlib\n",
        "import imp\n",
        "#import modules\n",
        "#import modules\n",
        "importlib.reload(modules)\n",
        "\n",
        "class ARGS():\n",
        "    def __init__(self): # \n",
        "        self.encoder_model_type = 'bert'\n",
        "        self.encoder_model_name = 'bert-base-cased'\n",
        "        self.decoder_model_type= 'gpt2'\n",
        "        self.decoder_model_name = 'gpt2'\n",
        "        self.beta = 0.5\n",
        "        self.latent_size = 32\n",
        "        self.device = \"cpu\"\n",
        "        self.fb_mode = 0\n",
        "        self.length_weighted_loss = True \n",
        "        self.label_size = 5\n",
        "        self.mlm_probability = 0.15\n",
        "        \n",
        "args = ARGS()\n",
        "#model_vae = modules.CARA(model_encoder, model_decoder, tokenizer_encoder, tokenizer_decoder, args)"
      ],
      "execution_count": null,
      "outputs": []
    },
    {
      "cell_type": "code",
      "metadata": {
        "id": "QhSqx7uD2Te5"
      },
      "source": [
        "a = torch.load(\"/content/drive/My Drive/Optimus/NLP/checkpoint-508523/checkpoint-full-508523/training.bin\", map_location='cpu')\n",
        "#model_vae.load_state_dict(a['model_state_dict'], strict = False)"
      ],
      "execution_count": null,
      "outputs": []
    },
    {
      "cell_type": "code",
      "metadata": {
        "id": "KEyJmS-QFp7e"
      },
      "source": [
        "polarity = torch.load(\"/content/drive/My Drive/Optimus/NLP/polarity.pth\", map_location='cpu')\n",
        "id_tokens = torch.load(\"/content/drive/My Drive/Optimus/NLP/id_tokens.pth\", map_location='cpu')\n",
        "id_tokens_decoder = torch.load(\"/content/drive/My Drive/Optimus/NLP/id_tokens_decoder.pth\", map_location='cpu')"
      ],
      "execution_count": null,
      "outputs": []
    },
    {
      "cell_type": "code",
      "metadata": {
        "id": "HJvSnFGy2Thz"
      },
      "source": [
        "def pad_sents(sents1, sents2, pad_token1, pad_token2):\n",
        "    \"\"\" Pad list of sentences according to the longest sentence in the batch.\n",
        "        The paddings should be at the end of each sentence.\n",
        "    @param sents (list[list[str]]): list of sentences, where each sentence\n",
        "                                    is represented as a list of words\n",
        "    @param pad_token (str): padding token\n",
        "    @returns sents_padded (list[list[str]]): list of sentences where sentences shorter\n",
        "        than the max length sentence are padded out with the pad_token, such that\n",
        "        each sentences in the batch now has equal length.\n",
        "    \"\"\"\n",
        "    sents_padded1 = sents1.copy()\n",
        "    sents_padded2 = sents2.copy()\n",
        "    max_length = 0\n",
        "    for i in range(len(sents1)):\n",
        "        if len(sents1[i]) > max_length:\n",
        "            max_length = len(sents1[i]) \n",
        "  \n",
        "    for i in range(len(sents2)):\n",
        "        if len(sents2[i]) > max_length:\n",
        "            max_length = len(sents2[i]) \n",
        "\n",
        "    for i in range(len(sents1)):\n",
        "        for k in range(len(sents_padded1[i]),max_length):\n",
        "            sents_padded1[i].append(pad_token1)\n",
        "\n",
        "    for i in range(len(sents2)):\n",
        "        for k in range(len(sents_padded2[i]),max_length):\n",
        "            sents_padded2[i].append(pad_token2)\n",
        "\n",
        "    ### END YOUR CODE\n",
        "\n",
        "    return sents_padded1, sents_padded2 \n",
        "\n"
      ],
      "execution_count": null,
      "outputs": []
    },
    {
      "cell_type": "code",
      "metadata": {
        "id": "f8gRzFXB2Tk8",
        "colab": {
          "base_uri": "https://localhost:8080/"
        },
        "outputId": "31a99f04-3e19-4638-c334-010cce09fc37"
      },
      "source": [
        "padded_input_tokens, padded_output_tokens = pad_sents(id_tokens,id_tokens_decoder, 0, tokenizer_decoder.pad_token_id)\n",
        "tokenized_text0 = torch.tensor(padded_input_tokens)\n",
        "tokenized_text1 = torch.tensor(padded_output_tokens)\n",
        "\n",
        "input_seq_ids, tgt_seq_ids = mask_tokens(tokenized_text0, tokenizer_encoder, args)\n",
        "labels = tokenized_text1\n",
        "attention_mask=(input_seq_ids > 0).float() # confirm whether attention mask should be with inputs or tokenized_text"
      ],
      "execution_count": null,
      "outputs": [
        {
          "output_type": "stream",
          "text": [
            "/usr/local/lib/python3.6/dist-packages/ipykernel_launcher.py:16: UserWarning: indexing with dtype torch.uint8 is now deprecated, please use a dtype torch.bool instead. (Triggered internally at  /pytorch/aten/src/ATen/native/IndexingUtils.h:25.)\n",
            "  app.launch_new_instance()\n",
            "/usr/local/lib/python3.6/dist-packages/ipykernel_launcher.py:22: UserWarning: indexing with dtype torch.uint8 is now deprecated, please use a dtype torch.bool instead. (Triggered internally at  /pytorch/aten/src/ATen/native/IndexingUtils.h:25.)\n"
          ],
          "name": "stderr"
        }
      ]
    },
    {
      "cell_type": "code",
      "metadata": {
        "id": "qAT0QQGm3tGw"
      },
      "source": [
        "import importlib\n",
        "import imp\n",
        "#import modules\n",
        "#import modules\n",
        "importlib.reload(modules)\n",
        "\n",
        "class ARGS():\n",
        "    def __init__(self): # \n",
        "        self.encoder_model_type = 'bert'\n",
        "        self.encoder_model_name = 'bert-base-cased'\n",
        "        self.decoder_model_type= 'gpt2'\n",
        "        self.decoder_model_name = 'gpt2'\n",
        "        self.beta = 0.5\n",
        "        self.latent_size = 32\n",
        "        self.device = \"cuda\"\n",
        "        self.fb_mode = 0\n",
        "        self.length_weighted_loss = True \n",
        "        self.label_size = 5\n",
        "        self.beta_cls = 1\n",
        "        self.mlm_probability = 0.15\n",
        "        #self.training = False\n",
        "        self.training = False\n",
        "        self.block_size = 52\n",
        "        self.temperature = 1\n",
        "        self.top_k = 3\n",
        "        self.top_p = 0\n",
        "\n",
        "args = ARGS()\n",
        "model_vae = modules.CARA(model_encoder, model_decoder, tokenizer_encoder, tokenizer_decoder, args)\n",
        "\n",
        "\n",
        "a = torch.load(\"/content/drive/My Drive/Optimus/NLP/checkpoint-508523/checkpoint_beta_0_1.pth\", map_location='cpu')\n",
        "model_vae.load_state_dict(a, strict = False)\n",
        "del a\n",
        "#a = torch.load(\"/content/drive/My Drive/Optimus/NLP/checkpoint-508523/checkpoint-full-508523/training.bin\", map_location='cpu')\n",
        "\n",
        "#r = model_vae(input_seq_ids=input_seq_ids[3:5], tgt_seq_ids=labels[3:5], cond_labels=torch.tensor(polarity).squeeze()[3:5], attention_mask=attention_mask[3:5])"
      ],
      "execution_count": null,
      "outputs": []
    },
    {
      "cell_type": "code",
      "metadata": {
        "id": "u_NRhzi4pu-i",
        "colab": {
          "base_uri": "https://localhost:8080/"
        },
        "outputId": "bb196d85-46bd-4db3-e137-506f4c8135f0"
      },
      "source": [
        "model_vae.load_state_dict(a['model_state_dict'], strict = False)"
      ],
      "execution_count": null,
      "outputs": [
        {
          "output_type": "execute_result",
          "data": {
            "text/plain": [
              "_IncompatibleKeys(missing_keys=['linear.weight', 'label_embedding.weight', 'latent_generator.weight', 'latent_generator.bias', 'latent_classifier.linear1.weight', 'latent_classifier.linear1.bias', 'latent_classifier.linear2.weight', 'latent_classifier.linear2.bias', 'latent_discriminator.weight', 'latent_discriminator.bias', 'gpt_embeddings.weight', 'conv1.weight', 'conv1.bias', 'classifier.linear1.weight', 'classifier.linear1.bias', 'classifier.linear2.weight', 'classifier.linear2.bias'], unexpected_keys=[])"
            ]
          },
          "metadata": {
            "tags": []
          },
          "execution_count": 45
        }
      ]
    },
    {
      "cell_type": "code",
      "metadata": {
        "id": "RBQnzwpvgWFd"
      },
      "source": [
        "del a "
      ],
      "execution_count": null,
      "outputs": []
    },
    {
      "cell_type": "code",
      "metadata": {
        "id": "5mq-2KERtdwh"
      },
      "source": [
        "model_vae.training = False\n",
        "model_vae = model_vae.to(\"cuda\")\n",
        "dev = \"cuda\"\n",
        "#outputs = model_vae(input_seq_ids=input_seq_ids[13:25].to(dev), tgt_seq_ids=labels[13:25].to(dev), cond_labels=aspects_tensor.squeeze()[13:25].to(dev), attention_mask=attention_mask[13:25].to(dev))"
      ],
      "execution_count": null,
      "outputs": []
    },
    {
      "cell_type": "code",
      "metadata": {
        "id": "9W7bS7ZZ0tM5"
      },
      "source": [
        ""
      ],
      "execution_count": null,
      "outputs": []
    },
    {
      "cell_type": "code",
      "metadata": {
        "id": "qV3uvZpZ3ume"
      },
      "source": [
        "no_decay = ['bias', 'LayerNorm.weight']\n",
        "\n",
        "optimizer_grouped_parameters = [\n",
        "        {'params': [p for n, p in model_vae.named_parameters() if any(nd in n for nd in no_decay)], 'weight_decay': 0.0}\n",
        "        ]\n",
        "optimizer = AdamW(optimizer_grouped_parameters, lr=5e-5,eps=1e-8)\n",
        "\n",
        "#input_seq_ids = input_seq_ids.to('cuda')\n",
        "#labels = labels.to('cuda')\n",
        "#model_vae.to('cuda')"
      ],
      "execution_count": null,
      "outputs": []
    },
    {
      "cell_type": "code",
      "metadata": {
        "colab": {
          "base_uri": "https://localhost:8080/"
        },
        "id": "BFh__C9Zkq5o",
        "outputId": "c21bea5b-758f-46b4-bfc9-b19662f930ad"
      },
      "source": [
        "len(optimizer_grouped_parameters[0]['params'])"
      ],
      "execution_count": null,
      "outputs": [
        {
          "output_type": "execute_result",
          "data": {
            "text/plain": [
              "203"
            ]
          },
          "metadata": {
            "tags": []
          },
          "execution_count": 42
        }
      ]
    },
    {
      "cell_type": "markdown",
      "metadata": {
        "id": "jORz0fxqvXVo"
      },
      "source": [
        "Training\n"
      ]
    },
    {
      "cell_type": "code",
      "metadata": {
        "id": "25WwiVnYvY9i"
      },
      "source": [
        "tokens_tensor = tokenized_text0\n",
        "input_seq_ids, tgt_seq_ids = mask_tokens(tokenized_text0, tokenizer_encoder, args)\n",
        "labels = tokenized_text1\n",
        "model_vae.to('cuda')\n",
        "polarity_tensor = torch.tensor(polarity).squeeze()\n",
        "attention_mask = attention_mask.to('cuda')\n",
        "input_seq_ids = input_seq_ids.to('cuda')\n",
        "labels = labels.to('cuda')\n",
        "polarity_tensor = polarity_tensor.to('cuda')\n",
        "n_epochs = 1\n",
        "batch_size = 16\n",
        "n_iter = int(tokenized_text0.size()[0]/batch_size) + 1\n",
        "beta_t_list = frange_cycle_zero_linear(n_iter, start=0.0, stop=0.5,  n_cycle=1, ratio_increase=0.25, ratio_zero= 0.25)\n",
        "scheduler = WarmupLinearSchedule(optimizer, warmup_steps=0, t_total=n_iter)\n",
        "loss_val = []\n",
        "permutation = torch.randperm(tokens_tensor.size()[0]).to('cuda')\n",
        "\n",
        "for epoch in range(n_epochs):\n",
        "    start1 = time.time()\n",
        "    # X is a torch Variable\n",
        "    #permutation = torch.randperm(tokens_tensor_train.size()[0])\n",
        "    #avg_loss = 0\n",
        "    count = 0\n",
        "    for i in range(0,tokens_tensor.size()[0], batch_size):\n",
        "        start = time.time()\n",
        "        optimizer.zero_grad()\n",
        "        indices = permutation[i:i+batch_size]\n",
        "        batch_input_seq_ids, batch_tgt_seq_ids, batch_cond_labels, batch_attention = input_seq_ids[indices], labels[indices], polarity_tensor[indices], attention_mask[indices] \n",
        "        beta_t = beta_t_list[count]\n",
        "        model_vae.args.beta_cls = beta_t\n",
        "\n",
        "        #if beta_t == 0.0:\n",
        "        #  model_vae.args.fb_mode = 0\n",
        "        #else:\n",
        "        #  model_vae.args.fb_mode = 1\n",
        "\n",
        "        #model_vae.args.fb_mode = 2\n",
        "\n",
        "        loss_dict, acc_dict = model_vae(input_seq_ids=batch_input_seq_ids, tgt_seq_ids=batch_tgt_seq_ids, cond_labels=batch_cond_labels, attention_mask=batch_attention)\n",
        "\n",
        "        for key, value in loss_dict.items():\n",
        "          loss_dict[key] = value.mean()\n",
        "        \n",
        "        loss = loss_dict['loss']\n",
        "        loss_val.append(loss.detach())\n",
        "        loss.backward()\n",
        "        optimizer.step()\n",
        "        scheduler.step()  # Update learning rate schedule\n",
        "        model_vae.zero_grad()\n",
        "        \n",
        "        \n",
        "\n",
        "        if count%50 == 0:\n",
        "          print((time.time()-start1)/60)\n",
        "          print(loss_dict.items())\n",
        "        count = count + 1\n",
        "\n",
        "    "
      ],
      "execution_count": null,
      "outputs": []
    },
    {
      "cell_type": "markdown",
      "metadata": {
        "id": "ikOuhZJ4wMVC"
      },
      "source": [
        "Loss Values for different training Conditions\n"
      ]
    },
    {
      "cell_type": "code",
      "metadata": {
        "id": "BDVWGgy6FLMu"
      },
      "source": [
        "plt.plot(loss_val)"
      ],
      "execution_count": null,
      "outputs": []
    },
    {
      "cell_type": "markdown",
      "metadata": {
        "id": "qoamU1xdE4ZD"
      },
      "source": [
        "![uninitialized.png](data:image/png;base64,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)"
      ]
    },
    {
      "cell_type": "markdown",
      "metadata": {
        "id": "TxaCOcIzv_wF"
      },
      "source": [
        "Generate Text\n"
      ]
    },
    {
      "cell_type": "code",
      "metadata": {
        "id": "5JudKHNVv-oE"
      },
      "source": [
        "dev = \"cuda\"\n",
        "eos_token_id = tokenizer_decoder2.eos_token_id\n",
        "bos_token_id = tokenizer_decoder2.bos_token_id\n",
        "pad_token_id = tokenizer_decoder2.pad_token_id\n",
        "\n",
        "tokens_tensor = tokenized_text0[:64]\n",
        "input_seq_ids, tgt_seq_ids = mask_tokens(tokenized_text0, tokenizer_encoder, args)\n",
        "labels = tokenized_text1[:64]\n",
        "attention_mask_temp = attention_mask[:64]\n",
        "#model_test.to(dev)\n",
        "model_vae2.to(dev)\n",
        "#aspects_tensor = torch.tensor(aspects).squeeze()\n",
        "attention_mask = attention_mask.to(dev)\n",
        "input_seq_ids = input_seq_ids.to(dev)\n",
        "labels = labels.to(dev)\n",
        "aspects_tensor = aspects_tensor.to(dev)\n",
        "n_epochs = 1\n",
        "batch_size = 4\n",
        "n_iter = int(tokenized_text0.size()[0]/batch_size) + 1\n",
        "#beta_t_list = frange_cycle_zero_linear(n_iter, start=0.0, stop=0.5,  n_cycle=1, ratio_increase=0.25, ratio_zero= 0.25)\n",
        "#scheduler = WarmupLinearSchedule(optimizer, warmup_steps=0, t_total=n_iter)\n",
        "loss_val = []\n",
        "acc_cls_val = []\n",
        "permutation = torch.randperm(tokens_tensor.size()[0]).to(dev)\n",
        "accuracy = []\n",
        "bleu = []\n",
        "\n",
        "for epoch in range(n_epochs):\n",
        "    start1 = time.time()\n",
        "    # X is a torch Variable\n",
        "    #permutation = torch.randperm(tokens_tensor_train.size()[0])\n",
        "    #avg_loss = 0\n",
        "    count = 0\n",
        "    for i in range(0,tokens_tensor.size()[0], batch_size):\n",
        "        start = time.time()\n",
        "        indices = permutation[i:i+batch_size]\n",
        "        batch_input_seq_ids, batch_tgt_seq_ids, batch_cond_labels, batch_attention = input_seq_ids[indices], labels[indices], aspects_tensor[indices,0].long(), attention_mask[indices] \n",
        "        \n",
        "        with torch.no_grad():\n",
        "            outputs = model_vae2(input_seq_ids=batch_input_seq_ids, tgt_seq_ids=batch_tgt_seq_ids, cond_labels=batch_cond_labels, attention_mask=batch_attention)\n",
        "\n",
        "        acc = np.mean(np.array(np.array(outputs['pred_cls'].to('cpu')) == np.array(outputs['cond_labels'].to('cpu')), dtype=np.float))\n",
        "        acc_ge = np.mean(np.array(np.array(outputs['pred_ge_cls'].to('cpu')) == np.array(outputs['cond_labels'].to('cpu')), dtype=np.float))\n",
        "        acc_at = np.mean(np.array(np.array(outputs['pred_at_cls'].to('cpu')) == np.array(outputs['sampled_cond_labels'].to('cpu')), dtype=np.float))\n",
        "        acc_cg = np.mean(np.array(np.array(outputs['pred_cg_cls'].to('cpu')) == np.array(outputs['sampled_cond_labels'].to('cpu')), dtype=np.float))\n",
        "        accuracy.append(acc)\n",
        "\n",
        "        generated_ids = []\n",
        "        generated_text = []\n",
        "        for g in outputs['generated']:\n",
        "            if g[0] in [eos_token_id, bos_token_id]:\n",
        "                g = g[1:]\n",
        "            if g[0] in [eos_token_id, bos_token_id]:\n",
        "                g = g[1:]\n",
        "                \n",
        "            g = g.tolist()\n",
        "            g = g[:g.index(eos_token_id)] if eos_token_id in g else g\n",
        "            g = g[:g.index(pad_token_id)] if pad_token_id in g else g\n",
        "            g_text = model_vae.tokenizer_decoder.decode(g, clean_up_tokenization_spaces=True)\n",
        "            generated_ids.append(g)\n",
        "            generated_text.append(g_text)\n",
        "\n",
        "        tgt_seq_ids = []\n",
        "        tgt_seq_text = []\n",
        "        for g in outputs['tgt_seq_ids']:\n",
        "            if g[0] in [eos_token_id, bos_token_id]:\n",
        "                g = g[1:]\n",
        "            if g[0] in [eos_token_id, bos_token_id]:\n",
        "                g = g[1:]\n",
        "            g = g.tolist()\n",
        "            g = g[:g.index(eos_token_id)] if eos_token_id in g else g\n",
        "            g = g[:g.index(pad_token_id)] if pad_token_id in g else g\n",
        "            #g = g[:g.index(0)] if pad_token_id in g else g\n",
        "            g_text = model_vae.tokenizer_decoder.decode(g, clean_up_tokenization_spaces=True)\n",
        "            tgt_seq_ids.append(g)\n",
        "            tgt_seq_text.append(g_text)\n",
        "\n",
        "        rec_bleu = nltk.translate.bleu_score.corpus_bleu(list_of_references=[[nltk.word_tokenize(t)] for t in tgt_seq_text],\n",
        "                                                     hypotheses=[nltk.word_tokenize(g) for g in generated_text])\n",
        "        \n",
        "        bleu.append(rec_bleu)\n",
        "        count = count+1\n",
        "        print(count)\n"
      ],
      "execution_count": null,
      "outputs": []
    },
    {
      "cell_type": "code",
      "metadata": {
        "id": "J_8XcvCaPBy9"
      },
      "source": [
        ""
      ],
      "execution_count": null,
      "outputs": []
    }
  ]
}